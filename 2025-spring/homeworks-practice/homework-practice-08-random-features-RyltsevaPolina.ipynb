{
 "cells": [
  {
   "cell_type": "markdown",
   "metadata": {
    "id": "RYp0bXOFK-hP"
   },
   "source": [
    "# Машинное обучение, ФКН ВШЭ\n",
    "\n",
    "## Практическое задание 8. Метод опорных векторов и аппроксимация ядер\n",
    "\n",
    "### Общая информация\n",
    "\n",
    "Дата выдачи: 30.01.2025\n",
    "\n",
    "Мягкий дедлайн: 23:59MSK 16.02.2025\n",
    "\n",
    "Жесткий дедлайн: 23:59MSK 23.02.2025\n",
    "\n",
    "### Оценивание и штрафы\n",
    "Каждая из задач имеет определенную «стоимость» (указана в скобках около задачи). Максимальная оценка за работу (без учёта бонусов) — 10 баллов.\n",
    "\n",
    "Сдавать задание после указанного жёсткого срока сдачи нельзя. При выставлении неполного балла за задание в связи с наличием ошибок на усмотрение проверяющего предусмотрена возможность исправить работу на указанных в ответном письме условиях.\n",
    "\n",
    "Задание выполняется самостоятельно. «Похожие» решения считаются плагиатом и все задействованные студенты (в том числе те, у кого списали) не могут получить за него больше 0 баллов (подробнее о плагиате см. на странице курса). Если вы нашли решение какого-то из заданий (или его часть) в открытом источнике, необходимо указать ссылку на этот источник в отдельном блоке в конце вашей работы (скорее всего вы будете не единственным, кто это нашел, поэтому чтобы исключить подозрение в плагиате, необходима ссылка на источник). \n",
    "\n",
    "Использование генеративных языковых моделей разрешено только в случае явного указания на это. Необходимо прописать (в соответствующих пунктах, где использовались, либо в начале/конце работы):\n",
    "- какая языковая модель использовалась\n",
    "- какие использовались промпты и в каких частях работы\n",
    "- с какими сложностями вы столкнулись при использовании генеративных моделей, с чем они помогли больше всего\n",
    "\n",
    "Неэффективная реализация кода может негативно отразиться на оценке.\n",
    "\n",
    "### Формат сдачи\n",
    "Задания сдаются через систему anytask. Посылка должна содержать:\n",
    "* Ноутбук homework-practice-08-random-features-Username.ipynb\n",
    "\n",
    "Username — ваша фамилия и имя на латинице именно в таком порядке"
   ]
  },
  {
   "cell_type": "markdown",
   "metadata": {
    "id": "vY8vT0W_K-hR"
   },
   "source": [
    "### О задании\n",
    "\n",
    "На занятиях мы подробно обсуждали метод опорных векторов (SVM). В базовой версии в нём нет чего-то особенного — мы всего лишь используем специальную функцию потерь, которая не требует устремлять отступы к бесконечности; ей достаточно, чтобы отступы были не меньше +1. Затем мы узнали, что SVM можно переписать в двойственном виде, который, позволяет заменить скалярные произведения объектов на ядра. Это будет соответствовать построению модели в новом пространстве более высокой размерности, координаты которого представляют собой нелинейные модификации исходных признаков.\n",
    "\n",
    "Ядровой SVM, к сожалению, довольно затратен по памяти (нужно хранить матрицу Грама размера $d \\times d$) и по времени (нужно решать задачу условной оптимизации с квадратичной функцией, а это не очень быстро). Мы обсуждали, что есть способы посчитать новые признаки $\\tilde \\varphi(x)$ на основе исходных так, что скалярные произведения этих новых $\\langle \\tilde \\varphi(x), \\tilde \\varphi(z) \\rangle$ приближают ядро $K(x, z)$.\n",
    "\n",
    "Мы будем исследовать аппроксимации методом Random Fourier Features (RFF, также в литературе встречается название Random Kitchen Sinks) для гауссовых ядер. Будем использовать формулы, которые немного отличаются от того, что было на лекциях (мы добавим сдвиги внутрь тригонометрических функций и будем использовать только косинусы, потому что с нужным сдвигом косинус превратится в синус):\n",
    "$$\\tilde \\varphi(x) = (\n",
    "\\cos (w_1^T x + b_1),\n",
    "\\dots,\n",
    "\\cos (w_n^T x + b_n)\n",
    "),$$\n",
    "где $w_j \\sim \\mathcal{N}(0, 1/\\sigma^2)$, $b_j \\sim U[-\\pi, \\pi]$.\n",
    "\n",
    "На новых признаках $\\tilde \\varphi(x)$ мы будем строить любую линейную модель.\n",
    "\n",
    "Можно считать, что это некоторая новая парадигма построения сложных моделей. Можно направленно искать сложные нелинейные закономерности в данных с помощью градиентного бустинга или нейронных сетей, а можно просто нагенерировать большое количество случайных нелинейных признаков и надеяться, что быстрая и простая модель (то есть линейная) сможет показать на них хорошее качество. В этом задании мы изучим, насколько работоспособна такая идея.\n",
    "\n",
    "### Алгоритм\n",
    "\n",
    "Вам потребуется реализовать следующий алгоритм:\n",
    "1. Понизить размерность выборки до new_dim с помощью метода главных компонент.\n",
    "2. Для полученной выборки оценить гиперпараметр $\\sigma^2$ с помощью эвристики (рекомендуем считать медиану не по всем парам объектов, а по случайному подмножеству из где-то миллиона пар объектов): $$\\sigma^2 = \\text{median}_{i, j = 1, \\dots, \\ell, i \\neq j} \\left\\{\\sum_{k = 1}^{d} (x_{ik} - x_{jk})^2 \\right\\}$$\n",
    "3. Сгенерировать n_features наборов весов $w_j$ и сдвигов $b_j$.\n",
    "4. Сформировать n_features новых признаков по формулам, приведённым выше.\n",
    "5. Обучить линейную модель (логистическую регрессию или SVM) на новых признаках.\n",
    "6. Повторить преобразования (PCA, формирование новых признаков) к тестовой выборке и применить модель."
   ]
  },
  {
   "cell_type": "code",
   "execution_count": 1,
   "metadata": {},
   "outputs": [],
   "source": [
    "%load_ext autoreload\n",
    "%autoreload 2"
   ]
  },
  {
   "cell_type": "markdown",
   "metadata": {
    "id": "N_sGunb7K-hS"
   },
   "source": [
    "Тестировать алгоритм мы будем на данных Fashion MNIST. Ниже код для их загрузки и подготовки."
   ]
  },
  {
   "cell_type": "code",
   "execution_count": 2,
   "metadata": {
    "id": "YyG6dBfjK-hS"
   },
   "outputs": [],
   "source": [
    "import numpy as np\n",
    "\n",
    "# 1 Способ \n",
    "#import keras\n",
    "#from keras.datasets import fashion_mnist\n",
    "#(x_train_pics, y_train), (x_test_pics, y_test) = fashion_mnist.load_data()\n",
    "\n",
    "# 2 Способ (если первый не работает)\n",
    "from sklearn.datasets import fetch_openml\n",
    "def load_fashion_mnist():\n",
    "     X, y = fetch_openml('Fashion-MNIST', version=1, return_X_y=True, as_frame=False)\n",
    "     X = X.reshape(-1, 28, 28).astype('uint8')\n",
    "     y = y.astype('int64')\n",
    "     x_train, x_test = X[:60000], X[60000:]\n",
    "     y_train, y_test = y[:60000], y[60000:]\n",
    "     return (x_train, y_train), (x_test, y_test)\n",
    "(x_train_pics, y_train), (x_test_pics, y_test) = load_fashion_mnist()\n",
    "\n",
    "\n",
    "\n",
    "x_train = x_train_pics.reshape(y_train.shape[0], -1)\n",
    "x_test = x_test_pics.reshape(y_test.shape[0], -1)"
   ]
  },
  {
   "cell_type": "markdown",
   "metadata": {},
   "source": [
    "__Задание 0. (0.25 баллов)__\n",
    "\n",
    "**Вопрос:** зачем в алгоритме нужен метод главных компонент? \n",
    "\n",
    "**Ответ:** PCA здесь используется для понижения размерности выборки, сохраняя наиболее важную информацию о данных (за счеь того, что сохраняются главные компоненты). Во-первых, уменьшаются вычислительные затраты, так как используется меньше признаков. Во-вторых, снижается вероятность переобучения, потому что модель строится на более информативных признаках, и мы выкидываем шум и неполезные признаки. В-третьих, оптимизируется ядро RFF, так как низкоразмерное пространство позволяет более эффективно аппроксимировать ядро"
   ]
  },
  {
   "cell_type": "markdown",
   "metadata": {
    "id": "rJNN55F7K-hT"
   },
   "source": [
    "__Задание 1. (3 балла)__\n",
    "\n",
    "Реализуйте алгоритм, описанный выше. Можете воспользоваться шаблоном класса в `homework_practice_08_rff.py` (допишите его и исправьте несостыковки в классе пайплайна) или написать свой интерфейс.\n",
    "\n",
    "Ваша реализация должна поддерживать следующие опции:\n",
    "1. Возможность задавать значения гиперпараметров new_dim (по умолчанию 50) и n_features (по умолчанию 1000).\n",
    "2. Возможность включать или выключать предварительное понижение размерности с помощью метода главных компонент.\n",
    "3. Возможность выбирать тип линейной модели (логистическая регрессия или SVM с линейным ядром).\n",
    "\n",
    "Протестируйте на данных Fashion MNIST, сформированных кодом выше. Если на тесте у вас получилась доля верных ответов не ниже 0.84 с гиперпараметрами по умолчанию, то вы всё сделали правильно."
   ]
  },
  {
   "cell_type": "code",
   "execution_count": 3,
   "metadata": {},
   "outputs": [],
   "source": [
    "from sklearn.exceptions import ConvergenceWarning\n",
    "from warnings import filterwarnings\n",
    "\n",
    "filterwarnings('ignore', category=ConvergenceWarning)"
   ]
  },
  {
   "cell_type": "code",
   "execution_count": 4,
   "metadata": {
    "id": "jP8yepx8K-hT",
    "scrolled": true
   },
   "outputs": [
    {
     "name": "stdout",
     "output_type": "stream",
     "text": [
      "Accuracy: 0.8581\n"
     ]
    }
   ],
   "source": [
    "from homework_practice_08_rff import RFFPipeline, RandomFeatureCreator\n",
    "\n",
    "pipeline = RFFPipeline(n_features=1000, new_dim=50, feature_creator_class=RandomFeatureCreator)\n",
    "pipeline.fit(x_train, y_train)\n",
    "\n",
    "accuracy = pipeline.score(x_test, y_test)\n",
    "print(f\"Accuracy: {accuracy}\")"
   ]
  },
  {
   "cell_type": "markdown",
   "metadata": {
    "id": "HYqQUEi-K-hU"
   },
   "source": [
    "__Задание 2. (2.5 балла)__\n",
    "\n",
    "Сравните подход со случайными признаками с обучением SVM на исходных признаках. Попробуйте вариант с обычным (линейным) SVM и с ядровым SVM. Ядровой SVM может очень долго обучаться, поэтому можно делать любые разумные вещи для ускорения: брать подмножество объектов из обучающей выборки, например.\n",
    "\n",
    "Сравните подход со случайными признаками с вариантом, в котором вы понижаете размерность с помощью PCA и обучите градиентный бустинг. Используйте одну из реализаций CatBoost/LightGBM/XGBoost. \n",
    "\n",
    "Сделайте выводы — насколько идея со случайными признаками работает? Сравните как с точки зрения качества, так и с точки зрения скорости обучения и применения."
   ]
  },
  {
   "cell_type": "code",
   "execution_count": 5,
   "metadata": {},
   "outputs": [],
   "source": [
    "import time\n",
    "from sklearn.svm import SVC\n",
    "from sklearn.metrics import accuracy_score\n",
    "from sklearn.svm import LinearSVC"
   ]
  },
  {
   "cell_type": "code",
   "execution_count": 6,
   "metadata": {
    "id": "qN8LUlJgK-hV"
   },
   "outputs": [
    {
     "name": "stdout",
     "output_type": "stream",
     "text": [
      "Linear SVM: \n",
      " accuracy: 0.8378 \n",
      " time: 1482.0719 sec\n"
     ]
    }
   ],
   "source": [
    "svm_linear = LinearSVC(dual=False)\n",
    "start_time = time.time()\n",
    "svm_linear.fit(x_train, y_train)\n",
    "end_time = time.time() \n",
    "\n",
    "y_pred = svm_linear.predict(x_test)\n",
    "svm_linear_accuracy = accuracy_score(y_test, y_pred)\n",
    "\n",
    "print(f\"Linear SVM: \\n accuracy: {svm_linear_accuracy:.4f} \\n time: {end_time-start_time:.4f} sec\")"
   ]
  },
  {
   "cell_type": "code",
   "execution_count": 7,
   "metadata": {},
   "outputs": [
    {
     "name": "stdout",
     "output_type": "stream",
     "text": [
      "Kernel SVM: \n",
      " accuracy: 0.8639 \n",
      " time: 27.6115 sec\n"
     ]
    }
   ],
   "source": [
    "svm_kernel = SVC(kernel='rbf')\n",
    "start_time = time.time()\n",
    "svm_kernel.fit(x_train[:20000], y_train[:20000])\n",
    "end_time = time.time() \n",
    "\n",
    "y_pred = svm_kernel.predict(x_test)\n",
    "svm_kernel_accuracy = accuracy_score(y_test, y_pred)\n",
    "\n",
    "print(f\"Kernel SVM: \\n accuracy: {svm_kernel_accuracy:.4f} \\n time: {end_time-start_time:.4f} sec\")"
   ]
  },
  {
   "cell_type": "code",
   "execution_count": 8,
   "metadata": {},
   "outputs": [
    {
     "name": "stdout",
     "output_type": "stream",
     "text": [
      "Random + Linear SVM: \n",
      " accuracy: 0.8628 \n",
      " time: 122.7993 sec\n"
     ]
    }
   ],
   "source": [
    "from homework_practice_08_rff import RFFPipeline, RandomFeatureCreator\n",
    "\n",
    "\n",
    "rff_pipeline = RFFPipeline(n_features=1000, new_dim=50, use_PCA=False, classifier_class=LinearSVC ,feature_creator_class=RandomFeatureCreator)\n",
    "start_time = time.time()\n",
    "rff_pipeline.fit(x_train, y_train)\n",
    "end_time = time.time() \n",
    "\n",
    "y_pred = rff_pipeline.predict(x_test)\n",
    "rff_accuracy = accuracy_score(y_test, y_pred)\n",
    "\n",
    "print(f\"Random + Linear SVM: \\n accuracy: {rff_accuracy:.4f} \\n time: {end_time-start_time:.4f} sec\")"
   ]
  },
  {
   "cell_type": "markdown",
   "metadata": {},
   "source": [
    "*извиняюсь, но на новом ноуте не получается установить catboost или lightgbm, так что сделала так*"
   ]
  },
  {
   "cell_type": "code",
   "execution_count": 9,
   "metadata": {},
   "outputs": [
    {
     "name": "stdout",
     "output_type": "stream",
     "text": [
      "Gradient Boosting + PCA: \n",
      " accuracy: 0.8351 \n",
      " time: 843.1239 sec\n"
     ]
    }
   ],
   "source": [
    "from sklearn.ensemble import GradientBoostingClassifier\n",
    "from sklearn.decomposition import PCA\n",
    "\n",
    "pca = PCA(n_components=50)\n",
    "X_train_pca = pca.fit_transform(x_train)\n",
    "X_test_pca = pca.transform(x_test)\n",
    "\n",
    "gb_model = GradientBoostingClassifier(n_estimators=100, verbose=0)\n",
    "start_time = time.time()\n",
    "gb_model.fit(X_train_pca, y_train)\n",
    "end_time = time.time()\n",
    "\n",
    "y_pred = gb_model.predict(X_test_pca)\n",
    "gb_accuracy = accuracy_score(y_test, y_pred)\n",
    "\n",
    "print(f\"Gradient Boosting + PCA: \\n accuracy: {gb_accuracy:.4f} \\n time: {end_time-start_time:.4f} sec\")\n"
   ]
  },
  {
   "cell_type": "markdown",
   "metadata": {
    "id": "e6umjhWuK-hV"
   },
   "source": [
    "__Задание 3. (2 балла)__\n",
    "\n",
    "Проведите эксперименты:\n",
    "1. Помогает ли предварительное понижение размерности с помощью PCA? \n",
    "2. Как зависит итоговое качество от n_features? Выходит ли оно на плато при росте n_features?\n",
    "3. Важно ли, какую модель обучать — логистическую регрессию или SVM?"
   ]
  },
  {
   "cell_type": "markdown",
   "metadata": {},
   "source": [
    "With Logreg (for use_PCA=True and use_PCA=False)"
   ]
  },
  {
   "cell_type": "code",
   "execution_count": 10,
   "metadata": {
    "id": "c2QIHIMbK-hW"
   },
   "outputs": [
    {
     "name": "stdout",
     "output_type": "stream",
     "text": [
      "with PCA: accuracy = 0.8581\n"
     ]
    }
   ],
   "source": [
    "rff_pipeline_pca = RFFPipeline(n_features=1000, new_dim=50, use_PCA=True, feature_creator_class=RandomFeatureCreator)\n",
    "rff_pipeline_pca.fit(x_train, y_train)\n",
    "y_pred_pca = rff_pipeline_pca.predict(x_test)\n",
    "accuracy_pca = accuracy_score(y_test, y_pred_pca)\n",
    "print(f\"with PCA: accuracy = {accuracy_pca:.4f}\")"
   ]
  },
  {
   "cell_type": "code",
   "execution_count": 11,
   "metadata": {},
   "outputs": [
    {
     "name": "stdout",
     "output_type": "stream",
     "text": [
      "without PCA: accuracy = 0.8606\n"
     ]
    }
   ],
   "source": [
    "rff_pipeline_no_pca = RFFPipeline(n_features=1000, new_dim=50, use_PCA=False, feature_creator_class=RandomFeatureCreator)\n",
    "rff_pipeline_no_pca.fit(x_train, y_train)\n",
    "y_pred_no_pca = rff_pipeline_no_pca.predict(x_test)\n",
    "accuracy_no_pca = accuracy_score(y_test, y_pred_no_pca)\n",
    "print(f\"without PCA: accuracy = {accuracy_no_pca:.4f}\")"
   ]
  },
  {
   "cell_type": "markdown",
   "metadata": {},
   "source": [
    "With Linear SVM (for use_PCA=True and use_PCA=False)"
   ]
  },
  {
   "cell_type": "code",
   "execution_count": 12,
   "metadata": {},
   "outputs": [
    {
     "name": "stdout",
     "output_type": "stream",
     "text": [
      "with PCA: accuracy = 0.8768\n"
     ]
    }
   ],
   "source": [
    "rff_pipeline_svm = RFFPipeline(n_features=1000, new_dim=50, use_PCA=True, classifier_class=LinearSVC,feature_creator_class=RandomFeatureCreator)\n",
    "rff_pipeline_svm.fit(x_train, y_train)\n",
    "y_pred_svm = rff_pipeline_svm.predict(x_test)\n",
    "accuracy_svm = accuracy_score(y_test, y_pred_svm)\n",
    "print(f\"with PCA: accuracy = {accuracy_svm:.4f}\")"
   ]
  },
  {
   "cell_type": "code",
   "execution_count": 13,
   "metadata": {},
   "outputs": [
    {
     "name": "stdout",
     "output_type": "stream",
     "text": [
      "without PCA: accuracy = 0.8635\n"
     ]
    }
   ],
   "source": [
    "rff_pipeline_svm = RFFPipeline(n_features=1000, new_dim=50, use_PCA=False, classifier_class=LinearSVC, feature_creator_class=RandomFeatureCreator)\n",
    "rff_pipeline_svm.fit(x_train, y_train)\n",
    "y_pred_svm = rff_pipeline_svm.predict(x_test)\n",
    "accuracy_svm = accuracy_score(y_test, y_pred_svm)\n",
    "print(f\"without PCA: accuracy = {accuracy_svm:.4f}\")"
   ]
  },
  {
   "cell_type": "markdown",
   "metadata": {},
   "source": [
    "с линейным SVM получается немного выше точность, чем с логистической регрессией, но не значительно\n",
    "\n",
    "предварительное понижение размерности при помощи PCA дает некоторое ухудшение по точности, но не значительное (для логрега), для линейного SVM - незначительное улучшение"
   ]
  },
  {
   "cell_type": "code",
   "execution_count": 14,
   "metadata": {},
   "outputs": [
    {
     "name": "stdout",
     "output_type": "stream",
     "text": [
      "n_features = 10: accuracy = 0.6105\n",
      "n_features = 25: accuracy = 0.7471\n",
      "n_features = 50: accuracy = 0.8032\n",
      "n_features = 100: accuracy = 0.8359\n",
      "n_features = 200: accuracy = 0.8465\n",
      "n_features = 350: accuracy = 0.8525\n",
      "n_features = 500: accuracy = 0.8548\n",
      "n_features = 1000: accuracy = 0.8609\n",
      "n_features = 2000: accuracy = 0.8586\n"
     ]
    }
   ],
   "source": [
    "n_features_val = [10, 25, 50, 100, 200, 350, 500, 1000, 2000]\n",
    "accuracies = []\n",
    "\n",
    "for n in n_features_val:\n",
    "    rff_pipeline = RFFPipeline(n_features=n, new_dim=50, use_PCA=True, feature_creator_class=RandomFeatureCreator)\n",
    "    rff_pipeline.fit(x_train, y_train)\n",
    "    y_pred = rff_pipeline.predict(x_test)\n",
    "    acc = accuracy_score(y_test, y_pred)\n",
    "    accuracies.append(acc)\n",
    "    \n",
    "    print(f\"n_features = {n}: accuracy = {acc:.4f}\")\n"
   ]
  },
  {
   "cell_type": "code",
   "execution_count": 15,
   "metadata": {},
   "outputs": [
    {
     "data": {
      "image/png": "[encoded data removed]",
      "text/plain": [
       "<Figure size 640x480 with 1 Axes>"
      ]
     },
     "metadata": {},
     "output_type": "display_data"
    }
   ],
   "source": [
    "import matplotlib.pyplot as plt\n",
    "\n",
    "plt.plot(n_features_val, accuracies)\n",
    "plt.xlabel('n_features')\n",
    "plt.ylabel('accuracy')\n",
    "plt.title('dependence of accuracy on n_features')\n",
    "plt.show()"
   ]
  },
  {
   "cell_type": "markdown",
   "metadata": {},
   "source": [
    "действительно выходит на плато при росте n_features: как можно заметить при n_features=500 и выше точность практически не меняется"
   ]
  },
  {
   "cell_type": "markdown",
   "metadata": {
    "id": "QVDWHCdrK-hX"
   },
   "source": [
    "__Задание 4. (Максимум 1.5 балла)__\n",
    "\n",
    "Как вы, должно быть, помните с курса МО-1, многие алгоритмы машинного обучения работают лучше, если признаки данных некоррелированы. Оказывается, что для RFF существует модификация, позволяющая получать ортогональные случайные признаки (Orthogonal Random Features, ORF). Об этом методе можно прочитать в [статье](https://proceedings.neurips.cc/paper/2016/file/53adaf494dc89ef7196d73636eb2451b-Paper.pdf). Реализуйте класс для вычисления ORF по аналогии с основным заданием. Обратите внимание, что ваш класс должен уметь работать со случаем n_features > new_dim (в статье есть замечание на этот счет), n_features=new_dim и n_features < new_dim также должны работать, убедитесь в этом. Проведите эксперименты, сравнивающие RFF и ORF, сделайте выводы. \n"
   ]
  },
  {
   "cell_type": "code",
   "execution_count": 16,
   "metadata": {
    "id": "HSxvGI9iK-hX"
   },
   "outputs": [
    {
     "data": {
      "text/plain": [
       "'rff_pipeline = RFFPipeline(n_features=1000, new_dim=50, use_PCA=False, feature_creator_class=RandomFeatureCreator)\\nrff_pipeline.fit(x_train, y_train)\\ny_pred = rff_pipeline.predict(x_test)\\nacc = accuracy_score(y_test, y_pred)\\nprint(f\"accuracy rff= {acc:.4f}\")'"
      ]
     },
     "execution_count": 16,
     "metadata": {},
     "output_type": "execute_result"
    }
   ],
   "source": [
    "'''rff_pipeline = RFFPipeline(n_features=1000, new_dim=50, use_PCA=False, feature_creator_class=RandomFeatureCreator)\n",
    "rff_pipeline.fit(x_train, y_train)\n",
    "y_pred = rff_pipeline.predict(x_test)\n",
    "acc = accuracy_score(y_test, y_pred)\n",
    "print(f\"accuracy rff= {acc:.4f}\")'''"
   ]
  },
  {
   "cell_type": "code",
   "execution_count": 17,
   "metadata": {},
   "outputs": [
    {
     "data": {
      "text/plain": [
       "'from homework_practice_08_rff import OrthogonalRandomFeatureCreator\\n\\norff_pipeline = RFFPipeline(n_features=1000, new_dim=50, use_PCA=False, feature_creator_class=OrthogonalRandomFeatureCreator)\\norff_pipeline.fit(x_train, y_train)\\ny_pred = orff_pipeline.predict(x_test)\\nacc = accuracy_score(y_test, y_pred)\\nprint(f\"accuracy orff= {acc:.4f}\")'"
      ]
     },
     "execution_count": 17,
     "metadata": {},
     "output_type": "execute_result"
    }
   ],
   "source": [
    "'''from homework_practice_08_rff import OrthogonalRandomFeatureCreator\n",
    "\n",
    "orff_pipeline = RFFPipeline(n_features=1000, new_dim=50, use_PCA=False, feature_creator_class=OrthogonalRandomFeatureCreator)\n",
    "orff_pipeline.fit(x_train, y_train)\n",
    "y_pred = orff_pipeline.predict(x_test)\n",
    "acc = accuracy_score(y_test, y_pred)\n",
    "print(f\"accuracy orff= {acc:.4f}\")'''"
   ]
  },
  {
   "cell_type": "markdown",
   "metadata": {
    "id": "4pc7-1jmK-hY"
   },
   "source": [
    "__Задание 5. (Максимум 1 балл)__\n",
    "\n",
    "Существует большое количество работ, где идея RFF развивается, предлагаются её обобщения (которые, по сути, выливаются в другие преобразования признаков, не обязательно уже тригонометрические). Возьмите любую из таких работ, кратко опишите идею, имплементируйте её и сравните качество с ORF и RFF, которые вы запрограммировали выше.\n",
    "\n",
    "Ссылки на статьи, где обсуждаются вариации RFF для разных ядер, можно найти в окрестности таблицы 1 в работе https://arxiv.org/pdf/1407.5599  \n",
    "\n",
    "___ссылка на работу:___\n",
    "\n",
    "___описание идеи:___"
   ]
  },
  {
   "cell_type": "code",
   "execution_count": 18,
   "metadata": {
    "id": "dWj-O2vjK-hY"
   },
   "outputs": [],
   "source": [
    "# Пример "
   ]
  },
  {
   "cell_type": "markdown",
   "metadata": {},
   "source": [
    "__Задание 6. (Максимум 2.5 балла)__\n",
    "\n",
    "Реализуйте класс ядровой Ridge регрессии (Лекция 13, $\\S 1.2$), для оптимизации используте градиентный спуск **[1 балл максимум]**, также добавьте возможность использовать аналитическую формулу **[1 балл максимум]**. Для градиентного спуска выпишите градиент ниже **[0.5 баллов максимум]**. \n",
    "Подумайте о том, как в формулах правильно учесть свободный коэффициент. \n",
    "\n",
    "Затем адаптируйте вашу реализацию RFF под задачу регрессии. Сравните вашу ядровую регрессию и RFF на синтетических данных."
   ]
  },
  {
   "cell_type": "markdown",
   "metadata": {},
   "source": [
    "Функция потерь: \n",
    "$$\n",
    "Q(w) = \\frac{1}{2} ||\\Phi \\Phi^T w - y||^2 + \\frac{\\lambda}{2} w^T \\Phi \\Phi^T w \\rightarrow \\min_w,\n",
    "$$\n",
    "где $\\Phi \\Phi^T = K$, $K = (k(x_i, x_j))_{i, j = 1}^{\\ell}$.\n",
    "\n",
    "Предсказание: \n",
    "$\n",
    "y(x) = k(x)^T w,\n",
    "$\n",
    "где $k(x)$ — вектор функций ядра от пар объектов $(x, x_i)_{i=1}^{\\ell}$.\n",
    "\n",
    "___Выведите градиент:___ \n",
    "\n",
    "\n",
    "1. \n",
    "\n",
    "$$\n",
    "\n",
    "\\frac{1}{2} ||\\Phi \\Phi^T w - y||^2 = \\frac{1}{2} (\\Phi \\Phi^T w - y)^T (\\Phi \\Phi^T w - y)\n",
    "\n",
    "$$\n",
    "\n",
    "$$\n",
    "\n",
    "\\nabla_w \\left( \\frac{1}{2} (\\Phi \\Phi^T w - y)^T (\\Phi \\Phi^T w - y) \\right) = \\Phi \\Phi^T (\\Phi \\Phi^T w - y)\n",
    "\n",
    "$$\n",
    "\n",
    "2.\n",
    "$$\n",
    "\n",
    "\\frac{\\lambda}{2} w^T \\Phi \\Phi^T w = \\frac{\\lambda}{2} w^T K w\n",
    "\n",
    "$$\n",
    "$$\n",
    "\n",
    "\\nabla_w \\left( \\frac{\\lambda}{2} w^T K w \\right) = \\lambda K w\n",
    "\n",
    "$$\n",
    "\n",
    "Итого получаем:\n",
    "\n",
    "$$\n",
    "\n",
    "\\nabla_w Q(w) = \\Phi \\Phi^T (\\Phi \\Phi^T w - y) + \\lambda K w = K (\\Phi \\Phi^T w - y) + \\lambda K w\n",
    "\n",
    "$$\n",
    "\n",
    "\n",
    "Вы можете изменять представленный шаблон в файле `homework_practice_08_kernel_regression.py` по своему усмотрению."
   ]
  },
  {
   "cell_type": "markdown",
   "metadata": {},
   "source": [
    "я решила написать тут, а не писать в шаблоне, надеюсь это ок"
   ]
  },
  {
   "cell_type": "code",
   "execution_count": 19,
   "metadata": {},
   "outputs": [],
   "source": [
    "class KernelRidgeRegression:\n",
    "    def __init__(self, kernel='rbf', lambda_reg=1.0, use_analytic=False, max_iter=1000, \n",
    "                 learning_rate=0.01, gamma=1.0, tol=1e-6):\n",
    "        self.kernel_type = kernel\n",
    "        self.lambda_reg = lambda_reg\n",
    "        self.use_analytic = use_analytic\n",
    "        self.max_iter = max_iter\n",
    "        self.learning_rate = learning_rate\n",
    "        self.gamma = gamma\n",
    "        self.tol = tol  \n",
    "        self.alpha = None\n",
    "        self.X_train = None\n",
    "        self.bias = 0\n",
    "\n",
    "    def compute_kernel(self, X1, X2):\n",
    "        if self.kernel_type == 'rbf':\n",
    "            n_samples1, n_samples2 = X1.shape[0], X2.shape[0]\n",
    "            distances = []\n",
    "            n_pairs = min(10000, n_samples1 * n_samples2)\n",
    "        \n",
    "            while len(distances) < n_pairs:\n",
    "                idx1 = np.random.randint(0, n_samples1)\n",
    "                idx2 = np.random.randint(0, n_samples2)\n",
    "            \n",
    "                if idx1 != idx2:\n",
    "                    dist = np.sum((X1[idx1] - X2[idx2]) ** 2)\n",
    "                    distances.append(dist)\n",
    "        \n",
    "            sigma_squared = np.median(np.array(distances))\n",
    "            gamma = 1 / (2 * sigma_squared + 1e-8)  \n",
    "            K = np.zeros((n_samples1, n_samples2))\n",
    "            for i in range(n_samples1):\n",
    "                for j in range(n_samples2):\n",
    "                    sq_dist = np.sum((X1[i] - X2[j]) ** 2)\n",
    "                    K[i, j] = np.exp(-gamma * sq_dist)\n",
    "        \n",
    "            return K\n",
    "        elif self.kernel_type == 'linear':\n",
    "            return np.dot(X1, X2.T)\n",
    "\n",
    "    def fit(self, X, y):\n",
    "        self.X_train = X\n",
    "        n_samples = X.shape[0]\n",
    "        \n",
    "        y_centered = y - np.mean(y)\n",
    "        self.bias = np.mean(y)\n",
    "\n",
    "        K = self.compute_kernel(X, X)\n",
    "        \n",
    "        if self.use_analytic:\n",
    "            self.alpha = np.linalg.solve(K + self.lambda_reg * np.eye(n_samples), y_centered)\n",
    "        else:\n",
    "            self.alpha = np.zeros(n_samples)\n",
    "            prev_loss = float('inf')\n",
    "            \n",
    "            for i in range(self.max_iter):\n",
    "                pred = K.dot(self.alpha)\n",
    "                grad = K.dot(pred - y_centered) + self.lambda_reg * K.dot(self.alpha)\n",
    "                grad_norm = np.linalg.norm(grad)\n",
    "                if grad_norm > 1:\n",
    "                    grad = grad / grad_norm\n",
    "        \n",
    "                self.alpha -= self.learning_rate * grad\n",
    "                \n",
    "                current_loss = 0.5 * np.sum((pred - y_centered) ** 2) + \\\n",
    "                             0.5 * self.lambda_reg * self.alpha.dot(K.dot(self.alpha))\n",
    "                \n",
    "                if abs(prev_loss - current_loss) < self.tol:\n",
    "                    break\n",
    "                    \n",
    "                prev_loss = current_loss\n",
    "\n",
    "    def predict(self, X):\n",
    "        K_test = self.compute_kernel(X, self.X_train)\n",
    "        return K_test.dot(self.alpha) + self.bias\n"
   ]
  },
  {
   "cell_type": "code",
   "execution_count": 20,
   "metadata": {},
   "outputs": [
    {
     "name": "stdout",
     "output_type": "stream",
     "text": [
      "MSE (analytic): 0.010313441371516744\n",
      "MSE (gradient): 0.03719780263184441\n",
      "MSE (analytic_linear): 0.24677823920864825\n",
      "MSE (gradient_linear): 0.3986960462092339\n"
     ]
    }
   ],
   "source": [
    "from sklearn.model_selection import train_test_split\n",
    "from sklearn.metrics import mean_squared_error\n",
    "np.random.seed(42)\n",
    "    \n",
    "n_samples = 3000\n",
    "X = np.random.randn(n_samples, 2)\n",
    "true_func = lambda x: np.sin(x[:, 0]) + np.cos(x[:, 1])\n",
    "y = true_func(X) + np.random.normal(0, 0.1, n_samples)\n",
    "\n",
    "\n",
    "X_train, X_test, y_train, y_test = train_test_split(X, y, test_size=0.2, random_state=42)\n",
    "model_analytic = KernelRidgeRegression(kernel='rbf', use_analytic=True, lambda_reg=0.1, gamma=1.0)\n",
    "model_gradient = KernelRidgeRegression(kernel='rbf', use_analytic=False, lambda_reg=0.1, gamma=1.0, \n",
    "                                          learning_rate=0.01, max_iter=1000)\n",
    "model_analytic_linear = KernelRidgeRegression(kernel='linear', use_analytic=True, lambda_reg=0.1, gamma=1.0)\n",
    "model_gradient_linear = KernelRidgeRegression(kernel='linear', use_analytic=False, lambda_reg=0.1, gamma=1.0, \n",
    "                                          learning_rate=0.01, max_iter=1000)\n",
    "\n",
    "model_analytic.fit(X_train, y_train)\n",
    "model_gradient.fit(X_train, y_train)\n",
    "model_analytic_linear.fit(X_train, y_train)\n",
    "model_gradient_linear.fit(X_train, y_train)\n",
    "\n",
    "pred_analytic = model_analytic.predict(X_test)\n",
    "pred_gradient = model_gradient.predict(X_test)\n",
    "pred_analytic_linear = model_analytic_linear.predict(X_test)\n",
    "pred_gradient_linear = model_gradient_linear.predict(X_test)\n",
    "\n",
    "print(\"MSE (analytic):\", mean_squared_error(y_test, pred_analytic))\n",
    "print(\"MSE (gradient):\", mean_squared_error(y_test, pred_gradient))\n",
    "print(\"MSE (analytic_linear):\", mean_squared_error(y_test, pred_analytic_linear))\n",
    "print(\"MSE (gradient_linear):\", mean_squared_error(y_test, pred_gradient_linear))"
   ]
  }
 ],
 "metadata": {
  "colab": {
   "collapsed_sections": [],
   "name": "homework-practice-08-random-features.ipynb",
   "provenance": []
  },
  "kernelspec": {
   "display_name": ".venv",
   "language": "python",
   "name": "python3"
  },
  "language_info": {
   "codemirror_mode": {
    "name": "ipython",
    "version": 3
   },
   "file_extension": ".py",
   "mimetype": "text/x-python",
   "name": "python",
   "nbconvert_exporter": "python",
   "pygments_lexer": "ipython3",
   "version": "3.13.2"
  }
 },
 "nbformat": 4,
 "nbformat_minor": 4
}
