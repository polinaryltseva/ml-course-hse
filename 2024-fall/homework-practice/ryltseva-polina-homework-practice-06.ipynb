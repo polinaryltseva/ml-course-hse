{
  "cells": [
    {
      "cell_type": "markdown",
      "metadata": {
        "id": "7EowSrjCoUyN",
        "pycharm": {
          "name": "#%% md\n"
        }
      },
      "source": [
        "# Машинное обучение, ФКН ВШЭ\n",
        "\n",
        "# Практическое задание 6. Бустинговое\n",
        "\n",
        "## Общая информация\n",
        "\n",
        "Дата выдачи: 12.12.2024\n",
        "\n",
        "Мягкий дедлайн: 22.12.2024 23:59 MSK\n",
        "\n",
        "Жёсткий дедлайн: 22.12.2024 23:59 MSK\n",
        "\n",
        "## Оценивание и штрафы\n",
        "\n",
        "Каждая из задач имеет определенную «стоимость» (указана в скобках около задачи). Максимально допустимая оценка за работу — 10 баллов.\n",
        "\n",
        "Задание выполняется самостоятельно. «Похожие» решения считаются плагиатом и все задействованные студенты (в том числе те, у кого списали) не могут получить за него больше 0 баллов (подробнее о плагиате см. на странице курса). Если вы нашли решение какого-то из заданий (или его часть) в открытом источнике, необходимо указать ссылку на этот источник в отдельном блоке в конце вашей работы (скорее всего вы будете не единственным, кто это нашел, поэтому чтобы исключить подозрение в плагиате, необходима ссылка на источник).\n",
        "\n",
        "Неэффективная реализация кода может негативно отразиться на оценке.\n",
        "\n",
        "## Формат сдачи\n",
        "Задания сдаются через систему anytask. Посылка должна содержать:\n",
        "* Ноутбук homework-practice-06-Username.ipynb\n",
        "\n",
        "Username — ваша фамилия на латинице\n",
        "\n",
        "\n",
        "Максимальная оценка: 10"
      ]
    },
    {
      "cell_type": "markdown",
      "metadata": {
        "id": "KrDlbgTtoUyP",
        "pycharm": {
          "name": "#%% md\n"
        }
      },
      "source": [
        "## О задании\n",
        "\n",
        "В этом задании вам предстоит вручную запрограммировать один из самых мощных алгоритмов машинного обучения — бустинг. Однако с большой силой приходит и большая ответственность, так что заодно научимся, как его правильно готовить"
      ]
    },
    {
      "cell_type": "code",
      "execution_count": 1,
      "metadata": {
        "id": "yWktQHZQoUyQ",
        "pycharm": {
          "name": "#%%\n"
        }
      },
      "outputs": [],
      "source": [
        "from warnings import filterwarnings\n",
        "\n",
        "import matplotlib.pyplot as plt\n",
        "import numpy as np\n",
        "import seaborn as sns\n",
        "from scipy.sparse import load_npz\n",
        "from sklearn.model_selection import train_test_split\n",
        "from sklearn.metrics import roc_auc_score\n",
        "\n",
        "sns.set(style='darkgrid')\n",
        "filterwarnings('ignore')"
      ]
    },
    {
      "cell_type": "code",
      "execution_count": 3,
      "metadata": {},
      "outputs": [],
      "source": [
        "%matplotlib inline"
      ]
    },
    {
      "cell_type": "code",
      "execution_count": 4,
      "metadata": {
        "id": "n0zcZqIZoUyR",
        "pycharm": {
          "name": "#%%\n"
        }
      },
      "outputs": [],
      "source": [
        "X = load_npz('x.npz')\n",
        "y = np.load('y.npy')"
      ]
    },
    {
      "cell_type": "markdown",
      "metadata": {
        "id": "zOIxzg1joUyR",
        "pycharm": {
          "name": "#%% md\n"
        }
      },
      "source": [
        "Разделим на обучающую, валидационную и тестовую выборки (оставьте `random_state=1337` для воспроизводимости)."
      ]
    },
    {
      "cell_type": "code",
      "execution_count": 5,
      "metadata": {
        "id": "D_DAsR6roUyS",
        "pycharm": {
          "name": "#%%\n"
        }
      },
      "outputs": [
        {
          "data": {
            "text/plain": [
              "((18825, 169), (2354, 169), (2353, 169))"
            ]
          },
          "execution_count": 5,
          "metadata": {},
          "output_type": "execute_result"
        }
      ],
      "source": [
        "X_train, X_test, y_train, y_test = train_test_split(X, y, test_size=0.2, random_state=1337)\n",
        "X_test, X_valid, y_test, y_valid = train_test_split(X_test, y_test, test_size=0.5, random_state=1337)\n",
        "\n",
        "X_train.shape, X_valid.shape, X_test.shape"
      ]
    },
    {
      "cell_type": "markdown",
      "metadata": {
        "id": "shCFxbqroUyS",
        "pycharm": {
          "name": "#%% md\n"
        }
      },
      "source": [
        "---\n",
        "\n",
        "## Задание 1. Базовый градиентный бустинг (4 балла)\n",
        "\n",
        "Первая часть посвящена реализации собственного градиентного бустинга. Обращаем внимание, что пользоваться готовыми реализациями <font color='lightcoral'>**нельзя**</font>, если специально не оговорено. На все <font color='plum'>**вопросы**</font> должен быть <font color='plum'>**ответ**</font>. В заданиях есть референсы для параметров, которые нужно сделать, на случай, если объяснение из ноутбука непонятно, тогда советуем обратиться к соответствующей документации\n",
        "\n",
        "Вам нужно дописать код в файлике `boosting.py`. Для вас уже подготовлен шаблон класса `Boosting`, вы можете менять его по своему усмотрению.\n",
        "\n",
        "### Инструкции для функций:\n",
        "\n",
        "#### `__init__`\n",
        "\n",
        "Обязательные параметры:\n",
        " — `base_model_class` — класс базовой модели нашего бустинга\n",
        " — `base_model_params` — словарь с гиперпараметрами для базовой модели\n",
        " — `n_estimators` — какое количество базовых моделей нужно обучить\n",
        " — `learning_rate` — темп обучения, должен быть из полуинтервала $(0, 1]$\n",
        "\n",
        "#### `fit`\n",
        "\n",
        "В `fit` приходит выборка, на которой мы обучаем новые базовые модели\n",
        "\n",
        "Сначала нам нужно сделать какую-то нулевую модель, сделать предсказания (в шаблоне это нулевая модель, соответственно предсказания это просто `np.zeros`). После этого нужно обучить `n_estimators` базовых моделей (как и на что обучаются базовые модели смотрите в лекциях и семинарах). После каждой обученной базовой модели мы должны обновить текущие предсказания, посчитать ошибку на выборке (используем `loss_fn` для этого) и найти новую оптимальную гамму\n",
        "\n",
        "После всего цикла обучения надо нарисовать график (если `plot=True`).\n",
        "\n",
        "#### `partial_fit`\n",
        "\n",
        "В `partial_fit` приходит обучающая выборка, на которую обучается новая базовая модель\n",
        "\n",
        "#### `predict_proba`\n",
        "\n",
        "В `predict_proba` приходит любая выборка, нужно предсказать вероятности для неё. Суммируем предсказания базовых моделей на этой выборке (не забываем про гаммы) и накидываем сигмоиду\n",
        "\n",
        "#### `plot_history`\n",
        "\n",
        "В `plot_history` приходит любая выборка, для которой последовательно считаются значения функции потерь и/или любой метрики, которую вы хотите посчитать, путем последовательного применения базовых моделей. Можно делать сразу во время обучения, можно делать иначе"
      ]
    },
    {
      "cell_type": "code",
      "execution_count": 6,
      "metadata": {
        "id": "5buucrG2oUyT",
        "pycharm": {
          "name": "#%%\n"
        }
      },
      "outputs": [],
      "source": [
        "%load_ext autoreload"
      ]
    },
    {
      "cell_type": "code",
      "execution_count": 7,
      "metadata": {
        "id": "3Xm_ImHDoUyT",
        "pycharm": {
          "name": "#%%\n"
        }
      },
      "outputs": [],
      "source": [
        "%autoreload 2\n",
        "\n",
        "from boosting import Boosting"
      ]
    },
    {
      "cell_type": "markdown",
      "metadata": {
        "id": "y7UHXk1UoUyT",
        "pycharm": {
          "name": "#%% md\n"
        }
      },
      "source": [
        "### Проверка кода"
      ]
    },
    {
      "cell_type": "code",
      "execution_count": 8,
      "metadata": {
        "id": "ahY_-dDAoUyT",
        "pycharm": {
          "name": "#%%\n"
        }
      },
      "outputs": [
        {
          "data": {
            "image/png": "[encoded data removed]",
            "text/plain": [
              "<Figure size 1000x600 with 1 Axes>"
            ]
          },
          "metadata": {},
          "output_type": "display_data"
        },
        {
          "name": "stdout",
          "output_type": "stream",
          "text": [
            "Train ROC-AUC 0.9998\n",
            "Valid ROC-AUC 0.8745\n",
            "Test ROC-AUC 0.8657\n"
          ]
        }
      ],
      "source": [
        "boosting = Boosting(n_estimators=100)\n",
        "\n",
        "boosting.fit(X_train, y_train)\n",
        "boosting.plot_history(X_valid, y_valid)\n",
        "\n",
        "assert len(boosting.models) == boosting.n_estimators\n",
        "assert len(boosting.gammas) == boosting.n_estimators\n",
        "\n",
        "assert boosting.predict_proba(X_test).shape == (X_test.shape[0], 2)\n",
        "\n",
        "print(f'Train ROC-AUC {boosting.score(X_train, y_train):.4f}')\n",
        "print(f'Valid ROC-AUC {boosting.score(X_valid, y_valid):.4f}')\n",
        "print(f'Test ROC-AUC {boosting.score(X_test, y_test):.4f}')"
      ]
    },
    {
      "cell_type": "markdown",
      "metadata": {
        "id": "2Ua0qKX9oUyV"
      },
      "source": [
        "---\n",
        "\n",
        "## Задание 2. Имплементация гиперпараметров (2.5 балла + 3.5 бонус)\n",
        "\n",
        "Бустинг, как метод агрегации, предлагает несколько вариантов регуляризации безотносительно базовой модели. В этом пункте предлагается имплементировать часть из них. При необходимости можете обратиться к реализациям в вашей любимой библиотеке, там могут быть дополнительные пояснения и/или ссылки на оригинальные статьи\n",
        "\n",
        "<font color='lightcoral'>**Важно!**</font> После добавления каждого параметра проверьте, как это повлияет на качество. Специально крутить параметры не нужно, но важно увидеть, что перформанс модели изменился, в худшую или в лучшую сторону, для этого какие-то параметры нужны, пусть и от балды, <font color='lightcoral'>**дефолтные параметры не подойдут**</font>, они скорее для референса. Лучше всего это видно по графикам обучения <font color='lightcoral'>**на трейне и валидации**</font>, рекомендуется смотрить именно на них\n",
        "\n",
        "### 2.1. Борьба с переобучением (0.5 балла)\n",
        "\n",
        "Как известно, бустинги бывают склонны к переобучению. Чтобы этого не допустить, можно контролировать процесс обучения и проверять критерий останова на валидации. Реализуйте такую процедуру, не забудьте, что всю предобработку, что вы будете делать для трейна, нужно будет повторить на валидации\n",
        "\n",
        "| <font color='lightblue'>XGBoost</font> | <font color='lightgreen'>LightGBM</font> | <font color='palegoldenrod'>CatBoost</font> |\n",
        "| --- | --- | --- |\n",
        "| <td colspan=3>`early_stopping_rounds`, `eval_set` |\n",
        "\n",
        "Добавьте параметры:\n",
        "- `early_stopping_rounds: int | None = 0` — число раундов для критерия останова. Если качество ухудшается на протяжении всех раундов подряд, останавливаем обучение\n",
        "- `X_val`, `y_val` или `eval_set: Tuple[np.ndarray] | None = None` — валидацонная выборка, на которой будем проверять переобучение"
      ]
    },
    {
      "cell_type": "code",
      "execution_count": null,
      "metadata": {
        "id": "01RerBA03Pc8"
      },
      "outputs": [
        {
          "name": "stdout",
          "output_type": "stream",
          "text": [
            "Early stopping after 19 iterations.\n"
          ]
        },
        {
          "data": {
            "image/png": "[encoded data removed]",
            "text/plain": [
              "<Figure size 1000x600 with 1 Axes>"
            ]
          },
          "metadata": {},
          "output_type": "display_data"
        },
        {
          "name": "stdout",
          "output_type": "stream",
          "text": [
            "Train ROC-AUC 0.9998\n",
            "Valid ROC-AUC 0.8703\n",
            "Test ROC-AUC 0.8616\n"
          ]
        }
      ],
      "source": [
        "\n",
        "boosting = Boosting(\n",
        "    n_estimators=100,          \n",
        "    early_stopping_rounds=10, \n",
        "    eval_set = [X_valid, y_valid]\n",
        ")\n",
        "\n",
        "boosting.fit(X_train, y_train, X_val=X_valid, y_val=y_valid)\n",
        "\n",
        "boosting.plot_history(X_train, y_train)\n",
        "\n",
        "print(f'Train ROC-AUC {boosting.score(X_train, y_train):.4f}')\n",
        "print(f'Valid ROC-AUC {boosting.score(X_valid, y_valid):.4f}')\n",
        "print(f'Test ROC-AUC {boosting.score(X_test, y_test):.4f}')"
      ]
    },
    {
      "cell_type": "markdown",
      "metadata": {
        "id": "B9yIlKgsv2Nf"
      },
      "source": [
        "### Бонус. Бустинг линейных моделей (0.5 балла)\n",
        "\n",
        "**<font color='plum'>Вопрос:** что произойдет при ансамблировании линейных моделей? Имеет ли это смысл?</font>\n",
        "\n",
        "<font color='plum'>**Ответ:** Так как бустинг обучает следующую модель на остатках предыдущей - при использовании на линейных моделях это добавляет некоторую нелинейность на каждом шаге, что может дать качество получше. В целом, ансамблирование линейных моделей как будто действительно может улучшить качество, но только в том случае, если линейная модель уже хорошо подходит для данных - то есть если есть много нелинейных зависимостей, это не даст какого то особого результата. Это происходит за счет того, что тогда небольшое число нелинейных зависимостей будет учитываться лучше (как отклонение от линейных)</font>\n",
        "\n",
        "Давайте убедимся. Обучите бустинг, где в качестве базовой модели будет линейная регрессия. Обязательно сохраните историю функции потерь и зафиксируйте время обучения. Можно взять уже готовый из <font color='lightblue'>**XGBoost**</font>, но будьте готовы разобраться с тем, как оттуда достать историю обучения\n",
        "\n",
        "| <font color='lightblue'>XGBoost</font> | <font color='lightgreen'>LightGBM</font> | <font color='palegoldenrod'>CatBoost</font> |\n",
        "| --- | --- | --- |\n",
        "| `XGBClassifier(booster=\"gblinear\")` | — | — |"
      ]
    },
    {
      "cell_type": "code",
      "execution_count": null,
      "metadata": {
        "id": "Bi6xczmawD5E"
      },
      "outputs": [
        {
          "name": "stdout",
          "output_type": "stream",
          "text": [
            "[0]\ttrain-logloss:0.40083\tvalidation-logloss:0.41860\n",
            "[1]\ttrain-logloss:0.32402\tvalidation-logloss:0.35618\n",
            "[2]\ttrain-logloss:0.28414\tvalidation-logloss:0.32809\n",
            "[3]\ttrain-logloss:0.26061\tvalidation-logloss:0.31428\n",
            "[4]\ttrain-logloss:0.24582\tvalidation-logloss:0.30688\n",
            "[5]\ttrain-logloss:0.23640\tvalidation-logloss:0.30339\n",
            "[6]\ttrain-logloss:0.23000\tvalidation-logloss:0.30205\n",
            "[7]\ttrain-logloss:0.22559\tvalidation-logloss:0.30185\n",
            "[8]\ttrain-logloss:0.22247\tvalidation-logloss:0.30250\n",
            "[9]\ttrain-logloss:0.22017\tvalidation-logloss:0.30341\n",
            "[10]\ttrain-logloss:0.21844\tvalidation-logloss:0.30454\n",
            "[11]\ttrain-logloss:0.21823\tvalidation-logloss:0.30583\n",
            "[12]\ttrain-logloss:0.21721\tvalidation-logloss:0.30715\n",
            "[13]\ttrain-logloss:0.21640\tvalidation-logloss:0.30864\n",
            "[14]\ttrain-logloss:0.21578\tvalidation-logloss:0.30991\n",
            "[15]\ttrain-logloss:0.21527\tvalidation-logloss:0.31123\n",
            "[16]\ttrain-logloss:0.21485\tvalidation-logloss:0.31242\n",
            "[17]\ttrain-logloss:0.21451\tvalidation-logloss:0.31350\n",
            "Time: 0.03\n"
          ]
        }
      ],
      "source": [
        "import time\n",
        "import xgboost as xgb\n",
        "\n",
        "dtrain = xgb.DMatrix(X_train, label=y_train)\n",
        "dvalid = xgb.DMatrix(X_valid, label=y_valid)\n",
        "\n",
        "eval_set = [(dtrain, 'train'), (dvalid, 'validation')]\n",
        "\n",
        "params = {\n",
        "    'booster': 'gblinear',  \n",
        "    'objective': 'binary:logistic', \n",
        "    'eval_metric': 'logloss',  \n",
        "    #'learning_rate': 0.1,\n",
        "    #'lambda': 1.0,  \n",
        "    #'alpha': 0.0,   \n",
        "    #'nthread': 4,  \n",
        "    #'early_stopping_rounds': 20  \n",
        "}\n",
        "evals_result = {}\n",
        "\n",
        "start_time = time.time()\n",
        "model = xgb.train(params, xgb.DMatrix(X_train, label=y_train), num_boost_round=1000, evals=eval_set, early_stopping_rounds=10, evals_result=evals_result)\n",
        "end_time = time.time()\n",
        "\n",
        "print(f\"Time: {end_time - start_time:.2f}\")"
      ]
    },
    {
      "cell_type": "code",
      "execution_count": null,
      "metadata": {},
      "outputs": [
        {
          "data": {
            "image/png": "[encoded data removed]",
            "text/plain": [
              "<Figure size 1000x600 with 1 Axes>"
            ]
          },
          "metadata": {},
          "output_type": "display_data"
        }
      ],
      "source": [
        "train_losses = evals_result['train']['logloss']\n",
        "val_losses = evals_result['validation']['logloss']\n",
        "\n",
        "plt.figure(figsize=(10, 6))\n",
        "plt.plot(train_losses, label='Train Loss')\n",
        "plt.plot(val_losses, label='Validation Loss')\n",
        "plt.xlabel('Boosting Rounds')\n",
        "plt.ylabel('Log Loss')\n",
        "plt.title('Log Loss during Training')\n",
        "plt.legend()\n",
        "plt.grid(True)\n",
        "plt.show()"
      ]
    },
    {
      "cell_type": "code",
      "execution_count": null,
      "metadata": {},
      "outputs": [
        {
          "name": "stdout",
          "output_type": "stream",
          "text": [
            "ROC AUC on validation: 0.9404\n"
          ]
        }
      ],
      "source": [
        "y_pred = model.predict(xgb.DMatrix(X_valid))\n",
        "roc_auc = roc_auc_score(y_valid, y_pred)\n",
        "print(f\"ROC AUC on validation: {roc_auc:.4f}\")"
      ]
    },
    {
      "cell_type": "markdown",
      "metadata": {
        "id": "gxyini7Wv5AX"
      },
      "source": [
        "Теперь возьмите `sklearn.linear_model.SGDClassifier` иобучите на тех же данных. Не забудьте вытащить историю функции потерь"
      ]
    },
    {
      "cell_type": "code",
      "execution_count": null,
      "metadata": {
        "id": "izn-6qTqwFuX"
      },
      "outputs": [],
      "source": [
        "from sklearn.linear_model import SGDClassifier\n",
        "from sklearn.metrics import log_loss\n",
        "\n",
        "sgd_clf = SGDClassifier(\n",
        "    loss=\"log_loss\", \n",
        "    max_iter=1, \n",
        "    warm_start=True, \n",
        "    random_state=42\n",
        ")\n",
        "\n",
        "sgd_train_losses = []\n",
        "sgd_val_losses = []\n",
        "\n",
        "start_time_sgd = time.time()\n",
        "for _ in range(16):  \n",
        "    sgd_clf.fit(X_train, y_train)\n",
        "    train_proba = sgd_clf.predict_proba(X_train)\n",
        "    val_proba = sgd_clf.predict_proba(X_valid)\n",
        "    sgd_train_losses.append(log_loss(y_train, train_proba))\n",
        "    sgd_val_losses.append(log_loss(y_valid, val_proba))\n",
        "end_time_sgd = time.time()\n",
        "\n",
        "\n",
        "sgd_training_time = end_time_sgd - start_time_sgd"
      ]
    },
    {
      "cell_type": "markdown",
      "metadata": {
        "id": "bEXHU0Fcv66l"
      },
      "source": [
        "Покажите на одном графике изменение функции потерь для бустинга и SGD классификатора. Сравните следующие детали у бустинга и линейной модели:\n",
        "\n",
        "- время обучения\n",
        "- сходимость (как быстро, как стабильно и прочее)\n",
        "- графики функции потерь на трейне и на валидации"
      ]
    },
    {
      "cell_type": "code",
      "execution_count": null,
      "metadata": {},
      "outputs": [
        {
          "name": "stdout",
          "output_type": "stream",
          "text": [
            "Boosting Time: 0.03 seconds\n",
            "SGDClassifier Time: 0.09 seconds\n"
          ]
        }
      ],
      "source": [
        "print(f\"Boosting Time: {end_time - start_time:.2f} seconds\")\n",
        "print(f\"SGDClassifier Time: {sgd_training_time:.2f} seconds\")"
      ]
    },
    {
      "cell_type": "code",
      "execution_count": null,
      "metadata": {
        "id": "Yk52edLvwHTm"
      },
      "outputs": [
        {
          "data": {
            "image/png": "[encoded data removed]",
            "text/plain": [
              "<Figure size 1200x600 with 1 Axes>"
            ]
          },
          "metadata": {},
          "output_type": "display_data"
        }
      ],
      "source": [
        "plt.figure(figsize=(12, 6))\n",
        "\n",
        "plt.plot(train_losses, label=\"Boosting Train Loss\")\n",
        "plt.plot(val_losses, label=\"Boosting Validation Loss\")\n",
        "\n",
        "plt.plot(sgd_train_losses, label=\"SGD Train Loss\", linestyle='--')\n",
        "plt.plot(sgd_val_losses, label=\"SGD Validation Loss\", linestyle='--')\n",
        "\n",
        "plt.xlabel(\"Iterations / Boosting Rounds\")\n",
        "plt.ylabel(\"Log Loss\")\n",
        "plt.title(\"Comparison of Loss Functions: Boosting vs SGDClassifier\")\n",
        "plt.legend()\n",
        "plt.grid(True)\n",
        "plt.show()"
      ]
    },
    {
      "cell_type": "markdown",
      "metadata": {
        "id": "Sk6UUnfEwNye"
      },
      "source": [
        "<font color='plum'>**Вопрос:** Какой вывод вы можете сделать?</font>\n",
        "\n",
        "<font color='plum'>**Ответ:** По времени быстрее обучается бустинг, а не SGDClassifier (но вообще везде обучение очень быстрое) - при этом по качеству обучения он лучше, чем SGDClassifier. Оба из них сильно зависят от гиперпараметров, сходимость быстрее у SGDClassifier, но возможность это я с гиперпараметрами так и не угадала. При этом при бустинге ошибка быстрее сходится на валидационной, а дальше начинается понижение ее на обучающей за счет переобучения - у SGDClassifier такой проблемы нет  </font>"
      ]
    },
    {
      "cell_type": "markdown",
      "metadata": {
        "id": "A0mRuav_oUyV"
      },
      "source": [
        "### 2.2. Бутстрап (0.5 балла)\n",
        "Как известно, при обучении базовых алгоритмов в беггинге, используется бутстрапированная выборка. Звучит хайпово, почему бы не попробовать сделать то же самое в бустинге?\n",
        "\n",
        "| <font color='lightblue'>XGBoost</font> | <font color='lightgreen'>LightGBM</font> | <font color='palegoldenrod'>CatBoost</font> |\n",
        "| --- | --- | --- |\n",
        "| `subsample`, — | `subsample`, `bagging`| `subsample`, `bootstrap_type`|\n",
        "\n",
        "Вам нужно реализовать параметры:\n",
        "- `subsample: float | int = 1.0` — доля или число объектов, на которой будет обучаться базовая модель (какую часть составляет бутстрапная выборка от исходной обучающей). Соответствует бутстрапу типа `Bernoulli`. Каждый объект либо входит в подвыборку, либо нет\n",
        "- `bagging_temperature: float | int = 1.0` — веса объектов, которые попадают в выборку. Соответствует бутстрапу типа `Bayesian`. Каждый объект имеет определенный вес $t$, на который впоследствии домножается по формуле $w = (-\\log(X))^t$, где $X \\sim {U[0, 1]}$, после чего попадает в выборку. Таким образом можно сделать симуляцию повторений\n",
        "- `bootstrap_type: str | None = 'Bernoulli'` — тип бутстрапа\n",
        "\n",
        "<font color='plum'>**Вопрос:** как бутстрап может помочь в обучении с точки зрения смещения, разброса и вообще?</font>\n",
        "\n",
        "<font color='plum'>**Ответ:** В контексте ансамблей, бутстрап может помочь улучшить обучение и качество.\n",
        "\n",
        "- Бутстрап сам по себе не уменьшает смещение модели. Однако, бутстрап в ансамбле моделей может компенсировать смещение отдельных слабых моделей за счет комбинирования результатов (зависит от подмножеств, на которых обучаемся)\n",
        "\n",
        "- Помогает уменьшить разброс модели (особенно для моделей, склонных к переобучению), так как используется множество обучающих выборок, что дает более стабильные модели (предсказания становятся менее зависимыми от конкретных особенностей обучающей выборки)\n",
        "\n",
        "- В целом, бутстрап помогает обобщать модели, так как он делает их менее чувствительными к шуму и отдельным выбросам \n",
        "\n",
        "Как итог, качество правда стало выше (особенно на тесте заметно)</font>"
      ]
    },
    {
      "cell_type": "code",
      "execution_count": null,
      "metadata": {
        "id": "OfZyYsEb33hM"
      },
      "outputs": [
        {
          "name": "stdout",
          "output_type": "stream",
          "text": [
            "Train ROC-AUC 0.9995\n",
            "Valid ROC-AUC 0.9224\n",
            "Test ROC-AUC 0.9224\n"
          ]
        }
      ],
      "source": [
        "boosting = Boosting(n_estimators=100, subsample=0.8, bagging_temperature=0.5, bootstrap_type='Bernoulli', bootstrap=True, eval_set=None)\n",
        "boosting.fit(X_train, y_train)\n",
        "\n",
        "print(f'Train ROC-AUC {boosting.score(X_train, y_train):.4f}')\n",
        "print(f'Valid ROC-AUC {boosting.score(X_valid, y_valid):.4f}')\n",
        "print(f'Test ROC-AUC {boosting.score(X_test, y_test):.4f}')"
      ]
    },
    {
      "cell_type": "markdown",
      "metadata": {
        "id": "9QSvbPGf37Y8"
      },
      "source": [
        "### Бонус. GOSS (0.5 балла)\n",
        "\n",
        "Заметим, что во время обучения не все объекты одинаково важны. Один из вариантов это исправить — ввести какие-то веса на объекты, однако можно пойти чуть хитрее. В <font color='lightgreen'>**LightGBM**</font> придумали подход [Gradient-based One-side Sampling](https://www.microsoft.com/en-us/research/wp-content/uploads/2017/11/lightgbm.pdf)\n",
        "\n",
        "Давайте оценивать важность объектов в отдельный момент обучения нового дерева. Будем считать, какой антиградиент привносит каждый объект. Далее разобъем градиенты на 2 группы. Объекты с большими градиентами берутся все, с маленькими — только часть, по аналогии с бутстрапом, с отрицательными — выкидываются. И не забываем домножить на фактор, чтобы учесть выкинутые объекты. Подробнее в статье\n",
        "\n",
        "| <font color='lightblue'>XGBoost</font> | <font color='lightgreen'>LightGBM</font> | <font color='palegoldenrod'>CatBoost</font> |\n",
        "| --- | --- | --- |\n",
        "| — | `bagging='goss'`| `bootstrap_type='MVS'`|\n",
        "\n",
        "Параметры, которые нужно сделать:\n",
        "\n",
        "- `goss: bool | None = False` — GOSS бустинг или нет\n",
        "- `goss_k: float | int = 0.2` — доля объектов, градиенты которых будем считать большими. Все остальное — маленькими\n",
        "- `subsample: float | int = 0.3` — параметры сэмплинга для маленьких градиентов из пункта 2.1"
      ]
    },
    {
      "cell_type": "code",
      "execution_count": null,
      "metadata": {
        "id": "NRQHhAcH38yM"
      },
      "outputs": [],
      "source": [
        "# *𖣂♱𖠰𖣂↟*𖠰ᨒ↟*𖥧˚"
      ]
    },
    {
      "cell_type": "markdown",
      "metadata": {
        "id": "5FG0J-cvoUyV"
      },
      "source": [
        "### 2.3. Работа с признаками (1 балл)\n",
        "\n",
        "1. Помимо выбора случайных объектов, есть идея выбирать случайное подмножество признаков, заложенная в Random Forest. Мотивация это делать точно та же самая, что и в бутстрапировании, за это будет отвечать `rsm`\n",
        "\n",
        "2. С другой стороны, вместо того, чтобы выкидывать признаки, можно попробовать проредить их множество значений, применив бинаризацию. В идеале это стоит делать с датасетом до обучения модели, но не обязательно, можно, например, на этапе `fit`, а в `partial_fit` приходит уже квантизованный датасет. Для этого существует множество алгоритмов, мы предлагаем сделать два наиболее простых:\n",
        "\n",
        "- $\\text{Uniform}$. Значения признака $[\\min f_i, \\max f_i]$ отображаются в `nbins` отрезков одинаковой длины, которые полностью покрывают интервал\n",
        "- $\\text{Quantile}$. Тот же самый отрезок сортируется и бьется на `nbins` квантилей от 0 до 1\n",
        "\n",
        "| <font color='lightblue'>XGBoost</font> | <font color='lightgreen'>LightGBM</font> | <font color='palegoldenrod'>CatBoost</font> |\n",
        "| --- | --- | --- |\n",
        "| `colsample_bytree`, `tree_method` | `colsample_bytree`, `max_bin`| `rsm`, `quantize(...)`|\n",
        "\n",
        "Нужно добавить параметры:\n",
        "- `rsm: float | int = 1.0` — доля или число признаков, участвующих в обучении модели. Каждый признак либо входит, либо не входит в пул, на котором обучается базовый алгоритм, по аналогии с бутстрапом Бернулли\n",
        "- `quantization_type: str | None = None` — тип квантизации, если она есть\n",
        "- `nbins: int = 255` — число бинов для квантизации. Игнорируем, если тип квантизации не указан\n",
        "\n",
        "<font color='plum'>**Вопрос**: как квантизация поможет в обработке выбросов и нанов?</font>\n",
        "\n",
        "<font color='plum'>**Ответ**: квантизация, разбивая данные на несколько бинов, может помочь уменьшить влияние выбросов, так как экстремальные значения признаков (например, выбросы) будут помещены в один и тот же бин, что ограничивает их влияние на модель. Это уменьшает чрезмерную чувствительность модели к данным с большой дисперсией (а значит и переобучение). Для нанов, если квантизация делается до обучения, такие значения можно отнести к отдельной категории, создавая для них специальный бин. Или лучше обработать их до квантизации, например, заполнив их средним значением или медианой для каждого признака. </font>\n",
        "\n",
        "<font color='plum'>**Вопрос**: можно ли просто заполнить наны каким-то числом? Имеет ли значение, что это за число (-1, -100, -1e32)?</font>\n",
        "\n",
        "<font color='plum'>**Ответ**: можно заполнить конкретным числом: например, среднее/медиана/мода — они минимизируют искажения в распределении данных и  сохраняют данные близкими к распределению остальных признаков. Отрицательные значения (-1, -100, -1e32) — такие значения могут ввести дополнительный шум в модель, если это число не является частью логики задачи. Вероятно валидно такое использовать только в случаях, когда это соответствует данным, например, если значения признаков всегда положительные, а наны нужно заполнить минимально возможным значением.</font>"
      ]
    },
    {
      "cell_type": "code",
      "execution_count": 153,
      "metadata": {},
      "outputs": [],
      "source": [
        "%autoreload 2\n",
        "\n",
        "from boosting import Boosting"
      ]
    },
    {
      "cell_type": "code",
      "execution_count": 135,
      "metadata": {},
      "outputs": [
        {
          "name": "stdout",
          "output_type": "stream",
          "text": [
            "Train ROC-AUC 0.5000\n",
            "Valid ROC-AUC 0.5000\n",
            "Test ROC-AUC 0.5000\n"
          ]
        }
      ],
      "source": [
        "boosting = Boosting(n_estimators=100, quantization_type = \"uniform\", eval_set=None)\n",
        "boosting.fit(X_train, y_train)\n",
        "\n",
        "print(f'Train ROC-AUC {boosting.score(X_train, y_train):.4f}')\n",
        "print(f'Valid ROC-AUC {boosting.score(X_valid, y_valid):.4f}')\n",
        "print(f'Test ROC-AUC {boosting.score(X_test, y_test):.4f}')"
      ]
    },
    {
      "cell_type": "code",
      "execution_count": 126,
      "metadata": {},
      "outputs": [
        {
          "name": "stdout",
          "output_type": "stream",
          "text": [
            "Train ROC-AUC 0.5000\n",
            "Valid ROC-AUC 0.5000\n",
            "Test ROC-AUC 0.5000\n"
          ]
        }
      ],
      "source": [
        "boosting = Boosting(n_estimators=100, quantization_type = \"quantile\", eval_set=None)\n",
        "boosting.fit(X_train, y_train)\n",
        "\n",
        "print(f'Train ROC-AUC {boosting.score(X_train, y_train):.4f}')\n",
        "print(f'Valid ROC-AUC {boosting.score(X_valid, y_valid):.4f}')\n",
        "print(f'Test ROC-AUC {boosting.score(X_test, y_test):.4f}')"
      ]
    },
    {
      "cell_type": "markdown",
      "metadata": {},
      "source": [
        "В общем не знаю я как это исправить, так что пусть будет так (все функции вроде добавила, неясно)\n",
        "\n",
        "Что то объективно я не так сделала"
      ]
    },
    {
      "cell_type": "markdown",
      "metadata": {
        "id": "p_sfjI1poUyV"
      },
      "source": [
        "### Бонус. Квантизация (1.5 балл)\n",
        "\n",
        "В текущих имплементациях бустинга используются более сложные методы квантизации. К сожалению, способы выше страдают либо от неравноправности бинов — в каких-то объектов больше, в каких-то меньше, либо от того, что целевая переменная от бинов зависит опосредованно. Предлагается это исправить следующими способами:\n",
        "\n",
        "1. $\\text{MinEntropy}$. Это [один из методов](https://catboost.ai/docs/en/concepts/quantization), который используется для бинаризации в <font color='palegoldenrod'>**CatBoost**</font>, остальные на него очень похожи. Будем жадно набирать бины так, чтобы энтропия объектов внутри ($\\sum_{i \\in \\text{bin}} x_i\\log(x_i)$) была как можно меньше. Сделать такое разбиение руками непросто, но вам эта задача должна что-то напоминать\n",
        "   \n",
        "2. $\\text{PiecewiseEncoding}$. Это относительно свежий метод для [табличных трансформеров](https://arxiv.org/pdf/2203.05556). Суть заключается в том, что бины для квантизации будем брать не с потолка, а именно те, что нужны для разбиения таргета. (В статье делается кодирование в вектор длины $T$, где $T$ число бинов, в нашем случае это излишне, бинов можно оставить столько же, но взять лмшь закодированную по формуле часть)\n",
        "\n",
        "| <font color='lightblue'>XGBoost</font> | <font color='lightgreen'>LightGBM</font> | <font color='palegoldenrod'>CatBoost</font> |\n",
        "| --- | --- | --- |\n",
        "| — | — | `feature_border_type=\"Piecewise\"` |\n",
        "\n",
        "Нужно добавить опцию:\n",
        "\n",
        "- `'MinEntropy'` для `quantization_type` — какую квантизацию используем\n",
        "\n",
        "Реализуйте оба способа подсчета (или один, но тогда балл неполный) и сравните, удалось ли улучшить качество?"
      ]
    },
    {
      "cell_type": "code",
      "execution_count": null,
      "metadata": {
        "id": "W4l96Q1OoUyV"
      },
      "outputs": [],
      "source": [
        "# *𖣂♱𖠰𖣂↟*𖠰ᨒ↟*𖥧˚"
      ]
    },
    {
      "cell_type": "markdown",
      "metadata": {
        "id": "rVVJUN_yoUyV"
      },
      "source": [
        "### 2.4. Важность признаков (0.5 балла)\n",
        "\n",
        "Поскольку наша базовая модель — это дерево из `sklearn`, мы можем вычислить важность признака отдельно для каждого дерева и усреднить (воспользуйтесь `feature_importances_` у `DecisionTreeRegressor`), после этого нормировать значения, чтобы они суммировались в единицу (обратите внимание, что они должны быть неотрицательными — иначе вы что-то сделали не так). Разумеется, способ не единственный, если хочется, посмотрите в документации\n",
        "\n",
        "| <font color='lightblue'>XGBoost</font> | <font color='lightgreen'>LightGBM</font> | <font color='palegoldenrod'>CatBoost</font> |\n",
        "| --- | --- | --- |\n",
        "| `model.get_score()` | `lightgbm.importance()` | `model.get_feature_importance()` |\n",
        "\n",
        "Допишите к бустингу:\n",
        "- `feature_importances_` — атрибут, который возвращает важность признаков, согласно методу выше"
      ]
    },
    {
      "cell_type": "code",
      "execution_count": 50,
      "metadata": {
        "id": "MvJbIISHoUyV"
      },
      "outputs": [
        {
          "name": "stdout",
          "output_type": "stream",
          "text": [
            "Train ROC-AUC 0.9995\n",
            "Valid ROC-AUC 0.9242\n",
            "Test ROC-AUC 0.9232\n"
          ]
        }
      ],
      "source": [
        "boosting = Boosting(n_estimators=100, subsample=0.8, bagging_temperature=0.5, bootstrap_type='Bernoulli', bootstrap=True, eval_set=None)\n",
        "boosting.fit(X_train, y_train)\n",
        "\n",
        "print(f'Train ROC-AUC {boosting.score(X_train, y_train):.4f}')\n",
        "print(f'Valid ROC-AUC {boosting.score(X_valid, y_valid):.4f}')\n",
        "print(f'Test ROC-AUC {boosting.score(X_test, y_test):.4f}')"
      ]
    },
    {
      "cell_type": "markdown",
      "metadata": {
        "id": "ojXppDXEoUyV"
      },
      "source": [
        "Покажите, какие признаки оказались самыми важными"
      ]
    },
    {
      "cell_type": "code",
      "execution_count": 54,
      "metadata": {
        "id": "aklJJMFOoUyV"
      },
      "outputs": [
        {
          "data": {
            "image/png": "[encoded data removed]",
            "text/plain": [
              "<Figure size 1000x600 with 1 Axes>"
            ]
          },
          "metadata": {},
          "output_type": "display_data"
        }
      ],
      "source": [
        "importances = boosting.feature_importances_()\n",
        "sorted_indices = np.argsort(importances)[::-1]\n",
        "\n",
        "N = 10  \n",
        "top_N_indices = sorted_indices[:N]\n",
        "\n",
        "plt.figure(figsize=(10, 6))\n",
        "plt.bar(range(N), importances[top_N_indices], align=\"center\")\n",
        "plt.xticks(range(N), [f\"Feature {i}\" for i in top_N_indices])\n",
        "plt.xlabel(\"Features\")\n",
        "plt.ylabel(\"Importance\")\n",
        "plt.title(\"Top-N features\")\n",
        "plt.tick_params(labelrotation = 45)\n",
        "plt.tight_layout()\n",
        "plt.show()"
      ]
    },
    {
      "cell_type": "markdown",
      "metadata": {
        "id": "u9ZsXqV6oUyW"
      },
      "source": [
        "### Бонус. DART (1.5 балла)\n",
        "\n",
        "Ранее мы обсуждали, что каждый базовый алгоритм пытается исправить ошибки всего предыдущего ансамбля. Из-за этого возникает неравноправие — каждая новая модель вносит все меньший и меньший вклад. Уверенные обучатели нейросетей знают, что это может привести к переобучению. Но выход есть, и выход этот [DART](https://arxiv.org/pdf/1505.01866)!\n",
        "\n",
        "В DL есть такой вид регуляризации, как dropout, когда некоторые узлы нейросети со случайным шансом отключаются. Можно попробовать обобщить этот подход на случай бустингов и случайно выкидывать деревья из композиции во время обучения\n",
        "\n",
        "1. Выбираем, какие деревья убрать. При подсчете антиградиента берем не весь ансамбль, а только ту часть, что осталась\n",
        "2. Домножаем выходы дерева на $1/k$, где $k$ — число удаленных деревьев, чтобы учесть тот факт, что ансамбль был не весь. Тогда вклад отдельного дерева будет не настолько большим\n",
        "3. Домножаем выходы выкинутых деревьев на $k/(k+1)$, чтобы масштабы выходов примерно совпадали\n",
        "\n",
        "| <font color='lightblue'>XGBoost</font> | <font color='lightgreen'>LightGBM</font> | <font color='palegoldenrod'>CatBoost</font> |\n",
        "| --- | --- | --- |\n",
        "| `XGBClassifier(booster=\"dart\")` | `LGBMClassifier(boosting_type=\"dart\")` | — |\n",
        "\n",
        "Параметры, которые нужно добавить:\n",
        "\n",
        "- `dart: bool | None = False` — DART бустинг или нет\n",
        "- `dropout_rate: int | float = 0.05` — доля деревьев, которую выкидываем во время обучения DART"
      ]
    },
    {
      "cell_type": "code",
      "execution_count": null,
      "metadata": {
        "id": "RJHEF1odoUyW"
      },
      "outputs": [],
      "source": [
        "# *𖣂♱𖠰𖣂↟*𖠰ᨒ↟*𖥧˚"
      ]
    },
    {
      "cell_type": "markdown",
      "metadata": {
        "id": "yGiFCx4-oUyW",
        "pycharm": {
          "name": "#%% md\n"
        }
      },
      "source": [
        "------\n",
        "\n",
        "## Задание 3. Оптимизация (3.5 балла + 0.5 бонус)\n",
        "\n",
        "Теперь давайте подумаем, как же правильно применять бустинги. Нас интересует: какие бустинги вообще бывают, как их правильно тюнить, и как интерпретировать\n",
        "\n",
        "Оптимизация моделей с большим числом гиперпараметров это сложное дело. Нетрудно догадаться, что в случае, когда параметров $m$, сложность перебора в самом худшем случае будет порядка $n^m$. У бустингов, хотя на самом деле не только, эта проблема стоит особенно остро. Подумаем, как это делать умнее\n",
        "\n",
        "### 3.1. Знакомство с optuna (1 балл)\n",
        "\n",
        "Для эффективного подбора гиперпараметров существует несколько решений, основанных на байесовской оптимизации. В этом задании предлагается познакомиться с библиотекой [optuna](https://optuna.org/), которая делает перебор гиперпараметров легким и приятным, а также сохраняет всю историю экспериментов в одно место за вас\n",
        "\n",
        "Подберите на валидации оптимальные значения следующих гиперпараметров для вашей реализации бустинга:\n",
        "- `max_depth`\n",
        "- `n_estimators`\n",
        "- `learning_rate`\n",
        "- любые другие параметры, которые вам понравились\n",
        "\n",
        "Заметим, что оптуна это крайне гибкая библиотека, в которой можно реализовать абсолютно любую логику, которую пожелаете. За вас там есть лишь выбор модели. Чтобы не плодить несколько `objective`, можно слегка менять тело функции, например, добавить опциональные параметры, но шаблоном пользоваться не обязательно, как обычно\n",
        "\n",
        "Подберите диапазон параметров самостоятельно, не забывайте фиксировать сид (нет, его не нужно перебирать). Сохраните и покажите оптимальный набор параметров. Сравните графики функций потерь для оптимального и дефолтного бустингов. Покажите, какие параметры дали наибольший прирост (для этого придется почитать документацию оптуны)"
      ]
    },
    {
      "cell_type": "code",
      "execution_count": 56,
      "metadata": {
        "id": "wAaz6-fFoUyW",
        "pycharm": {
          "is_executing": true,
          "name": "#%%\n"
        }
      },
      "outputs": [],
      "source": [
        "import optuna\n",
        "\n",
        "def objective(study, model=\"custom_boosting\"):\n",
        "    # параметры, общие для всех бустингов\n",
        "    common_params = ...\n",
        "    # параметры для конкретной имплементации бустинга\n",
        "    optional_params = ...\n",
        "\n",
        "    pass"
      ]
    },
    {
      "cell_type": "code",
      "execution_count": 106,
      "metadata": {},
      "outputs": [
        {
          "name": "stderr",
          "output_type": "stream",
          "text": [
            "[I 2024-12-22 19:22:20,446] A new study created in memory with name: no-name-19bea8e5-e513-440a-88a7-457199ed72ca\n",
            "[I 2024-12-22 19:22:29,407] Trial 0 finished with value: 0.9097844644896806 and parameters: {'max_depth': 9, 'n_estimators': 250, 'learning_rate': 0.058203879130355525, 'subsample': 0.6486014524904227, 'early_stopping_rounds': 13, 'tree_min_samples_split': 29}. Best is trial 0 with value: 0.9097844644896806.\n",
            "[I 2024-12-22 19:22:33,306] Trial 1 finished with value: 0.8801999149128416 and parameters: {'max_depth': 2, 'n_estimators': 149, 'learning_rate': 0.15503372135598242, 'subsample': 0.9434665917030598, 'early_stopping_rounds': 13, 'tree_min_samples_split': 23}. Best is trial 0 with value: 0.9097844644896806.\n",
            "[I 2024-12-22 19:22:53,632] Trial 2 finished with value: 0.9105698844139642 and parameters: {'max_depth': 10, 'n_estimators': 349, 'learning_rate': 0.47011151720563815, 'subsample': 0.8833911567507955, 'early_stopping_rounds': 13, 'tree_min_samples_split': 14}. Best is trial 2 with value: 0.9105698844139642.\n",
            "[I 2024-12-22 19:22:58,572] Trial 3 finished with value: 0.9214891370198581 and parameters: {'max_depth': 8, 'n_estimators': 148, 'learning_rate': 0.09299603577728179, 'subsample': 0.6542925167775202, 'early_stopping_rounds': 7, 'tree_min_samples_split': 17}. Best is trial 3 with value: 0.9214891370198581.\n",
            "[I 2024-12-22 19:23:00,917] Trial 4 finished with value: 0.9362009940670464 and parameters: {'max_depth': 8, 'n_estimators': 69, 'learning_rate': 0.10342553983195565, 'subsample': 0.657822591305409, 'early_stopping_rounds': 9, 'tree_min_samples_split': 8}. Best is trial 4 with value: 0.9362009940670464.\n",
            "[I 2024-12-22 19:23:14,915] Trial 5 finished with value: 0.9095035012647337 and parameters: {'max_depth': 8, 'n_estimators': 331, 'learning_rate': 0.3767018004676022, 'subsample': 0.7659662799092183, 'early_stopping_rounds': 7, 'tree_min_samples_split': 14}. Best is trial 4 with value: 0.9362009940670464.\n",
            "[I 2024-12-22 19:23:23,652] Trial 6 finished with value: 0.9162761517297198 and parameters: {'max_depth': 9, 'n_estimators': 225, 'learning_rate': 0.18253151072801518, 'subsample': 0.6477590311811983, 'early_stopping_rounds': 13, 'tree_min_samples_split': 8}. Best is trial 4 with value: 0.9362009940670464.\n",
            "[I 2024-12-22 19:23:36,633] Trial 7 finished with value: 0.9074988446185566 and parameters: {'max_depth': 8, 'n_estimators': 281, 'learning_rate': 0.05461391187324596, 'subsample': 0.9064661196707557, 'early_stopping_rounds': 1, 'tree_min_samples_split': 23}. Best is trial 4 with value: 0.9362009940670464.\n",
            "[I 2024-12-22 19:23:51,554] Trial 8 finished with value: 0.9067964365561891 and parameters: {'max_depth': 8, 'n_estimators': 342, 'learning_rate': 0.06853064748801173, 'subsample': 0.8416041527047919, 'early_stopping_rounds': 11, 'tree_min_samples_split': 14}. Best is trial 4 with value: 0.9362009940670464.\n",
            "[I 2024-12-22 19:23:54,539] Trial 9 finished with value: 0.9324387208829907 and parameters: {'max_depth': 7, 'n_estimators': 110, 'learning_rate': 0.4118994465694499, 'subsample': 0.5378346691452998, 'early_stopping_rounds': 5, 'tree_min_samples_split': 20}. Best is trial 4 with value: 0.9362009940670464.\n",
            "[I 2024-12-22 19:24:03,865] Trial 10 finished with value: 0.8984828784043843 and parameters: {'max_depth': 5, 'n_estimators': 481, 'learning_rate': 0.017195522820079263, 'subsample': 0.5120269473382362, 'early_stopping_rounds': 3, 'tree_min_samples_split': 5}. Best is trial 4 with value: 0.9362009940670464.\n",
            "[I 2024-12-22 19:24:05,106] Trial 11 finished with value: 0.9327300605906773 and parameters: {'max_depth': 6, 'n_estimators': 53, 'learning_rate': 0.010738264788809938, 'subsample': 0.5185501377069249, 'early_stopping_rounds': 5, 'tree_min_samples_split': 23}. Best is trial 4 with value: 0.9362009940670464.\n",
            "[I 2024-12-22 19:24:06,350] Trial 12 finished with value: 0.9286321480995472 and parameters: {'max_depth': 5, 'n_estimators': 52, 'learning_rate': 0.01023248242196266, 'subsample': 0.5884280003960789, 'early_stopping_rounds': 9, 'tree_min_samples_split': 26}. Best is trial 4 with value: 0.9362009940670464.\n",
            "[I 2024-12-22 19:24:08,456] Trial 13 finished with value: 0.9321813042919527 and parameters: {'max_depth': 6, 'n_estimators': 67, 'learning_rate': 0.0312906540391991, 'subsample': 0.7260365004557547, 'early_stopping_rounds': 5, 'tree_min_samples_split': 8}. Best is trial 4 with value: 0.9362009940670464.\n",
            "[I 2024-12-22 19:24:11,798] Trial 14 finished with value: 0.8925846461579476 and parameters: {'max_depth': 3, 'n_estimators': 187, 'learning_rate': 0.030057396506804675, 'subsample': 0.582126176069229, 'early_stopping_rounds': 9, 'tree_min_samples_split': 20}. Best is trial 4 with value: 0.9362009940670464.\n",
            "[I 2024-12-22 19:24:15,375] Trial 15 finished with value: 0.9251959359308064 and parameters: {'max_depth': 6, 'n_estimators': 109, 'learning_rate': 0.1421737091110037, 'subsample': 0.7612987159318324, 'early_stopping_rounds': 5, 'tree_min_samples_split': 11}. Best is trial 4 with value: 0.9362009940670464.\n",
            "[I 2024-12-22 19:24:27,441] Trial 16 finished with value: 0.8953224412192207 and parameters: {'max_depth': 5, 'n_estimators': 450, 'learning_rate': 0.01004971222346625, 'subsample': 0.7049564602009001, 'early_stopping_rounds': 9, 'tree_min_samples_split': 29}. Best is trial 4 with value: 0.9362009940670464.\n",
            "[I 2024-12-22 19:24:29,644] Trial 17 finished with value: 0.9167562636041675 and parameters: {'max_depth': 4, 'n_estimators': 108, 'learning_rate': 0.03662996890821862, 'subsample': 0.5808406704451008, 'early_stopping_rounds': 1, 'tree_min_samples_split': 5}. Best is trial 4 with value: 0.9362009940670464.\n",
            "[I 2024-12-22 19:24:31,757] Trial 18 finished with value: 0.9340638377181956 and parameters: {'max_depth': 7, 'n_estimators': 53, 'learning_rate': 0.23395301746329197, 'subsample': 0.8117373439056632, 'early_stopping_rounds': 3, 'tree_min_samples_split': 20}. Best is trial 4 with value: 0.9362009940670464.\n",
            "[I 2024-12-22 19:24:42,432] Trial 19 finished with value: 0.9202870614040338 and parameters: {'max_depth': 10, 'n_estimators': 204, 'learning_rate': 0.25356575319861757, 'subsample': 0.816907098540019, 'early_stopping_rounds': 3, 'tree_min_samples_split': 17}. Best is trial 4 with value: 0.9362009940670464.\n",
            "[I 2024-12-22 19:24:48,704] Trial 20 finished with value: 0.9199506239059795 and parameters: {'max_depth': 7, 'n_estimators': 162, 'learning_rate': 0.10839953127977303, 'subsample': 0.8146053688778727, 'early_stopping_rounds': 3, 'tree_min_samples_split': 11}. Best is trial 4 with value: 0.9362009940670464.\n",
            "[I 2024-12-22 19:24:52,418] Trial 21 finished with value: 0.9339991842488184 and parameters: {'max_depth': 7, 'n_estimators': 77, 'learning_rate': 0.21445485820569704, 'subsample': 0.992072403355093, 'early_stopping_rounds': 5, 'tree_min_samples_split': 23}. Best is trial 4 with value: 0.9362009940670464.\n",
            "[I 2024-12-22 19:24:56,823] Trial 22 finished with value: 0.9348484594514992 and parameters: {'max_depth': 7, 'n_estimators': 95, 'learning_rate': 0.2852000841832966, 'subsample': 0.9383546926754421, 'early_stopping_rounds': 7, 'tree_min_samples_split': 20}. Best is trial 4 with value: 0.9362009940670464.\n",
            "[I 2024-12-22 19:25:02,928] Trial 23 finished with value: 0.9319414479024739 and parameters: {'max_depth': 9, 'n_estimators': 108, 'learning_rate': 0.3000690050717055, 'subsample': 0.9503130409640848, 'early_stopping_rounds': 11, 'tree_min_samples_split': 20}. Best is trial 4 with value: 0.9362009940670464.\n",
            "[I 2024-12-22 19:25:06,631] Trial 24 finished with value: 0.93310281577832 and parameters: {'max_depth': 7, 'n_estimators': 91, 'learning_rate': 0.11202009925342689, 'subsample': 0.8679275745906743, 'early_stopping_rounds': 7, 'tree_min_samples_split': 17}. Best is trial 4 with value: 0.9362009940670464.\n",
            "[I 2024-12-22 19:25:11,244] Trial 25 finished with value: 0.9252841360340923 and parameters: {'max_depth': 7, 'n_estimators': 135, 'learning_rate': 0.2890219746902601, 'subsample': 0.6833708645175582, 'early_stopping_rounds': 11, 'tree_min_samples_split': 26}. Best is trial 4 with value: 0.9362009940670464.\n",
            "[I 2024-12-22 19:25:13,588] Trial 26 finished with value: 0.9376485134092093 and parameters: {'max_depth': 9, 'n_estimators': 50, 'learning_rate': 0.20110540760178658, 'subsample': 0.8057570947008154, 'early_stopping_rounds': 9, 'tree_min_samples_split': 20}. Best is trial 26 with value: 0.9376485134092093.\n",
            "[I 2024-12-22 19:25:21,669] Trial 27 finished with value: 0.9198392762642746 and parameters: {'max_depth': 9, 'n_estimators': 179, 'learning_rate': 0.16316109716383836, 'subsample': 0.7695217275687767, 'early_stopping_rounds': 9, 'tree_min_samples_split': 17}. Best is trial 26 with value: 0.9376485134092093.\n",
            "[I 2024-12-22 19:25:29,765] Trial 28 finished with value: 0.9231617462183708 and parameters: {'max_depth': 10, 'n_estimators': 132, 'learning_rate': 0.08672957363684018, 'subsample': 0.9721852399448627, 'early_stopping_rounds': 7, 'tree_min_samples_split': 11}. Best is trial 26 with value: 0.9376485134092093.\n",
            "[I 2024-12-22 19:25:44,129] Trial 29 finished with value: 0.9120497304908157 and parameters: {'max_depth': 9, 'n_estimators': 271, 'learning_rate': 0.12613302835727672, 'subsample': 0.9133375757820221, 'early_stopping_rounds': 9, 'tree_min_samples_split': 26}. Best is trial 26 with value: 0.9376485134092093.\n",
            "[I 2024-12-22 19:25:57,216] Trial 30 finished with value: 0.9063937492067977 and parameters: {'max_depth': 8, 'n_estimators': 400, 'learning_rate': 0.05507266461801416, 'subsample': 0.6266160823680289, 'early_stopping_rounds': 11, 'tree_min_samples_split': 8}. Best is trial 26 with value: 0.9376485134092093.\n",
            "[I 2024-12-22 19:25:59,362] Trial 31 finished with value: 0.936380187942048 and parameters: {'max_depth': 8, 'n_estimators': 50, 'learning_rate': 0.22276223369582757, 'subsample': 0.8007991328769702, 'early_stopping_rounds': 9, 'tree_min_samples_split': 20}. Best is trial 26 with value: 0.9376485134092093.\n",
            "[I 2024-12-22 19:26:02,929] Trial 32 finished with value: 0.9369720465536907 and parameters: {'max_depth': 8, 'n_estimators': 82, 'learning_rate': 0.333854657960122, 'subsample': 0.7917038383780672, 'early_stopping_rounds': 7, 'tree_min_samples_split': 20}. Best is trial 26 with value: 0.9376485134092093.\n",
            "[I 2024-12-22 19:26:06,534] Trial 33 finished with value: 0.9382471566441817 and parameters: {'max_depth': 10, 'n_estimators': 73, 'learning_rate': 0.19293513020372696, 'subsample': 0.7867896434347408, 'early_stopping_rounds': 9, 'tree_min_samples_split': 17}. Best is trial 33 with value: 0.9382471566441817.\n",
            "[I 2024-12-22 19:26:13,350] Trial 34 finished with value: 0.9275003132899596 and parameters: {'max_depth': 10, 'n_estimators': 134, 'learning_rate': 0.35951854622581064, 'subsample': 0.7817149837857174, 'early_stopping_rounds': 11, 'tree_min_samples_split': 17}. Best is trial 33 with value: 0.9382471566441817.\n",
            "[I 2024-12-22 19:26:17,277] Trial 35 finished with value: 0.9383046263947391 and parameters: {'max_depth': 10, 'n_estimators': 82, 'learning_rate': 0.4750699070999794, 'subsample': 0.7254786696372956, 'early_stopping_rounds': 9, 'tree_min_samples_split': 20}. Best is trial 35 with value: 0.9383046263947391.\n",
            "[I 2024-12-22 19:26:21,240] Trial 36 finished with value: 0.9390485403880645 and parameters: {'max_depth': 10, 'n_estimators': 83, 'learning_rate': 0.48493492197451943, 'subsample': 0.732655797277864, 'early_stopping_rounds': 7, 'tree_min_samples_split': 14}. Best is trial 36 with value: 0.9390485403880645.\n",
            "[I 2024-12-22 19:26:28,733] Trial 37 finished with value: 0.9249987827587556 and parameters: {'max_depth': 10, 'n_estimators': 155, 'learning_rate': 0.45673095815099224, 'subsample': 0.7365496232643708, 'early_stopping_rounds': 13, 'tree_min_samples_split': 14}. Best is trial 36 with value: 0.9390485403880645.\n",
            "[I 2024-12-22 19:26:40,767] Trial 38 finished with value: 0.9182796110894269 and parameters: {'max_depth': 10, 'n_estimators': 215, 'learning_rate': 0.49000994420810917, 'subsample': 0.8470094590689073, 'early_stopping_rounds': 9, 'tree_min_samples_split': 14}. Best is trial 36 with value: 0.9390485403880645.\n",
            "[I 2024-12-22 19:26:51,190] Trial 39 finished with value: 0.9139586042193972 and parameters: {'max_depth': 9, 'n_estimators': 256, 'learning_rate': 0.18852260407147714, 'subsample': 0.6894111936084275, 'early_stopping_rounds': 7, 'tree_min_samples_split': 14}. Best is trial 36 with value: 0.9390485403880645.\n"
          ]
        }
      ],
      "source": [
        "val_loss_history = {}\n",
        "\n",
        "def objective(trial):\n",
        "    max_depth = trial.suggest_int(\"max_depth\", 2, 10)\n",
        "    n_estimators = trial.suggest_int(\"n_estimators\", 50, 500) \n",
        "    learning_rate = trial.suggest_float(\"learning_rate\", 0.01, 0.5, log=True)  \n",
        "    subsample = trial.suggest_float(\"subsample\", 0.5, 1.0)  \n",
        "    early_stopping_rounds = trial.suggest_int('early_stopping_rounds', 1, 13, step=2)\n",
        "    min_samples_split = trial.suggest_int('tree_min_samples_split', 5, 30, step=3)\n",
        "\n",
        "    model = Boosting(\n",
        "        base_model_params={\"max_depth\": max_depth, \"min_samples_split\": min_samples_split},\n",
        "        n_estimators=n_estimators,\n",
        "        learning_rate=learning_rate,\n",
        "        subsample=subsample,\n",
        "        bootstrap = True\n",
        "    )\n",
        "    \n",
        "    model.fit(X_train, y_train, X_valid, y_valid)\n",
        "    \n",
        "    val_predictions = model.predict_proba(X_valid)[:, 1]\n",
        "    val_auc = roc_auc_score(y_valid, val_predictions)\n",
        "   \n",
        "    return val_auc \n",
        "\n",
        "\n",
        "study = optuna.create_study(direction=\"maximize\")  \n",
        "study.optimize(objective, n_trials=40) "
      ]
    },
    {
      "cell_type": "code",
      "execution_count": 107,
      "metadata": {},
      "outputs": [
        {
          "name": "stdout",
          "output_type": "stream",
          "text": [
            "Best parameters: {'max_depth': 10, 'n_estimators': 83, 'learning_rate': 0.48493492197451943, 'subsample': 0.732655797277864, 'early_stopping_rounds': 7, 'tree_min_samples_split': 14}\n",
            "Best ROC AUC score: 0.9390485403880645\n"
          ]
        }
      ],
      "source": [
        "best_params = study.best_params\n",
        "print(f\"Best parameters: {best_params}\")\n",
        "print(f\"Best ROC AUC score: {study.best_value}\")"
      ]
    },
    {
      "cell_type": "code",
      "execution_count": 99,
      "metadata": {},
      "outputs": [],
      "source": [
        "default_model = Boosting(\n",
        "    n_estimators=100,\n",
        "    early_stopping_rounds=10,\n",
        "    bootstrap=True\n",
        ")\n",
        "default_model.fit(X_train, y_train, X_valid, y_valid)"
      ]
    },
    {
      "cell_type": "code",
      "execution_count": 111,
      "metadata": {},
      "outputs": [
        {
          "name": "stdout",
          "output_type": "stream",
          "text": [
            "Early stopping after 16 iterations.\n"
          ]
        }
      ],
      "source": [
        "best_trial = study.best_trial\n",
        "default_model.eval_set = (X_valid, y_valid)\n",
        "default_val_loss_history = default_model.get_losses()\n",
        "\n",
        "best_boosting = Boosting(n_estimators=study.best_params[\"n_estimators\"],\n",
        "                    learning_rate=study.best_params[\"learning_rate\"],\n",
        "                    subsample=study.best_params[\"subsample\"],\n",
        "                    early_stopping_rounds=study.best_params[\"early_stopping_rounds\"],\n",
        "                    eval_set = (X_valid, y_valid),\n",
        "                    base_model_params= {\n",
        "                      'max_depth': study.best_params['max_depth'],\n",
        "                      'min_samples_split': study.best_params['tree_min_samples_split']\n",
        "                    })\n",
        "\n",
        "best_boosting.fit(X_train, y_train, X_valid, y_valid)\n",
        "val_loss_history = best_boosting.get_losses()"
      ]
    },
    {
      "cell_type": "code",
      "execution_count": 112,
      "metadata": {},
      "outputs": [
        {
          "data": {
            "image/png": "[encoded data removed]",
            "text/plain": [
              "<Figure size 1000x600 with 1 Axes>"
            ]
          },
          "metadata": {},
          "output_type": "display_data"
        }
      ],
      "source": [
        "plt.figure(figsize=(10, 6))\n",
        "plt.plot(default_val_loss_history, label=\"Default Boosting\", color=\"blue\")\n",
        "plt.plot(val_loss_history, label=\"Optimal Boosting\", color=\"orange\")\n",
        "plt.title(\"Validation Loss Over Iterations\")\n",
        "plt.xlabel(\"Iteration\")\n",
        "plt.ylabel(\"Validation Loss\")\n",
        "plt.legend()\n",
        "plt.show()"
      ]
    },
    {
      "cell_type": "code",
      "execution_count": 113,
      "metadata": {},
      "outputs": [
        {
          "data": {
            "application/vnd.plotly.v1+json": {
              "config": {
                "plotlyServerURL": "https://plot.ly"
              },
              "data": [
                {
                  "cliponaxis": false,
                  "hovertemplate": [
                    "early_stopping_rounds (IntDistribution): 0.006735505513738249<extra></extra>",
                    "subsample (FloatDistribution): 0.011533452648590866<extra></extra>",
                    "tree_min_samples_split (IntDistribution): 0.01174900277532824<extra></extra>",
                    "learning_rate (FloatDistribution): 0.026705643274728613<extra></extra>",
                    "max_depth (IntDistribution): 0.29868291942982833<extra></extra>",
                    "n_estimators (IntDistribution): 0.6445934763577856<extra></extra>"
                  ],
                  "name": "Objective Value",
                  "orientation": "h",
                  "text": [
                    "<0.01",
                    "0.01",
                    "0.01",
                    "0.03",
                    "0.30",
                    "0.64"
                  ],
                  "textposition": "outside",
                  "type": "bar",
                  "x": [
                    0.006735505513738249,
                    0.011533452648590866,
                    0.01174900277532824,
                    0.026705643274728613,
                    0.29868291942982833,
                    0.6445934763577856
                  ],
                  "y": [
                    "early_stopping_rounds",
                    "subsample",
                    "tree_min_samples_split",
                    "learning_rate",
                    "max_depth",
                    "n_estimators"
                  ]
                }
              ],
              "layout": {
                "template": {
                  "data": {
                    "bar": [
                      {
                        "error_x": {
                          "color": "#2a3f5f"
                        },
                        "error_y": {
                          "color": "#2a3f5f"
                        },
                        "marker": {
                          "line": {
                            "color": "#E5ECF6",
                            "width": 0.5
                          },
                          "pattern": {
                            "fillmode": "overlay",
                            "size": 10,
                            "solidity": 0.2
                          }
                        },
                        "type": "bar"
                      }
                    ],
                    "barpolar": [
                      {
                        "marker": {
                          "line": {
                            "color": "#E5ECF6",
                            "width": 0.5
                          },
                          "pattern": {
                            "fillmode": "overlay",
                            "size": 10,
                            "solidity": 0.2
                          }
                        },
                        "type": "barpolar"
                      }
                    ],
                    "carpet": [
                      {
                        "aaxis": {
                          "endlinecolor": "#2a3f5f",
                          "gridcolor": "white",
                          "linecolor": "white",
                          "minorgridcolor": "white",
                          "startlinecolor": "#2a3f5f"
                        },
                        "baxis": {
                          "endlinecolor": "#2a3f5f",
                          "gridcolor": "white",
                          "linecolor": "white",
                          "minorgridcolor": "white",
                          "startlinecolor": "#2a3f5f"
                        },
                        "type": "carpet"
                      }
                    ],
                    "choropleth": [
                      {
                        "colorbar": {
                          "outlinewidth": 0,
                          "ticks": ""
                        },
                        "type": "choropleth"
                      }
                    ],
                    "contour": [
                      {
                        "colorbar": {
                          "outlinewidth": 0,
                          "ticks": ""
                        },
                        "colorscale": [
                          [
                            0,
                            "#0d0887"
                          ],
                          [
                            0.1111111111111111,
                            "#46039f"
                          ],
                          [
                            0.2222222222222222,
                            "#7201a8"
                          ],
                          [
                            0.3333333333333333,
                            "#9c179e"
                          ],
                          [
                            0.4444444444444444,
                            "#bd3786"
                          ],
                          [
                            0.5555555555555556,
                            "#d8576b"
                          ],
                          [
                            0.6666666666666666,
                            "#ed7953"
                          ],
                          [
                            0.7777777777777778,
                            "#fb9f3a"
                          ],
                          [
                            0.8888888888888888,
                            "#fdca26"
                          ],
                          [
                            1,
                            "#f0f921"
                          ]
                        ],
                        "type": "contour"
                      }
                    ],
                    "contourcarpet": [
                      {
                        "colorbar": {
                          "outlinewidth": 0,
                          "ticks": ""
                        },
                        "type": "contourcarpet"
                      }
                    ],
                    "heatmap": [
                      {
                        "colorbar": {
                          "outlinewidth": 0,
                          "ticks": ""
                        },
                        "colorscale": [
                          [
                            0,
                            "#0d0887"
                          ],
                          [
                            0.1111111111111111,
                            "#46039f"
                          ],
                          [
                            0.2222222222222222,
                            "#7201a8"
                          ],
                          [
                            0.3333333333333333,
                            "#9c179e"
                          ],
                          [
                            0.4444444444444444,
                            "#bd3786"
                          ],
                          [
                            0.5555555555555556,
                            "#d8576b"
                          ],
                          [
                            0.6666666666666666,
                            "#ed7953"
                          ],
                          [
                            0.7777777777777778,
                            "#fb9f3a"
                          ],
                          [
                            0.8888888888888888,
                            "#fdca26"
                          ],
                          [
                            1,
                            "#f0f921"
                          ]
                        ],
                        "type": "heatmap"
                      }
                    ],
                    "heatmapgl": [
                      {
                        "colorbar": {
                          "outlinewidth": 0,
                          "ticks": ""
                        },
                        "colorscale": [
                          [
                            0,
                            "#0d0887"
                          ],
                          [
                            0.1111111111111111,
                            "#46039f"
                          ],
                          [
                            0.2222222222222222,
                            "#7201a8"
                          ],
                          [
                            0.3333333333333333,
                            "#9c179e"
                          ],
                          [
                            0.4444444444444444,
                            "#bd3786"
                          ],
                          [
                            0.5555555555555556,
                            "#d8576b"
                          ],
                          [
                            0.6666666666666666,
                            "#ed7953"
                          ],
                          [
                            0.7777777777777778,
                            "#fb9f3a"
                          ],
                          [
                            0.8888888888888888,
                            "#fdca26"
                          ],
                          [
                            1,
                            "#f0f921"
                          ]
                        ],
                        "type": "heatmapgl"
                      }
                    ],
                    "histogram": [
                      {
                        "marker": {
                          "pattern": {
                            "fillmode": "overlay",
                            "size": 10,
                            "solidity": 0.2
                          }
                        },
                        "type": "histogram"
                      }
                    ],
                    "histogram2d": [
                      {
                        "colorbar": {
                          "outlinewidth": 0,
                          "ticks": ""
                        },
                        "colorscale": [
                          [
                            0,
                            "#0d0887"
                          ],
                          [
                            0.1111111111111111,
                            "#46039f"
                          ],
                          [
                            0.2222222222222222,
                            "#7201a8"
                          ],
                          [
                            0.3333333333333333,
                            "#9c179e"
                          ],
                          [
                            0.4444444444444444,
                            "#bd3786"
                          ],
                          [
                            0.5555555555555556,
                            "#d8576b"
                          ],
                          [
                            0.6666666666666666,
                            "#ed7953"
                          ],
                          [
                            0.7777777777777778,
                            "#fb9f3a"
                          ],
                          [
                            0.8888888888888888,
                            "#fdca26"
                          ],
                          [
                            1,
                            "#f0f921"
                          ]
                        ],
                        "type": "histogram2d"
                      }
                    ],
                    "histogram2dcontour": [
                      {
                        "colorbar": {
                          "outlinewidth": 0,
                          "ticks": ""
                        },
                        "colorscale": [
                          [
                            0,
                            "#0d0887"
                          ],
                          [
                            0.1111111111111111,
                            "#46039f"
                          ],
                          [
                            0.2222222222222222,
                            "#7201a8"
                          ],
                          [
                            0.3333333333333333,
                            "#9c179e"
                          ],
                          [
                            0.4444444444444444,
                            "#bd3786"
                          ],
                          [
                            0.5555555555555556,
                            "#d8576b"
                          ],
                          [
                            0.6666666666666666,
                            "#ed7953"
                          ],
                          [
                            0.7777777777777778,
                            "#fb9f3a"
                          ],
                          [
                            0.8888888888888888,
                            "#fdca26"
                          ],
                          [
                            1,
                            "#f0f921"
                          ]
                        ],
                        "type": "histogram2dcontour"
                      }
                    ],
                    "mesh3d": [
                      {
                        "colorbar": {
                          "outlinewidth": 0,
                          "ticks": ""
                        },
                        "type": "mesh3d"
                      }
                    ],
                    "parcoords": [
                      {
                        "line": {
                          "colorbar": {
                            "outlinewidth": 0,
                            "ticks": ""
                          }
                        },
                        "type": "parcoords"
                      }
                    ],
                    "pie": [
                      {
                        "automargin": true,
                        "type": "pie"
                      }
                    ],
                    "scatter": [
                      {
                        "fillpattern": {
                          "fillmode": "overlay",
                          "size": 10,
                          "solidity": 0.2
                        },
                        "type": "scatter"
                      }
                    ],
                    "scatter3d": [
                      {
                        "line": {
                          "colorbar": {
                            "outlinewidth": 0,
                            "ticks": ""
                          }
                        },
                        "marker": {
                          "colorbar": {
                            "outlinewidth": 0,
                            "ticks": ""
                          }
                        },
                        "type": "scatter3d"
                      }
                    ],
                    "scattercarpet": [
                      {
                        "marker": {
                          "colorbar": {
                            "outlinewidth": 0,
                            "ticks": ""
                          }
                        },
                        "type": "scattercarpet"
                      }
                    ],
                    "scattergeo": [
                      {
                        "marker": {
                          "colorbar": {
                            "outlinewidth": 0,
                            "ticks": ""
                          }
                        },
                        "type": "scattergeo"
                      }
                    ],
                    "scattergl": [
                      {
                        "marker": {
                          "colorbar": {
                            "outlinewidth": 0,
                            "ticks": ""
                          }
                        },
                        "type": "scattergl"
                      }
                    ],
                    "scattermapbox": [
                      {
                        "marker": {
                          "colorbar": {
                            "outlinewidth": 0,
                            "ticks": ""
                          }
                        },
                        "type": "scattermapbox"
                      }
                    ],
                    "scatterpolar": [
                      {
                        "marker": {
                          "colorbar": {
                            "outlinewidth": 0,
                            "ticks": ""
                          }
                        },
                        "type": "scatterpolar"
                      }
                    ],
                    "scatterpolargl": [
                      {
                        "marker": {
                          "colorbar": {
                            "outlinewidth": 0,
                            "ticks": ""
                          }
                        },
                        "type": "scatterpolargl"
                      }
                    ],
                    "scatterternary": [
                      {
                        "marker": {
                          "colorbar": {
                            "outlinewidth": 0,
                            "ticks": ""
                          }
                        },
                        "type": "scatterternary"
                      }
                    ],
                    "surface": [
                      {
                        "colorbar": {
                          "outlinewidth": 0,
                          "ticks": ""
                        },
                        "colorscale": [
                          [
                            0,
                            "#0d0887"
                          ],
                          [
                            0.1111111111111111,
                            "#46039f"
                          ],
                          [
                            0.2222222222222222,
                            "#7201a8"
                          ],
                          [
                            0.3333333333333333,
                            "#9c179e"
                          ],
                          [
                            0.4444444444444444,
                            "#bd3786"
                          ],
                          [
                            0.5555555555555556,
                            "#d8576b"
                          ],
                          [
                            0.6666666666666666,
                            "#ed7953"
                          ],
                          [
                            0.7777777777777778,
                            "#fb9f3a"
                          ],
                          [
                            0.8888888888888888,
                            "#fdca26"
                          ],
                          [
                            1,
                            "#f0f921"
                          ]
                        ],
                        "type": "surface"
                      }
                    ],
                    "table": [
                      {
                        "cells": {
                          "fill": {
                            "color": "#EBF0F8"
                          },
                          "line": {
                            "color": "white"
                          }
                        },
                        "header": {
                          "fill": {
                            "color": "#C8D4E3"
                          },
                          "line": {
                            "color": "white"
                          }
                        },
                        "type": "table"
                      }
                    ]
                  },
                  "layout": {
                    "annotationdefaults": {
                      "arrowcolor": "#2a3f5f",
                      "arrowhead": 0,
                      "arrowwidth": 1
                    },
                    "autotypenumbers": "strict",
                    "coloraxis": {
                      "colorbar": {
                        "outlinewidth": 0,
                        "ticks": ""
                      }
                    },
                    "colorscale": {
                      "diverging": [
                        [
                          0,
                          "#8e0152"
                        ],
                        [
                          0.1,
                          "#c51b7d"
                        ],
                        [
                          0.2,
                          "#de77ae"
                        ],
                        [
                          0.3,
                          "#f1b6da"
                        ],
                        [
                          0.4,
                          "#fde0ef"
                        ],
                        [
                          0.5,
                          "#f7f7f7"
                        ],
                        [
                          0.6,
                          "#e6f5d0"
                        ],
                        [
                          0.7,
                          "#b8e186"
                        ],
                        [
                          0.8,
                          "#7fbc41"
                        ],
                        [
                          0.9,
                          "#4d9221"
                        ],
                        [
                          1,
                          "#276419"
                        ]
                      ],
                      "sequential": [
                        [
                          0,
                          "#0d0887"
                        ],
                        [
                          0.1111111111111111,
                          "#46039f"
                        ],
                        [
                          0.2222222222222222,
                          "#7201a8"
                        ],
                        [
                          0.3333333333333333,
                          "#9c179e"
                        ],
                        [
                          0.4444444444444444,
                          "#bd3786"
                        ],
                        [
                          0.5555555555555556,
                          "#d8576b"
                        ],
                        [
                          0.6666666666666666,
                          "#ed7953"
                        ],
                        [
                          0.7777777777777778,
                          "#fb9f3a"
                        ],
                        [
                          0.8888888888888888,
                          "#fdca26"
                        ],
                        [
                          1,
                          "#f0f921"
                        ]
                      ],
                      "sequentialminus": [
                        [
                          0,
                          "#0d0887"
                        ],
                        [
                          0.1111111111111111,
                          "#46039f"
                        ],
                        [
                          0.2222222222222222,
                          "#7201a8"
                        ],
                        [
                          0.3333333333333333,
                          "#9c179e"
                        ],
                        [
                          0.4444444444444444,
                          "#bd3786"
                        ],
                        [
                          0.5555555555555556,
                          "#d8576b"
                        ],
                        [
                          0.6666666666666666,
                          "#ed7953"
                        ],
                        [
                          0.7777777777777778,
                          "#fb9f3a"
                        ],
                        [
                          0.8888888888888888,
                          "#fdca26"
                        ],
                        [
                          1,
                          "#f0f921"
                        ]
                      ]
                    },
                    "colorway": [
                      "#636efa",
                      "#EF553B",
                      "#00cc96",
                      "#ab63fa",
                      "#FFA15A",
                      "#19d3f3",
                      "#FF6692",
                      "#B6E880",
                      "#FF97FF",
                      "#FECB52"
                    ],
                    "font": {
                      "color": "#2a3f5f"
                    },
                    "geo": {
                      "bgcolor": "white",
                      "lakecolor": "white",
                      "landcolor": "#E5ECF6",
                      "showlakes": true,
                      "showland": true,
                      "subunitcolor": "white"
                    },
                    "hoverlabel": {
                      "align": "left"
                    },
                    "hovermode": "closest",
                    "mapbox": {
                      "style": "light"
                    },
                    "paper_bgcolor": "white",
                    "plot_bgcolor": "#E5ECF6",
                    "polar": {
                      "angularaxis": {
                        "gridcolor": "white",
                        "linecolor": "white",
                        "ticks": ""
                      },
                      "bgcolor": "#E5ECF6",
                      "radialaxis": {
                        "gridcolor": "white",
                        "linecolor": "white",
                        "ticks": ""
                      }
                    },
                    "scene": {
                      "xaxis": {
                        "backgroundcolor": "#E5ECF6",
                        "gridcolor": "white",
                        "gridwidth": 2,
                        "linecolor": "white",
                        "showbackground": true,
                        "ticks": "",
                        "zerolinecolor": "white"
                      },
                      "yaxis": {
                        "backgroundcolor": "#E5ECF6",
                        "gridcolor": "white",
                        "gridwidth": 2,
                        "linecolor": "white",
                        "showbackground": true,
                        "ticks": "",
                        "zerolinecolor": "white"
                      },
                      "zaxis": {
                        "backgroundcolor": "#E5ECF6",
                        "gridcolor": "white",
                        "gridwidth": 2,
                        "linecolor": "white",
                        "showbackground": true,
                        "ticks": "",
                        "zerolinecolor": "white"
                      }
                    },
                    "shapedefaults": {
                      "line": {
                        "color": "#2a3f5f"
                      }
                    },
                    "ternary": {
                      "aaxis": {
                        "gridcolor": "white",
                        "linecolor": "white",
                        "ticks": ""
                      },
                      "baxis": {
                        "gridcolor": "white",
                        "linecolor": "white",
                        "ticks": ""
                      },
                      "bgcolor": "#E5ECF6",
                      "caxis": {
                        "gridcolor": "white",
                        "linecolor": "white",
                        "ticks": ""
                      }
                    },
                    "title": {
                      "x": 0.05
                    },
                    "xaxis": {
                      "automargin": true,
                      "gridcolor": "white",
                      "linecolor": "white",
                      "ticks": "",
                      "title": {
                        "standoff": 15
                      },
                      "zerolinecolor": "white",
                      "zerolinewidth": 2
                    },
                    "yaxis": {
                      "automargin": true,
                      "gridcolor": "white",
                      "linecolor": "white",
                      "ticks": "",
                      "title": {
                        "standoff": 15
                      },
                      "zerolinecolor": "white",
                      "zerolinewidth": 2
                    }
                  }
                },
                "title": {
                  "text": "Hyperparameter Importances"
                },
                "xaxis": {
                  "title": {
                    "text": "Hyperparameter Importance"
                  }
                },
                "yaxis": {
                  "title": {
                    "text": "Hyperparameter"
                  }
                }
              }
            }
          },
          "metadata": {},
          "output_type": "display_data"
        }
      ],
      "source": [
        "import optuna.visualization as vis\n",
        "\n",
        "vis.plot_param_importances(study).show()"
      ]
    },
    {
      "cell_type": "code",
      "execution_count": 114,
      "metadata": {},
      "outputs": [
        {
          "data": {
            "application/vnd.plotly.v1+json": {
              "config": {
                "plotlyServerURL": "https://plot.ly"
              },
              "data": [
                {
                  "marker": {
                    "color": [
                      0,
                      1,
                      2,
                      3,
                      4,
                      5,
                      6,
                      7,
                      8,
                      9,
                      10,
                      11,
                      12,
                      13,
                      14,
                      15,
                      16,
                      17,
                      18,
                      19,
                      20,
                      21,
                      22,
                      23,
                      24,
                      25,
                      26,
                      27,
                      28,
                      29,
                      30,
                      31,
                      32,
                      33,
                      34,
                      35,
                      36,
                      37,
                      38,
                      39
                    ],
                    "colorbar": {
                      "title": {
                        "text": "Trial"
                      },
                      "x": 1,
                      "xpad": 40
                    },
                    "colorscale": [
                      [
                        0,
                        "rgb(247,251,255)"
                      ],
                      [
                        0.125,
                        "rgb(222,235,247)"
                      ],
                      [
                        0.25,
                        "rgb(198,219,239)"
                      ],
                      [
                        0.375,
                        "rgb(158,202,225)"
                      ],
                      [
                        0.5,
                        "rgb(107,174,214)"
                      ],
                      [
                        0.625,
                        "rgb(66,146,198)"
                      ],
                      [
                        0.75,
                        "rgb(33,113,181)"
                      ],
                      [
                        0.875,
                        "rgb(8,81,156)"
                      ],
                      [
                        1,
                        "rgb(8,48,107)"
                      ]
                    ],
                    "line": {
                      "color": "Grey",
                      "width": 0.5
                    },
                    "showscale": true
                  },
                  "mode": "markers",
                  "name": "Feasible Trial",
                  "showlegend": false,
                  "type": "scatter",
                  "x": [
                    13,
                    13,
                    13,
                    7,
                    9,
                    7,
                    13,
                    1,
                    11,
                    5,
                    3,
                    5,
                    9,
                    5,
                    9,
                    5,
                    9,
                    1,
                    3,
                    3,
                    3,
                    5,
                    7,
                    11,
                    7,
                    11,
                    9,
                    9,
                    7,
                    9,
                    11,
                    9,
                    7,
                    9,
                    11,
                    9,
                    7,
                    13,
                    9,
                    7
                  ],
                  "xaxis": "x",
                  "y": [
                    0.9097844644896806,
                    0.8801999149128416,
                    0.9105698844139642,
                    0.9214891370198581,
                    0.9362009940670464,
                    0.9095035012647337,
                    0.9162761517297198,
                    0.9074988446185566,
                    0.9067964365561891,
                    0.9324387208829907,
                    0.8984828784043843,
                    0.9327300605906773,
                    0.9286321480995472,
                    0.9321813042919527,
                    0.8925846461579476,
                    0.9251959359308064,
                    0.8953224412192207,
                    0.9167562636041675,
                    0.9340638377181956,
                    0.9202870614040338,
                    0.9199506239059795,
                    0.9339991842488184,
                    0.9348484594514992,
                    0.9319414479024739,
                    0.93310281577832,
                    0.9252841360340923,
                    0.9376485134092093,
                    0.9198392762642746,
                    0.9231617462183708,
                    0.9120497304908157,
                    0.9063937492067977,
                    0.936380187942048,
                    0.9369720465536907,
                    0.9382471566441817,
                    0.9275003132899596,
                    0.9383046263947391,
                    0.9390485403880645,
                    0.9249987827587556,
                    0.9182796110894269,
                    0.9139586042193972
                  ],
                  "yaxis": "y"
                },
                {
                  "marker": {
                    "color": [
                      0,
                      1,
                      2,
                      3,
                      4,
                      5,
                      6,
                      7,
                      8,
                      9,
                      10,
                      11,
                      12,
                      13,
                      14,
                      15,
                      16,
                      17,
                      18,
                      19,
                      20,
                      21,
                      22,
                      23,
                      24,
                      25,
                      26,
                      27,
                      28,
                      29,
                      30,
                      31,
                      32,
                      33,
                      34,
                      35,
                      36,
                      37,
                      38,
                      39
                    ],
                    "colorbar": {
                      "title": {
                        "text": "Trial"
                      },
                      "x": 1,
                      "xpad": 40
                    },
                    "colorscale": [
                      [
                        0,
                        "rgb(247,251,255)"
                      ],
                      [
                        0.125,
                        "rgb(222,235,247)"
                      ],
                      [
                        0.25,
                        "rgb(198,219,239)"
                      ],
                      [
                        0.375,
                        "rgb(158,202,225)"
                      ],
                      [
                        0.5,
                        "rgb(107,174,214)"
                      ],
                      [
                        0.625,
                        "rgb(66,146,198)"
                      ],
                      [
                        0.75,
                        "rgb(33,113,181)"
                      ],
                      [
                        0.875,
                        "rgb(8,81,156)"
                      ],
                      [
                        1,
                        "rgb(8,48,107)"
                      ]
                    ],
                    "line": {
                      "color": "Grey",
                      "width": 0.5
                    },
                    "showscale": false
                  },
                  "mode": "markers",
                  "name": "Feasible Trial",
                  "showlegend": false,
                  "type": "scatter",
                  "x": [
                    0.058203879130355525,
                    0.15503372135598242,
                    0.47011151720563815,
                    0.09299603577728179,
                    0.10342553983195565,
                    0.3767018004676022,
                    0.18253151072801518,
                    0.05461391187324596,
                    0.06853064748801173,
                    0.4118994465694499,
                    0.017195522820079263,
                    0.010738264788809938,
                    0.01023248242196266,
                    0.0312906540391991,
                    0.030057396506804675,
                    0.1421737091110037,
                    0.01004971222346625,
                    0.03662996890821862,
                    0.23395301746329197,
                    0.25356575319861757,
                    0.10839953127977303,
                    0.21445485820569704,
                    0.2852000841832966,
                    0.3000690050717055,
                    0.11202009925342689,
                    0.2890219746902601,
                    0.20110540760178658,
                    0.16316109716383836,
                    0.08672957363684018,
                    0.12613302835727672,
                    0.05507266461801416,
                    0.22276223369582757,
                    0.333854657960122,
                    0.19293513020372696,
                    0.35951854622581064,
                    0.4750699070999794,
                    0.48493492197451943,
                    0.45673095815099224,
                    0.49000994420810917,
                    0.18852260407147714
                  ],
                  "xaxis": "x2",
                  "y": [
                    0.9097844644896806,
                    0.8801999149128416,
                    0.9105698844139642,
                    0.9214891370198581,
                    0.9362009940670464,
                    0.9095035012647337,
                    0.9162761517297198,
                    0.9074988446185566,
                    0.9067964365561891,
                    0.9324387208829907,
                    0.8984828784043843,
                    0.9327300605906773,
                    0.9286321480995472,
                    0.9321813042919527,
                    0.8925846461579476,
                    0.9251959359308064,
                    0.8953224412192207,
                    0.9167562636041675,
                    0.9340638377181956,
                    0.9202870614040338,
                    0.9199506239059795,
                    0.9339991842488184,
                    0.9348484594514992,
                    0.9319414479024739,
                    0.93310281577832,
                    0.9252841360340923,
                    0.9376485134092093,
                    0.9198392762642746,
                    0.9231617462183708,
                    0.9120497304908157,
                    0.9063937492067977,
                    0.936380187942048,
                    0.9369720465536907,
                    0.9382471566441817,
                    0.9275003132899596,
                    0.9383046263947391,
                    0.9390485403880645,
                    0.9249987827587556,
                    0.9182796110894269,
                    0.9139586042193972
                  ],
                  "yaxis": "y2"
                },
                {
                  "marker": {
                    "color": [
                      0,
                      1,
                      2,
                      3,
                      4,
                      5,
                      6,
                      7,
                      8,
                      9,
                      10,
                      11,
                      12,
                      13,
                      14,
                      15,
                      16,
                      17,
                      18,
                      19,
                      20,
                      21,
                      22,
                      23,
                      24,
                      25,
                      26,
                      27,
                      28,
                      29,
                      30,
                      31,
                      32,
                      33,
                      34,
                      35,
                      36,
                      37,
                      38,
                      39
                    ],
                    "colorbar": {
                      "title": {
                        "text": "Trial"
                      },
                      "x": 1,
                      "xpad": 40
                    },
                    "colorscale": [
                      [
                        0,
                        "rgb(247,251,255)"
                      ],
                      [
                        0.125,
                        "rgb(222,235,247)"
                      ],
                      [
                        0.25,
                        "rgb(198,219,239)"
                      ],
                      [
                        0.375,
                        "rgb(158,202,225)"
                      ],
                      [
                        0.5,
                        "rgb(107,174,214)"
                      ],
                      [
                        0.625,
                        "rgb(66,146,198)"
                      ],
                      [
                        0.75,
                        "rgb(33,113,181)"
                      ],
                      [
                        0.875,
                        "rgb(8,81,156)"
                      ],
                      [
                        1,
                        "rgb(8,48,107)"
                      ]
                    ],
                    "line": {
                      "color": "Grey",
                      "width": 0.5
                    },
                    "showscale": false
                  },
                  "mode": "markers",
                  "name": "Feasible Trial",
                  "showlegend": false,
                  "type": "scatter",
                  "x": [
                    9,
                    2,
                    10,
                    8,
                    8,
                    8,
                    9,
                    8,
                    8,
                    7,
                    5,
                    6,
                    5,
                    6,
                    3,
                    6,
                    5,
                    4,
                    7,
                    10,
                    7,
                    7,
                    7,
                    9,
                    7,
                    7,
                    9,
                    9,
                    10,
                    9,
                    8,
                    8,
                    8,
                    10,
                    10,
                    10,
                    10,
                    10,
                    10,
                    9
                  ],
                  "xaxis": "x3",
                  "y": [
                    0.9097844644896806,
                    0.8801999149128416,
                    0.9105698844139642,
                    0.9214891370198581,
                    0.9362009940670464,
                    0.9095035012647337,
                    0.9162761517297198,
                    0.9074988446185566,
                    0.9067964365561891,
                    0.9324387208829907,
                    0.8984828784043843,
                    0.9327300605906773,
                    0.9286321480995472,
                    0.9321813042919527,
                    0.8925846461579476,
                    0.9251959359308064,
                    0.8953224412192207,
                    0.9167562636041675,
                    0.9340638377181956,
                    0.9202870614040338,
                    0.9199506239059795,
                    0.9339991842488184,
                    0.9348484594514992,
                    0.9319414479024739,
                    0.93310281577832,
                    0.9252841360340923,
                    0.9376485134092093,
                    0.9198392762642746,
                    0.9231617462183708,
                    0.9120497304908157,
                    0.9063937492067977,
                    0.936380187942048,
                    0.9369720465536907,
                    0.9382471566441817,
                    0.9275003132899596,
                    0.9383046263947391,
                    0.9390485403880645,
                    0.9249987827587556,
                    0.9182796110894269,
                    0.9139586042193972
                  ],
                  "yaxis": "y3"
                },
                {
                  "marker": {
                    "color": [
                      0,
                      1,
                      2,
                      3,
                      4,
                      5,
                      6,
                      7,
                      8,
                      9,
                      10,
                      11,
                      12,
                      13,
                      14,
                      15,
                      16,
                      17,
                      18,
                      19,
                      20,
                      21,
                      22,
                      23,
                      24,
                      25,
                      26,
                      27,
                      28,
                      29,
                      30,
                      31,
                      32,
                      33,
                      34,
                      35,
                      36,
                      37,
                      38,
                      39
                    ],
                    "colorbar": {
                      "title": {
                        "text": "Trial"
                      },
                      "x": 1,
                      "xpad": 40
                    },
                    "colorscale": [
                      [
                        0,
                        "rgb(247,251,255)"
                      ],
                      [
                        0.125,
                        "rgb(222,235,247)"
                      ],
                      [
                        0.25,
                        "rgb(198,219,239)"
                      ],
                      [
                        0.375,
                        "rgb(158,202,225)"
                      ],
                      [
                        0.5,
                        "rgb(107,174,214)"
                      ],
                      [
                        0.625,
                        "rgb(66,146,198)"
                      ],
                      [
                        0.75,
                        "rgb(33,113,181)"
                      ],
                      [
                        0.875,
                        "rgb(8,81,156)"
                      ],
                      [
                        1,
                        "rgb(8,48,107)"
                      ]
                    ],
                    "line": {
                      "color": "Grey",
                      "width": 0.5
                    },
                    "showscale": false
                  },
                  "mode": "markers",
                  "name": "Feasible Trial",
                  "showlegend": false,
                  "type": "scatter",
                  "x": [
                    250,
                    149,
                    349,
                    148,
                    69,
                    331,
                    225,
                    281,
                    342,
                    110,
                    481,
                    53,
                    52,
                    67,
                    187,
                    109,
                    450,
                    108,
                    53,
                    204,
                    162,
                    77,
                    95,
                    108,
                    91,
                    135,
                    50,
                    179,
                    132,
                    271,
                    400,
                    50,
                    82,
                    73,
                    134,
                    82,
                    83,
                    155,
                    215,
                    256
                  ],
                  "xaxis": "x4",
                  "y": [
                    0.9097844644896806,
                    0.8801999149128416,
                    0.9105698844139642,
                    0.9214891370198581,
                    0.9362009940670464,
                    0.9095035012647337,
                    0.9162761517297198,
                    0.9074988446185566,
                    0.9067964365561891,
                    0.9324387208829907,
                    0.8984828784043843,
                    0.9327300605906773,
                    0.9286321480995472,
                    0.9321813042919527,
                    0.8925846461579476,
                    0.9251959359308064,
                    0.8953224412192207,
                    0.9167562636041675,
                    0.9340638377181956,
                    0.9202870614040338,
                    0.9199506239059795,
                    0.9339991842488184,
                    0.9348484594514992,
                    0.9319414479024739,
                    0.93310281577832,
                    0.9252841360340923,
                    0.9376485134092093,
                    0.9198392762642746,
                    0.9231617462183708,
                    0.9120497304908157,
                    0.9063937492067977,
                    0.936380187942048,
                    0.9369720465536907,
                    0.9382471566441817,
                    0.9275003132899596,
                    0.9383046263947391,
                    0.9390485403880645,
                    0.9249987827587556,
                    0.9182796110894269,
                    0.9139586042193972
                  ],
                  "yaxis": "y4"
                },
                {
                  "marker": {
                    "color": [
                      0,
                      1,
                      2,
                      3,
                      4,
                      5,
                      6,
                      7,
                      8,
                      9,
                      10,
                      11,
                      12,
                      13,
                      14,
                      15,
                      16,
                      17,
                      18,
                      19,
                      20,
                      21,
                      22,
                      23,
                      24,
                      25,
                      26,
                      27,
                      28,
                      29,
                      30,
                      31,
                      32,
                      33,
                      34,
                      35,
                      36,
                      37,
                      38,
                      39
                    ],
                    "colorbar": {
                      "title": {
                        "text": "Trial"
                      },
                      "x": 1,
                      "xpad": 40
                    },
                    "colorscale": [
                      [
                        0,
                        "rgb(247,251,255)"
                      ],
                      [
                        0.125,
                        "rgb(222,235,247)"
                      ],
                      [
                        0.25,
                        "rgb(198,219,239)"
                      ],
                      [
                        0.375,
                        "rgb(158,202,225)"
                      ],
                      [
                        0.5,
                        "rgb(107,174,214)"
                      ],
                      [
                        0.625,
                        "rgb(66,146,198)"
                      ],
                      [
                        0.75,
                        "rgb(33,113,181)"
                      ],
                      [
                        0.875,
                        "rgb(8,81,156)"
                      ],
                      [
                        1,
                        "rgb(8,48,107)"
                      ]
                    ],
                    "line": {
                      "color": "Grey",
                      "width": 0.5
                    },
                    "showscale": false
                  },
                  "mode": "markers",
                  "name": "Feasible Trial",
                  "showlegend": false,
                  "type": "scatter",
                  "x": [
                    0.6486014524904227,
                    0.9434665917030598,
                    0.8833911567507955,
                    0.6542925167775202,
                    0.657822591305409,
                    0.7659662799092183,
                    0.6477590311811983,
                    0.9064661196707557,
                    0.8416041527047919,
                    0.5378346691452998,
                    0.5120269473382362,
                    0.5185501377069249,
                    0.5884280003960789,
                    0.7260365004557547,
                    0.582126176069229,
                    0.7612987159318324,
                    0.7049564602009001,
                    0.5808406704451008,
                    0.8117373439056632,
                    0.816907098540019,
                    0.8146053688778727,
                    0.992072403355093,
                    0.9383546926754421,
                    0.9503130409640848,
                    0.8679275745906743,
                    0.6833708645175582,
                    0.8057570947008154,
                    0.7695217275687767,
                    0.9721852399448627,
                    0.9133375757820221,
                    0.6266160823680289,
                    0.8007991328769702,
                    0.7917038383780672,
                    0.7867896434347408,
                    0.7817149837857174,
                    0.7254786696372956,
                    0.732655797277864,
                    0.7365496232643708,
                    0.8470094590689073,
                    0.6894111936084275
                  ],
                  "xaxis": "x5",
                  "y": [
                    0.9097844644896806,
                    0.8801999149128416,
                    0.9105698844139642,
                    0.9214891370198581,
                    0.9362009940670464,
                    0.9095035012647337,
                    0.9162761517297198,
                    0.9074988446185566,
                    0.9067964365561891,
                    0.9324387208829907,
                    0.8984828784043843,
                    0.9327300605906773,
                    0.9286321480995472,
                    0.9321813042919527,
                    0.8925846461579476,
                    0.9251959359308064,
                    0.8953224412192207,
                    0.9167562636041675,
                    0.9340638377181956,
                    0.9202870614040338,
                    0.9199506239059795,
                    0.9339991842488184,
                    0.9348484594514992,
                    0.9319414479024739,
                    0.93310281577832,
                    0.9252841360340923,
                    0.9376485134092093,
                    0.9198392762642746,
                    0.9231617462183708,
                    0.9120497304908157,
                    0.9063937492067977,
                    0.936380187942048,
                    0.9369720465536907,
                    0.9382471566441817,
                    0.9275003132899596,
                    0.9383046263947391,
                    0.9390485403880645,
                    0.9249987827587556,
                    0.9182796110894269,
                    0.9139586042193972
                  ],
                  "yaxis": "y5"
                },
                {
                  "marker": {
                    "color": [
                      0,
                      1,
                      2,
                      3,
                      4,
                      5,
                      6,
                      7,
                      8,
                      9,
                      10,
                      11,
                      12,
                      13,
                      14,
                      15,
                      16,
                      17,
                      18,
                      19,
                      20,
                      21,
                      22,
                      23,
                      24,
                      25,
                      26,
                      27,
                      28,
                      29,
                      30,
                      31,
                      32,
                      33,
                      34,
                      35,
                      36,
                      37,
                      38,
                      39
                    ],
                    "colorbar": {
                      "title": {
                        "text": "Trial"
                      },
                      "x": 1,
                      "xpad": 40
                    },
                    "colorscale": [
                      [
                        0,
                        "rgb(247,251,255)"
                      ],
                      [
                        0.125,
                        "rgb(222,235,247)"
                      ],
                      [
                        0.25,
                        "rgb(198,219,239)"
                      ],
                      [
                        0.375,
                        "rgb(158,202,225)"
                      ],
                      [
                        0.5,
                        "rgb(107,174,214)"
                      ],
                      [
                        0.625,
                        "rgb(66,146,198)"
                      ],
                      [
                        0.75,
                        "rgb(33,113,181)"
                      ],
                      [
                        0.875,
                        "rgb(8,81,156)"
                      ],
                      [
                        1,
                        "rgb(8,48,107)"
                      ]
                    ],
                    "line": {
                      "color": "Grey",
                      "width": 0.5
                    },
                    "showscale": false
                  },
                  "mode": "markers",
                  "name": "Feasible Trial",
                  "showlegend": false,
                  "type": "scatter",
                  "x": [
                    29,
                    23,
                    14,
                    17,
                    8,
                    14,
                    8,
                    23,
                    14,
                    20,
                    5,
                    23,
                    26,
                    8,
                    20,
                    11,
                    29,
                    5,
                    20,
                    17,
                    11,
                    23,
                    20,
                    20,
                    17,
                    26,
                    20,
                    17,
                    11,
                    26,
                    8,
                    20,
                    20,
                    17,
                    17,
                    20,
                    14,
                    14,
                    14,
                    14
                  ],
                  "xaxis": "x6",
                  "y": [
                    0.9097844644896806,
                    0.8801999149128416,
                    0.9105698844139642,
                    0.9214891370198581,
                    0.9362009940670464,
                    0.9095035012647337,
                    0.9162761517297198,
                    0.9074988446185566,
                    0.9067964365561891,
                    0.9324387208829907,
                    0.8984828784043843,
                    0.9327300605906773,
                    0.9286321480995472,
                    0.9321813042919527,
                    0.8925846461579476,
                    0.9251959359308064,
                    0.8953224412192207,
                    0.9167562636041675,
                    0.9340638377181956,
                    0.9202870614040338,
                    0.9199506239059795,
                    0.9339991842488184,
                    0.9348484594514992,
                    0.9319414479024739,
                    0.93310281577832,
                    0.9252841360340923,
                    0.9376485134092093,
                    0.9198392762642746,
                    0.9231617462183708,
                    0.9120497304908157,
                    0.9063937492067977,
                    0.936380187942048,
                    0.9369720465536907,
                    0.9382471566441817,
                    0.9275003132899596,
                    0.9383046263947391,
                    0.9390485403880645,
                    0.9249987827587556,
                    0.9182796110894269,
                    0.9139586042193972
                  ],
                  "yaxis": "y6"
                }
              ],
              "layout": {
                "template": {
                  "data": {
                    "bar": [
                      {
                        "error_x": {
                          "color": "#2a3f5f"
                        },
                        "error_y": {
                          "color": "#2a3f5f"
                        },
                        "marker": {
                          "line": {
                            "color": "#E5ECF6",
                            "width": 0.5
                          },
                          "pattern": {
                            "fillmode": "overlay",
                            "size": 10,
                            "solidity": 0.2
                          }
                        },
                        "type": "bar"
                      }
                    ],
                    "barpolar": [
                      {
                        "marker": {
                          "line": {
                            "color": "#E5ECF6",
                            "width": 0.5
                          },
                          "pattern": {
                            "fillmode": "overlay",
                            "size": 10,
                            "solidity": 0.2
                          }
                        },
                        "type": "barpolar"
                      }
                    ],
                    "carpet": [
                      {
                        "aaxis": {
                          "endlinecolor": "#2a3f5f",
                          "gridcolor": "white",
                          "linecolor": "white",
                          "minorgridcolor": "white",
                          "startlinecolor": "#2a3f5f"
                        },
                        "baxis": {
                          "endlinecolor": "#2a3f5f",
                          "gridcolor": "white",
                          "linecolor": "white",
                          "minorgridcolor": "white",
                          "startlinecolor": "#2a3f5f"
                        },
                        "type": "carpet"
                      }
                    ],
                    "choropleth": [
                      {
                        "colorbar": {
                          "outlinewidth": 0,
                          "ticks": ""
                        },
                        "type": "choropleth"
                      }
                    ],
                    "contour": [
                      {
                        "colorbar": {
                          "outlinewidth": 0,
                          "ticks": ""
                        },
                        "colorscale": [
                          [
                            0,
                            "#0d0887"
                          ],
                          [
                            0.1111111111111111,
                            "#46039f"
                          ],
                          [
                            0.2222222222222222,
                            "#7201a8"
                          ],
                          [
                            0.3333333333333333,
                            "#9c179e"
                          ],
                          [
                            0.4444444444444444,
                            "#bd3786"
                          ],
                          [
                            0.5555555555555556,
                            "#d8576b"
                          ],
                          [
                            0.6666666666666666,
                            "#ed7953"
                          ],
                          [
                            0.7777777777777778,
                            "#fb9f3a"
                          ],
                          [
                            0.8888888888888888,
                            "#fdca26"
                          ],
                          [
                            1,
                            "#f0f921"
                          ]
                        ],
                        "type": "contour"
                      }
                    ],
                    "contourcarpet": [
                      {
                        "colorbar": {
                          "outlinewidth": 0,
                          "ticks": ""
                        },
                        "type": "contourcarpet"
                      }
                    ],
                    "heatmap": [
                      {
                        "colorbar": {
                          "outlinewidth": 0,
                          "ticks": ""
                        },
                        "colorscale": [
                          [
                            0,
                            "#0d0887"
                          ],
                          [
                            0.1111111111111111,
                            "#46039f"
                          ],
                          [
                            0.2222222222222222,
                            "#7201a8"
                          ],
                          [
                            0.3333333333333333,
                            "#9c179e"
                          ],
                          [
                            0.4444444444444444,
                            "#bd3786"
                          ],
                          [
                            0.5555555555555556,
                            "#d8576b"
                          ],
                          [
                            0.6666666666666666,
                            "#ed7953"
                          ],
                          [
                            0.7777777777777778,
                            "#fb9f3a"
                          ],
                          [
                            0.8888888888888888,
                            "#fdca26"
                          ],
                          [
                            1,
                            "#f0f921"
                          ]
                        ],
                        "type": "heatmap"
                      }
                    ],
                    "heatmapgl": [
                      {
                        "colorbar": {
                          "outlinewidth": 0,
                          "ticks": ""
                        },
                        "colorscale": [
                          [
                            0,
                            "#0d0887"
                          ],
                          [
                            0.1111111111111111,
                            "#46039f"
                          ],
                          [
                            0.2222222222222222,
                            "#7201a8"
                          ],
                          [
                            0.3333333333333333,
                            "#9c179e"
                          ],
                          [
                            0.4444444444444444,
                            "#bd3786"
                          ],
                          [
                            0.5555555555555556,
                            "#d8576b"
                          ],
                          [
                            0.6666666666666666,
                            "#ed7953"
                          ],
                          [
                            0.7777777777777778,
                            "#fb9f3a"
                          ],
                          [
                            0.8888888888888888,
                            "#fdca26"
                          ],
                          [
                            1,
                            "#f0f921"
                          ]
                        ],
                        "type": "heatmapgl"
                      }
                    ],
                    "histogram": [
                      {
                        "marker": {
                          "pattern": {
                            "fillmode": "overlay",
                            "size": 10,
                            "solidity": 0.2
                          }
                        },
                        "type": "histogram"
                      }
                    ],
                    "histogram2d": [
                      {
                        "colorbar": {
                          "outlinewidth": 0,
                          "ticks": ""
                        },
                        "colorscale": [
                          [
                            0,
                            "#0d0887"
                          ],
                          [
                            0.1111111111111111,
                            "#46039f"
                          ],
                          [
                            0.2222222222222222,
                            "#7201a8"
                          ],
                          [
                            0.3333333333333333,
                            "#9c179e"
                          ],
                          [
                            0.4444444444444444,
                            "#bd3786"
                          ],
                          [
                            0.5555555555555556,
                            "#d8576b"
                          ],
                          [
                            0.6666666666666666,
                            "#ed7953"
                          ],
                          [
                            0.7777777777777778,
                            "#fb9f3a"
                          ],
                          [
                            0.8888888888888888,
                            "#fdca26"
                          ],
                          [
                            1,
                            "#f0f921"
                          ]
                        ],
                        "type": "histogram2d"
                      }
                    ],
                    "histogram2dcontour": [
                      {
                        "colorbar": {
                          "outlinewidth": 0,
                          "ticks": ""
                        },
                        "colorscale": [
                          [
                            0,
                            "#0d0887"
                          ],
                          [
                            0.1111111111111111,
                            "#46039f"
                          ],
                          [
                            0.2222222222222222,
                            "#7201a8"
                          ],
                          [
                            0.3333333333333333,
                            "#9c179e"
                          ],
                          [
                            0.4444444444444444,
                            "#bd3786"
                          ],
                          [
                            0.5555555555555556,
                            "#d8576b"
                          ],
                          [
                            0.6666666666666666,
                            "#ed7953"
                          ],
                          [
                            0.7777777777777778,
                            "#fb9f3a"
                          ],
                          [
                            0.8888888888888888,
                            "#fdca26"
                          ],
                          [
                            1,
                            "#f0f921"
                          ]
                        ],
                        "type": "histogram2dcontour"
                      }
                    ],
                    "mesh3d": [
                      {
                        "colorbar": {
                          "outlinewidth": 0,
                          "ticks": ""
                        },
                        "type": "mesh3d"
                      }
                    ],
                    "parcoords": [
                      {
                        "line": {
                          "colorbar": {
                            "outlinewidth": 0,
                            "ticks": ""
                          }
                        },
                        "type": "parcoords"
                      }
                    ],
                    "pie": [
                      {
                        "automargin": true,
                        "type": "pie"
                      }
                    ],
                    "scatter": [
                      {
                        "fillpattern": {
                          "fillmode": "overlay",
                          "size": 10,
                          "solidity": 0.2
                        },
                        "type": "scatter"
                      }
                    ],
                    "scatter3d": [
                      {
                        "line": {
                          "colorbar": {
                            "outlinewidth": 0,
                            "ticks": ""
                          }
                        },
                        "marker": {
                          "colorbar": {
                            "outlinewidth": 0,
                            "ticks": ""
                          }
                        },
                        "type": "scatter3d"
                      }
                    ],
                    "scattercarpet": [
                      {
                        "marker": {
                          "colorbar": {
                            "outlinewidth": 0,
                            "ticks": ""
                          }
                        },
                        "type": "scattercarpet"
                      }
                    ],
                    "scattergeo": [
                      {
                        "marker": {
                          "colorbar": {
                            "outlinewidth": 0,
                            "ticks": ""
                          }
                        },
                        "type": "scattergeo"
                      }
                    ],
                    "scattergl": [
                      {
                        "marker": {
                          "colorbar": {
                            "outlinewidth": 0,
                            "ticks": ""
                          }
                        },
                        "type": "scattergl"
                      }
                    ],
                    "scattermapbox": [
                      {
                        "marker": {
                          "colorbar": {
                            "outlinewidth": 0,
                            "ticks": ""
                          }
                        },
                        "type": "scattermapbox"
                      }
                    ],
                    "scatterpolar": [
                      {
                        "marker": {
                          "colorbar": {
                            "outlinewidth": 0,
                            "ticks": ""
                          }
                        },
                        "type": "scatterpolar"
                      }
                    ],
                    "scatterpolargl": [
                      {
                        "marker": {
                          "colorbar": {
                            "outlinewidth": 0,
                            "ticks": ""
                          }
                        },
                        "type": "scatterpolargl"
                      }
                    ],
                    "scatterternary": [
                      {
                        "marker": {
                          "colorbar": {
                            "outlinewidth": 0,
                            "ticks": ""
                          }
                        },
                        "type": "scatterternary"
                      }
                    ],
                    "surface": [
                      {
                        "colorbar": {
                          "outlinewidth": 0,
                          "ticks": ""
                        },
                        "colorscale": [
                          [
                            0,
                            "#0d0887"
                          ],
                          [
                            0.1111111111111111,
                            "#46039f"
                          ],
                          [
                            0.2222222222222222,
                            "#7201a8"
                          ],
                          [
                            0.3333333333333333,
                            "#9c179e"
                          ],
                          [
                            0.4444444444444444,
                            "#bd3786"
                          ],
                          [
                            0.5555555555555556,
                            "#d8576b"
                          ],
                          [
                            0.6666666666666666,
                            "#ed7953"
                          ],
                          [
                            0.7777777777777778,
                            "#fb9f3a"
                          ],
                          [
                            0.8888888888888888,
                            "#fdca26"
                          ],
                          [
                            1,
                            "#f0f921"
                          ]
                        ],
                        "type": "surface"
                      }
                    ],
                    "table": [
                      {
                        "cells": {
                          "fill": {
                            "color": "#EBF0F8"
                          },
                          "line": {
                            "color": "white"
                          }
                        },
                        "header": {
                          "fill": {
                            "color": "#C8D4E3"
                          },
                          "line": {
                            "color": "white"
                          }
                        },
                        "type": "table"
                      }
                    ]
                  },
                  "layout": {
                    "annotationdefaults": {
                      "arrowcolor": "#2a3f5f",
                      "arrowhead": 0,
                      "arrowwidth": 1
                    },
                    "autotypenumbers": "strict",
                    "coloraxis": {
                      "colorbar": {
                        "outlinewidth": 0,
                        "ticks": ""
                      }
                    },
                    "colorscale": {
                      "diverging": [
                        [
                          0,
                          "#8e0152"
                        ],
                        [
                          0.1,
                          "#c51b7d"
                        ],
                        [
                          0.2,
                          "#de77ae"
                        ],
                        [
                          0.3,
                          "#f1b6da"
                        ],
                        [
                          0.4,
                          "#fde0ef"
                        ],
                        [
                          0.5,
                          "#f7f7f7"
                        ],
                        [
                          0.6,
                          "#e6f5d0"
                        ],
                        [
                          0.7,
                          "#b8e186"
                        ],
                        [
                          0.8,
                          "#7fbc41"
                        ],
                        [
                          0.9,
                          "#4d9221"
                        ],
                        [
                          1,
                          "#276419"
                        ]
                      ],
                      "sequential": [
                        [
                          0,
                          "#0d0887"
                        ],
                        [
                          0.1111111111111111,
                          "#46039f"
                        ],
                        [
                          0.2222222222222222,
                          "#7201a8"
                        ],
                        [
                          0.3333333333333333,
                          "#9c179e"
                        ],
                        [
                          0.4444444444444444,
                          "#bd3786"
                        ],
                        [
                          0.5555555555555556,
                          "#d8576b"
                        ],
                        [
                          0.6666666666666666,
                          "#ed7953"
                        ],
                        [
                          0.7777777777777778,
                          "#fb9f3a"
                        ],
                        [
                          0.8888888888888888,
                          "#fdca26"
                        ],
                        [
                          1,
                          "#f0f921"
                        ]
                      ],
                      "sequentialminus": [
                        [
                          0,
                          "#0d0887"
                        ],
                        [
                          0.1111111111111111,
                          "#46039f"
                        ],
                        [
                          0.2222222222222222,
                          "#7201a8"
                        ],
                        [
                          0.3333333333333333,
                          "#9c179e"
                        ],
                        [
                          0.4444444444444444,
                          "#bd3786"
                        ],
                        [
                          0.5555555555555556,
                          "#d8576b"
                        ],
                        [
                          0.6666666666666666,
                          "#ed7953"
                        ],
                        [
                          0.7777777777777778,
                          "#fb9f3a"
                        ],
                        [
                          0.8888888888888888,
                          "#fdca26"
                        ],
                        [
                          1,
                          "#f0f921"
                        ]
                      ]
                    },
                    "colorway": [
                      "#636efa",
                      "#EF553B",
                      "#00cc96",
                      "#ab63fa",
                      "#FFA15A",
                      "#19d3f3",
                      "#FF6692",
                      "#B6E880",
                      "#FF97FF",
                      "#FECB52"
                    ],
                    "font": {
                      "color": "#2a3f5f"
                    },
                    "geo": {
                      "bgcolor": "white",
                      "lakecolor": "white",
                      "landcolor": "#E5ECF6",
                      "showlakes": true,
                      "showland": true,
                      "subunitcolor": "white"
                    },
                    "hoverlabel": {
                      "align": "left"
                    },
                    "hovermode": "closest",
                    "mapbox": {
                      "style": "light"
                    },
                    "paper_bgcolor": "white",
                    "plot_bgcolor": "#E5ECF6",
                    "polar": {
                      "angularaxis": {
                        "gridcolor": "white",
                        "linecolor": "white",
                        "ticks": ""
                      },
                      "bgcolor": "#E5ECF6",
                      "radialaxis": {
                        "gridcolor": "white",
                        "linecolor": "white",
                        "ticks": ""
                      }
                    },
                    "scene": {
                      "xaxis": {
                        "backgroundcolor": "#E5ECF6",
                        "gridcolor": "white",
                        "gridwidth": 2,
                        "linecolor": "white",
                        "showbackground": true,
                        "ticks": "",
                        "zerolinecolor": "white"
                      },
                      "yaxis": {
                        "backgroundcolor": "#E5ECF6",
                        "gridcolor": "white",
                        "gridwidth": 2,
                        "linecolor": "white",
                        "showbackground": true,
                        "ticks": "",
                        "zerolinecolor": "white"
                      },
                      "zaxis": {
                        "backgroundcolor": "#E5ECF6",
                        "gridcolor": "white",
                        "gridwidth": 2,
                        "linecolor": "white",
                        "showbackground": true,
                        "ticks": "",
                        "zerolinecolor": "white"
                      }
                    },
                    "shapedefaults": {
                      "line": {
                        "color": "#2a3f5f"
                      }
                    },
                    "ternary": {
                      "aaxis": {
                        "gridcolor": "white",
                        "linecolor": "white",
                        "ticks": ""
                      },
                      "baxis": {
                        "gridcolor": "white",
                        "linecolor": "white",
                        "ticks": ""
                      },
                      "bgcolor": "#E5ECF6",
                      "caxis": {
                        "gridcolor": "white",
                        "linecolor": "white",
                        "ticks": ""
                      }
                    },
                    "title": {
                      "x": 0.05
                    },
                    "xaxis": {
                      "automargin": true,
                      "gridcolor": "white",
                      "linecolor": "white",
                      "ticks": "",
                      "title": {
                        "standoff": 15
                      },
                      "zerolinecolor": "white",
                      "zerolinewidth": 2
                    },
                    "yaxis": {
                      "automargin": true,
                      "gridcolor": "white",
                      "linecolor": "white",
                      "ticks": "",
                      "title": {
                        "standoff": 15
                      },
                      "zerolinecolor": "white",
                      "zerolinewidth": 2
                    }
                  }
                },
                "title": {
                  "text": "Slice Plot"
                },
                "width": 1800,
                "xaxis": {
                  "anchor": "y",
                  "domain": [
                    0,
                    0.1388888888888889
                  ],
                  "title": {
                    "text": "early_stopping_rounds"
                  }
                },
                "xaxis2": {
                  "anchor": "y2",
                  "domain": [
                    0.17222222222222222,
                    0.3111111111111111
                  ],
                  "title": {
                    "text": "learning_rate"
                  },
                  "type": "log"
                },
                "xaxis3": {
                  "anchor": "y3",
                  "domain": [
                    0.34444444444444444,
                    0.48333333333333334
                  ],
                  "title": {
                    "text": "max_depth"
                  }
                },
                "xaxis4": {
                  "anchor": "y4",
                  "domain": [
                    0.5166666666666667,
                    0.6555555555555557
                  ],
                  "title": {
                    "text": "n_estimators"
                  }
                },
                "xaxis5": {
                  "anchor": "y5",
                  "domain": [
                    0.6888888888888889,
                    0.8277777777777777
                  ],
                  "title": {
                    "text": "subsample"
                  }
                },
                "xaxis6": {
                  "anchor": "y6",
                  "domain": [
                    0.861111111111111,
                    1
                  ],
                  "title": {
                    "text": "tree_min_samples_split"
                  }
                },
                "yaxis": {
                  "anchor": "x",
                  "domain": [
                    0,
                    1
                  ],
                  "title": {
                    "text": "Objective Value"
                  }
                },
                "yaxis2": {
                  "anchor": "x2",
                  "domain": [
                    0,
                    1
                  ],
                  "matches": "y",
                  "showticklabels": false
                },
                "yaxis3": {
                  "anchor": "x3",
                  "domain": [
                    0,
                    1
                  ],
                  "matches": "y",
                  "showticklabels": false
                },
                "yaxis4": {
                  "anchor": "x4",
                  "domain": [
                    0,
                    1
                  ],
                  "matches": "y",
                  "showticklabels": false
                },
                "yaxis5": {
                  "anchor": "x5",
                  "domain": [
                    0,
                    1
                  ],
                  "matches": "y",
                  "showticklabels": false
                },
                "yaxis6": {
                  "anchor": "x6",
                  "domain": [
                    0,
                    1
                  ],
                  "matches": "y",
                  "showticklabels": false
                }
              }
            }
          },
          "metadata": {},
          "output_type": "display_data"
        }
      ],
      "source": [
        "vis.plot_slice(study).show()"
      ]
    },
    {
      "cell_type": "markdown",
      "metadata": {
        "id": "7HgegfY_oUyW"
      },
      "source": [
        "### 3.2. Глубокая оптимизация (1 балл)\n",
        "\n",
        "Помимо эффективного перебора гиперпараметров, `optuna` предлагает более тонкий контроль над самой процедурой обучения. Улучшите процедуру оптимизации следующим образом:\n",
        "\n",
        "1. Посмотрите, как в `optuna` устроена запись в хранилища, и добавьте это в пайплайн оптимизации. Без указания БД все запуски оптуны сотрутся, как только закончится сессия. Более того, так можно распараллелить процесс оптимизации на несколько машин\n",
        "2. Посмотрите, как можно контролировать процесс обучения бустинга при помощи прунера. У библиотечных имплементаций есть уже готовые, их можно использовать пунктом ниже. Для кастомной модели возьмите что-то из `optuna.pruners`. Идея прунера — не обучать бустинг до конца, если по истории видно, что другие бустинги на этом этапе статистически лучше.\n",
        "3. Добавьте сохранение истории функции потерь и времени обучения в качестве `user_attribute` сразу в `study`. Мы не хотим оптимизировать их напрямую, но они нам понадобится для сравнения моделей в дальнейшем\n",
        "\n",
        "Добавьте хранилище и юзер атрибуты и посмотрите, ускорилась ли оптимизация с добавлением прунера"
      ]
    },
    {
      "cell_type": "code",
      "execution_count": null,
      "metadata": {},
      "outputs": [],
      "source": [
        "%autoreload 2\n",
        "\n",
        "from boosting import Boosting"
      ]
    },
    {
      "cell_type": "code",
      "execution_count": 155,
      "metadata": {},
      "outputs": [
        {
          "name": "stderr",
          "output_type": "stream",
          "text": [
            "[I 2024-12-22 21:22:15,703] Using an existing study with name 'boosting_optimization' instead of creating a new one.\n",
            "[I 2024-12-22 21:22:15,923] Trial 42 pruned. \n",
            "[I 2024-12-22 21:22:17,161] Trial 43 pruned. \n",
            "[I 2024-12-22 21:22:17,487] Trial 44 pruned. \n",
            "[I 2024-12-22 21:22:17,954] Trial 45 pruned. \n",
            "[I 2024-12-22 21:22:19,092] Trial 46 finished with value: 0.9365585836260698 and parameters: {'max_depth': 10, 'n_estimators': 388, 'learning_rate': 0.3464394110981917, 'subsample': 0.886058744216626, 'early_stopping_rounds': 5, 'tree_min_samples_split': 17}. Best is trial 38 with value: 0.9384786320283708.\n",
            "[I 2024-12-22 21:22:19,510] Trial 47 pruned. \n",
            "[I 2024-12-22 21:22:19,734] Trial 48 pruned. \n",
            "[I 2024-12-22 21:22:22,815] Trial 49 finished with value: 0.9387109056035401 and parameters: {'max_depth': 10, 'n_estimators': 303, 'learning_rate': 0.1516276613106076, 'subsample': 0.8093017598046751, 'early_stopping_rounds': 11, 'tree_min_samples_split': 11}. Best is trial 49 with value: 0.9387109056035401.\n",
            "[I 2024-12-22 21:22:23,212] Trial 50 pruned. \n",
            "[I 2024-12-22 21:22:23,524] Trial 51 pruned. \n",
            "[I 2024-12-22 21:22:23,762] Trial 52 pruned. \n",
            "[I 2024-12-22 21:22:24,101] Trial 53 pruned. \n",
            "[I 2024-12-22 21:22:24,472] Trial 54 pruned. \n",
            "[I 2024-12-22 21:22:26,076] Trial 55 finished with value: 0.9393646240161299 and parameters: {'max_depth': 10, 'n_estimators': 369, 'learning_rate': 0.23964840744467955, 'subsample': 0.7449883385404887, 'early_stopping_rounds': 11, 'tree_min_samples_split': 11}. Best is trial 55 with value: 0.9393646240161299.\n",
            "[I 2024-12-22 21:22:26,411] Trial 56 pruned. \n",
            "[I 2024-12-22 21:22:26,735] Trial 57 pruned. \n",
            "[I 2024-12-22 21:22:27,069] Trial 58 pruned. \n",
            "[I 2024-12-22 21:22:27,401] Trial 59 pruned. \n",
            "[I 2024-12-22 21:22:27,798] Trial 60 pruned. \n",
            "[I 2024-12-22 21:22:28,039] Trial 61 pruned. \n",
            "[I 2024-12-22 21:22:28,359] Trial 62 pruned. \n",
            "[I 2024-12-22 21:22:29,267] Trial 63 pruned. \n",
            "[I 2024-12-22 21:22:29,641] Trial 64 pruned. \n",
            "[I 2024-12-22 21:22:30,004] Trial 65 pruned. \n",
            "[I 2024-12-22 21:22:30,245] Trial 66 pruned. \n",
            "[I 2024-12-22 21:22:30,609] Trial 67 pruned. \n",
            "[I 2024-12-22 21:22:32,390] Trial 68 finished with value: 0.9373028967148854 and parameters: {'max_depth': 9, 'n_estimators': 380, 'learning_rate': 0.29155419027983664, 'subsample': 0.7664454213579808, 'early_stopping_rounds': 11, 'tree_min_samples_split': 11}. Best is trial 55 with value: 0.9393646240161299.\n",
            "[I 2024-12-22 21:22:32,713] Trial 69 pruned. \n",
            "[I 2024-12-22 21:22:33,051] Trial 70 pruned. \n",
            "[I 2024-12-22 21:22:35,037] Trial 71 finished with value: 0.9388741356589426 and parameters: {'max_depth': 10, 'n_estimators': 313, 'learning_rate': 0.27217478437189185, 'subsample': 0.6837929603557371, 'early_stopping_rounds': 11, 'tree_min_samples_split': 11}. Best is trial 55 with value: 0.9393646240161299.\n",
            "[I 2024-12-22 21:22:35,459] Trial 72 pruned. \n",
            "[I 2024-12-22 21:22:35,825] Trial 73 pruned. \n",
            "[I 2024-12-22 21:22:36,146] Trial 74 pruned. \n",
            "[I 2024-12-22 21:22:36,489] Trial 75 pruned. \n",
            "[I 2024-12-22 21:22:36,793] Trial 76 pruned. \n",
            "[I 2024-12-22 21:22:37,132] Trial 77 pruned. \n",
            "[I 2024-12-22 21:22:37,457] Trial 78 pruned. \n",
            "[I 2024-12-22 21:22:39,235] Trial 79 finished with value: 0.9377937841675625 and parameters: {'max_depth': 10, 'n_estimators': 278, 'learning_rate': 0.2013316303908909, 'subsample': 0.9732182976010921, 'early_stopping_rounds': 13, 'tree_min_samples_split': 11}. Best is trial 55 with value: 0.9393646240161299.\n",
            "[I 2024-12-22 21:22:39,661] Trial 80 pruned. \n",
            "[I 2024-12-22 21:22:40,078] Trial 81 pruned. \n"
          ]
        }
      ],
      "source": [
        "from optuna.pruners import MedianPruner \n",
        "import time\n",
        "\n",
        "study = optuna.create_study(\n",
        "    study_name=\"boosting_optimization\",\n",
        "    storage=\"sqlite:///my_optuna.db\",    \n",
        "    load_if_exists=True,                 \n",
        "    direction=\"maximize\",\n",
        "    pruner=MedianPruner(n_warmup_steps=5) \n",
        ")\n",
        "\n",
        "def objective(trial):\n",
        "    max_depth = trial.suggest_int(\"max_depth\", 2, 10)\n",
        "    n_estimators = trial.suggest_int(\"n_estimators\", 50, 500)\n",
        "    learning_rate = trial.suggest_float(\"learning_rate\", 0.01, 0.5, log=True)\n",
        "    subsample = trial.suggest_float(\"subsample\", 0.5, 1.0)\n",
        "    early_stopping_rounds = trial.suggest_int('early_stopping_rounds', 1, 13, step=2)\n",
        "    min_samples_split = trial.suggest_int('tree_min_samples_split', 5, 30, step=3)\n",
        "\n",
        "    model = Boosting(\n",
        "        base_model_params={\"max_depth\": max_depth, \"min_samples_split\": min_samples_split},\n",
        "        n_estimators=n_estimators,\n",
        "        learning_rate=learning_rate,\n",
        "        subsample=subsample,\n",
        "        bootstrap=True,\n",
        "        early_stopping_rounds=early_stopping_rounds,\n",
        "        eval_set=(X_valid, y_valid)\n",
        "    )\n",
        "    \n",
        "    start_time = time.time()\n",
        "\n",
        "    train_predictions = np.zeros_like(y_train, dtype=float)\n",
        "    best_val_score = -np.inf\n",
        "    rounds_without_improvement = 0\n",
        "\n",
        "    for i in range(n_estimators):\n",
        "        if model.bootstrap:\n",
        "            X_sample, y_sample = model.bootstrap_sample(X_train, y_train)\n",
        "            if train_predictions.shape[0] != y_sample.shape[0]:\n",
        "                train_predictions = np.zeros(y_sample.shape[0])\n",
        "        else:\n",
        "            X_sample, y_sample = X_train, y_train\n",
        "\n",
        "        X_sample = model._quantize_features(X_sample)\n",
        "        new_predictions = model.partial_fit(X_sample, y_sample, train_predictions)\n",
        "        train_predictions += model.learning_rate * model.gammas[-1] * new_predictions\n",
        "\n",
        "        train_loss = model.loss_fn(y_sample, train_predictions)\n",
        "        train_auc = roc_auc_score(y_sample, model.sigmoid(train_predictions))\n",
        "        model.history[\"train_loss\"].append(train_loss)\n",
        "        model.history[\"train_roc_auc\"].append(train_auc)\n",
        "\n",
        "        val_preds = model.predict_proba(X_valid)[:, 1]\n",
        "        val_auc = roc_auc_score(y_valid, val_preds)\n",
        "        model.history[\"val_roc_auc\"].append(val_auc)\n",
        "\n",
        "        if val_auc > best_val_score:\n",
        "            best_val_score = val_auc\n",
        "            rounds_without_improvement = 0\n",
        "        else:\n",
        "            rounds_without_improvement += 1\n",
        "        if rounds_without_improvement >= early_stopping_rounds:\n",
        "            break\n",
        "\n",
        "        trial.report(val_auc, i)     \n",
        "        if trial.should_prune():\n",
        "            raise optuna.TrialPruned()\n",
        "\n",
        "    end_time = time.time()\n",
        "\n",
        "    trial.set_user_attr(\"train_loss_history\", model.history[\"train_loss\"])\n",
        "    trial.set_user_attr(\"val_roc_auc_history\", model.history[\"val_roc_auc\"])\n",
        "    trial.set_user_attr(\"training_time\", end_time - start_time)\n",
        "\n",
        "    return best_val_score  \n",
        "\n",
        "study.optimize(objective, n_trials=40)"
      ]
    },
    {
      "cell_type": "code",
      "execution_count": 156,
      "metadata": {},
      "outputs": [
        {
          "name": "stdout",
          "output_type": "stream",
          "text": [
            "Best trial:\n",
            "Value: 0.9393646240161299\n",
            "Params:\n",
            "    max_depth: 10\n",
            "    n_estimators: 369\n",
            "    learning_rate: 0.23964840744467955\n",
            "    subsample: 0.7449883385404887\n",
            "    early_stopping_rounds: 11\n",
            "    tree_min_samples_split: 11\n"
          ]
        }
      ],
      "source": [
        "print(\"Best trial:\")\n",
        "best_trial = study.best_trial\n",
        "print(f\"Value: {best_trial.value}\")\n",
        "print(\"Params:\")\n",
        "for key, value in best_trial.params.items():\n",
        "    print(f\"    {key}: {value}\")"
      ]
    },
    {
      "cell_type": "code",
      "execution_count": 158,
      "metadata": {},
      "outputs": [
        {
          "data": {
            "text/plain": [
              "{'train_loss_history': [0.6612856883114722,\n",
              "  0.6518867665933913,\n",
              "  0.6440311012111628,\n",
              "  0.6358891960162649,\n",
              "  0.6275033951859654,\n",
              "  0.6208084023184381,\n",
              "  0.6148730419638344,\n",
              "  0.6093410035511273,\n",
              "  0.6041556184581893,\n",
              "  0.5989600213594242,\n",
              "  0.59469285326958,\n",
              "  0.5908309666253211,\n",
              "  0.5841658642536414,\n",
              "  0.582527105027194,\n",
              "  0.5797638098017452,\n",
              "  0.5751532129835351,\n",
              "  0.571736037064063,\n",
              "  0.569103048229489,\n",
              "  0.5657307756075376,\n",
              "  0.5634622938072453,\n",
              "  0.5622999742451691,\n",
              "  0.5601503373193816,\n",
              "  0.5566242662597649,\n",
              "  0.5541955550392464,\n",
              "  0.553837623988072,\n",
              "  0.5527623830492354,\n",
              "  0.5514412850778789,\n",
              "  0.5515148868400697,\n",
              "  0.5488718383672292],\n",
              " 'training_time': 1.5704739093780518,\n",
              " 'val_roc_auc_history': [0.8954573354948345,\n",
              "  0.923131814056622,\n",
              "  0.9305685594169374,\n",
              "  0.9338650881641846,\n",
              "  0.9353924266043439,\n",
              "  0.9365422207109807,\n",
              "  0.9378787915069288,\n",
              "  0.9378233172338213,\n",
              "  0.93785125391812,\n",
              "  0.9376644772288086,\n",
              "  0.9374326027491294,\n",
              "  0.937524394711825,\n",
              "  0.9371328820361533,\n",
              "  0.9380073002547027,\n",
              "  0.9388685483220828,\n",
              "  0.938734851332939,\n",
              "  0.9388350243009242,\n",
              "  0.9393646240161299,\n",
              "  0.9392636528571645,\n",
              "  0.9391582916478094,\n",
              "  0.9391123956664614,\n",
              "  0.9390696924490335,\n",
              "  0.938909655157551,\n",
              "  0.9390182091308259,\n",
              "  0.939060114157274,\n",
              "  0.9390026444067167,\n",
              "  0.939012621793966,\n",
              "  0.9388529835979738,\n",
              "  0.9388689474175728]}"
            ]
          },
          "execution_count": 158,
          "metadata": {},
          "output_type": "execute_result"
        }
      ],
      "source": [
        "best_trial.user_attrs"
      ]
    },
    {
      "cell_type": "markdown",
      "metadata": {},
      "source": [
        "Ускорилось прямо солидно"
      ]
    },
    {
      "cell_type": "markdown",
      "metadata": {
        "id": "5otyFtBkoUyW"
      },
      "source": [
        "### 3.3. Готовые реализации (1 балл)\n",
        "\n",
        "Библиотек для бустингов существует много, но активно используются лишь три. Ваша задача — попробовать их в деле, посмотреть на их уникальные фишки и понять, что вам нравится больше всего\n",
        "\n",
        "Возьмите любую из популярных библиотек: <font color='lightblue'>`xgboost`</font>, <font color='lightgreen'>`lightgbm`</font>, <font color='palegoldenrod'>`catboost`</font>.\n",
        "Ваша задача — взять одну из них, подобрать те же оптимальные параметры, что и выше, плюс что-то, что вам понравилось в них больше всего (может быть абсолютно любая фишка из пунктов выше или что-то, что вы найдете сами, не обязательно эксклюзивное), и сравнить две оптимизированные модели по\n",
        "- динамике функции потерь (на обучающей и на валидационной выборке)\n",
        "- времени обучения"
      ]
    },
    {
      "cell_type": "code",
      "execution_count": null,
      "metadata": {},
      "outputs": [],
      "source": [
        "np.random.rand(size),\n",
        "            \"feature_4\": np.random.rand(size),\n",
        "        }\n",
        "    )\n",
        "    y = (np.random.rand(size) > 0.5).astype(int)\n",
        "    return pd.concat([X, pd.Series(y, name=\"target\")], axis=1)\n",
        "\n",
        "def history_callback(env, train_history_list, valid_history_list):\n",
        "        train_history_list.append(env.evaluation_result_list[0][2])\n",
        "        valid_history_list.append(env.evaluation_result_list[1][2])\n",
        "\n",
        "def lgb_objective(trial, X_train, y_train, X_valid, y_valid, train_history_list, valid_history_list):\n",
        "    params = {\n",
        "        \"objective\": \"binary\",\n",
        "        \"metric\": \"auc\",\n",
        "        \"verbosity\": -1,\n",
        "        \"boosting_type\": \"gbdt\",\n",
        "        \"n_jobs\": -1,\n",
        "        \"max_depth\": trial.suggest_int(\"max_depth\", 2, 10),\n",
        "        \"num_leaves\": trial.suggest_int(\"num_leaves\", 7, 100),\n",
        "        \"learning_rate\": trial.suggest_float(\"learning_rate\", 0.01, 0.5, log=True),\n",
        "        \"subsample\": trial.suggest_float(\"subsample\", 0.5, 1.0),\n",
        "        \"colsample_bytree\": trial.suggest_float(\"colsample_bytree\", 0.5, 1.0),\n",
        "        \"min_child_samples\": trial.suggest_int(\"min_child_samples\", 5, 30),\n",
        "    }\n",
        "\n",
        "    num_boost_round = trial.suggest_int(\"n_estimators\", 50, 500)\n",
        "\n",
        "    dtrain = lgb.Dataset(X_train, label=y_train)\n",
        "    dvalid = lgb.Dataset(X_valid, label=y_valid)\n",
        "\n",
        "    start_time = time.time()\n",
        "    \n",
        "    pruning_callback = optuna.integration.LightGBMPruningCallback(\n",
        "        trial, \"auc\", valid_name=\"valid\"\n",
        "    )\n",
        "\n",
        "    model = lgb.train(\n",
        "        params,\n",
        "        dtrain,\n",
        "        valid_sets=[dtrain, dvalid],\n",
        "        valid_names=[\"train\", \"valid\"],\n",
        "        num_boost_round=num_boost_round,\n",
        "        callbacks=[pruning_callback, lambda env: history_callback(env, train_history_list, valid_history_list)],\n",
        "        verbose_eval=0\n",
        "    )\n",
        "    \n",
        "    end_time = time.time()\n",
        "\n",
        "    val_preds = model.predict(X_valid, num_iteration=model.best_iteration)\n",
        "    val_auc = roc_auc_score(y_valid, val_preds)\n",
        "\n",
        "    trial.set_user_attr(\"lgb_train_auc_history\", train_history_list)\n",
        "    trial.set_user_attr(\"lgb_valid_auc_history\", valid_history_list)\n",
        "    trial.set_user_attr(\"lgb_fit_time\", end_time - start_time)\n",
        "\n",
        "    return val_auc\n",
        "\n",
        "\n",
        "if __name__ == \"__main__\":\n",
        "    df = create_dataset(size=1000)\n",
        "    X = df.drop(\"target\", axis=1)\n",
        "    y = df[\"target\"]\n",
        "    X_train, X_valid, y_train, y_valid = train_test_split(\n",
        "        X, y, test_size=0.2, random_state=42\n",
        "    )\n",
        "    \n",
        "    study_lgb = optuna.create_study(\n",
        "        study_name=\"lgb_boosting_opt\",\n",
        "        storage=\"sqlite:///my_lightgbm.db\",\n",
        "        load_if_exists=True,\n",
        "        direction=\"maximize\",\n",
        "        pruner=MedianPruner(n_warmup_steps=5),\n",
        "    )\n",
        "    \n",
        "    train_history_list = []\n",
        "    valid_history_list = []\n",
        "\n",
        "    study_lgb.optimize(\n",
        "        lambda trial: lgb_objective(trial, X_train, y_train, X_valid, y_valid, train_history_list, valid_history_list),\n",
        "        n_trials=40,\n",
        "    )\n",
        "\n",
        "    print(\"Best trial:\", study_lgb.best_trial)\n",
        "    for trial in study_lgb.trials:\n",
        "        print(\n",
        "            f\"Trial {trial.number} train AUC history:\",\n",
        "            trial.user_attrs.get(\"lgb_train_auc_history\"),\n",
        "        )\n",
        "        print(\n",
        "            f\"Trial {trial.number} validation AUC history:\",\n",
        "            trial.user_attrs.get(\"lgb_valid_auc_history\"),\n",
        "        )\n",
        "        print(f\"Trial {trial.number} fit time:\", trial.user_attrs.get(\"lgb_fit_time\"))"
      ]
    },
    {
      "cell_type": "code",
      "execution_count": 218,
      "metadata": {
        "id": "nEaspH2NoUyW"
      },
      "outputs": [
        {
          "name": "stderr",
          "output_type": "stream",
          "text": [
            "[I 2024-12-22 22:26:30,758] Using an existing study with name 'lgb_boosting_opt' instead of creating a new one.\n",
            "[I 2024-12-22 22:26:31,174] Trial 167 pruned. Trial was pruned at iteration 5.\n",
            "[I 2024-12-22 22:26:31,253] Trial 168 pruned. Trial was pruned at iteration 5.\n",
            "[I 2024-12-22 22:26:31,326] Trial 169 pruned. Trial was pruned at iteration 5.\n",
            "[I 2024-12-22 22:26:31,398] Trial 170 pruned. Trial was pruned at iteration 5.\n",
            "[I 2024-12-22 22:26:31,547] Trial 171 pruned. Trial was pruned at iteration 20.\n",
            "[I 2024-12-22 22:26:31,663] Trial 172 pruned. Trial was pruned at iteration 13.\n",
            "[I 2024-12-22 22:26:31,781] Trial 173 pruned. Trial was pruned at iteration 13.\n",
            "[I 2024-12-22 22:26:31,856] Trial 174 pruned. Trial was pruned at iteration 5.\n",
            "[I 2024-12-22 22:26:31,934] Trial 175 pruned. Trial was pruned at iteration 5.\n",
            "[I 2024-12-22 22:26:32,012] Trial 176 pruned. Trial was pruned at iteration 5.\n",
            "[I 2024-12-22 22:26:32,421] Trial 177 finished with value: 0.9446713967464139 and parameters: {'max_depth': 7, 'num_leaves': 62, 'learning_rate': 0.4212124907828784, 'subsample': 0.8787854673704668, 'colsample_bytree': 0.6900197302746961, 'min_child_samples': 12, 'n_estimators': 67}. Best is trial 5 with value: 0.9470508040576837.\n",
            "[I 2024-12-22 22:26:32,538] Trial 178 pruned. Trial was pruned at iteration 12.\n",
            "[I 2024-12-22 22:26:32,952] Trial 179 finished with value: 0.9442335889939042 and parameters: {'max_depth': 7, 'num_leaves': 65, 'learning_rate': 0.46957483576542164, 'subsample': 0.9049208042958548, 'colsample_bytree': 0.6788050276424337, 'min_child_samples': 11, 'n_estimators': 74}. Best is trial 5 with value: 0.9470508040576837.\n",
            "[I 2024-12-22 22:26:33,322] Trial 180 finished with value: 0.9449399880111715 and parameters: {'max_depth': 7, 'num_leaves': 66, 'learning_rate': 0.39125866189915764, 'subsample': 0.9069642548513288, 'colsample_bytree': 0.6789593066349318, 'min_child_samples': 11, 'n_estimators': 56}. Best is trial 5 with value: 0.9470508040576837.\n",
            "[I 2024-12-22 22:26:33,419] Trial 181 pruned. Trial was pruned at iteration 6.\n",
            "[I 2024-12-22 22:26:33,498] Trial 182 pruned. Trial was pruned at iteration 5.\n",
            "[I 2024-12-22 22:26:33,572] Trial 183 pruned. Trial was pruned at iteration 5.\n",
            "[I 2024-12-22 22:26:33,655] Trial 184 pruned. Trial was pruned at iteration 5.\n",
            "[I 2024-12-22 22:26:33,750] Trial 185 pruned. Trial was pruned at iteration 5.\n",
            "[I 2024-12-22 22:26:33,830] Trial 186 pruned. Trial was pruned at iteration 5.\n",
            "[I 2024-12-22 22:26:34,048] Trial 187 pruned. Trial was pruned at iteration 12.\n",
            "[I 2024-12-22 22:26:34,203] Trial 188 pruned. Trial was pruned at iteration 5.\n",
            "[I 2024-12-22 22:26:34,291] Trial 189 pruned. Trial was pruned at iteration 5.\n",
            "[I 2024-12-22 22:26:34,429] Trial 190 pruned. Trial was pruned at iteration 10.\n",
            "[I 2024-12-22 22:26:34,500] Trial 191 pruned. Trial was pruned at iteration 5.\n",
            "[I 2024-12-22 22:26:34,590] Trial 192 pruned. Trial was pruned at iteration 5.\n",
            "[I 2024-12-22 22:26:34,681] Trial 193 pruned. Trial was pruned at iteration 5.\n",
            "[I 2024-12-22 22:26:34,770] Trial 194 pruned. Trial was pruned at iteration 5.\n",
            "[I 2024-12-22 22:26:34,855] Trial 195 pruned. Trial was pruned at iteration 5.\n",
            "[I 2024-12-22 22:26:34,934] Trial 196 pruned. Trial was pruned at iteration 5.\n",
            "[I 2024-12-22 22:26:35,015] Trial 197 pruned. Trial was pruned at iteration 5.\n",
            "[I 2024-12-22 22:26:35,094] Trial 198 pruned. Trial was pruned at iteration 5.\n",
            "[I 2024-12-22 22:26:35,186] Trial 199 pruned. Trial was pruned at iteration 7.\n",
            "[I 2024-12-22 22:26:35,263] Trial 200 pruned. Trial was pruned at iteration 5.\n",
            "[I 2024-12-22 22:26:35,371] Trial 201 pruned. Trial was pruned at iteration 10.\n",
            "[I 2024-12-22 22:26:35,467] Trial 202 pruned. Trial was pruned at iteration 7.\n",
            "[I 2024-12-22 22:26:35,554] Trial 203 pruned. Trial was pruned at iteration 5.\n",
            "[I 2024-12-22 22:26:35,645] Trial 204 pruned. Trial was pruned at iteration 7.\n",
            "[I 2024-12-22 22:26:35,731] Trial 205 pruned. Trial was pruned at iteration 5.\n",
            "[I 2024-12-22 22:26:35,809] Trial 206 pruned. Trial was pruned at iteration 5.\n"
          ]
        }
      ],
      "source": [
        "import lightgbm as lgb\n",
        "\n",
        "def history_callback(env, train_history_list, valid_history_list):\n",
        "    train_history_list.append(env.evaluation_result_list[0][2])\n",
        "    valid_history_list.append(env.evaluation_result_list[1][2])\n",
        "\n",
        "def lgb_objective(trial, X_train, y_train, X_valid, y_valid, train_history_list, valid_history_list):\n",
        "   \n",
        "    params = {\n",
        "        \"objective\": \"binary\",\n",
        "        \"metric\": \"auc\",\n",
        "        \"verbosity\": -1,\n",
        "        \"boosting_type\": \"gbdt\", \n",
        "        \"n_jobs\": -1,\n",
        "        \"max_depth\": trial.suggest_int(\"max_depth\", 2, 10),\n",
        "        \"num_leaves\": trial.suggest_int(\"num_leaves\", 7, 100),\n",
        "        \"learning_rate\": trial.suggest_float(\"learning_rate\", 0.01, 0.5, log=True),\n",
        "        \"subsample\": trial.suggest_float(\"subsample\", 0.5, 1.0),\n",
        "        \"colsample_bytree\": trial.suggest_float(\"colsample_bytree\", 0.5, 1.0),\n",
        "        \"min_child_samples\": trial.suggest_int(\"min_child_samples\", 5, 30),\n",
        "    }\n",
        "\n",
        "    num_boost_round = trial.suggest_int(\"n_estimators\", 50, 500)\n",
        "\n",
        "    dtrain = lgb.Dataset(X_train, label=y_train)\n",
        "    dvalid = lgb.Dataset(X_valid, label=y_valid)\n",
        "\n",
        "    start_time = time.time()\n",
        "\n",
        "    pruning_callback = optuna.integration.LightGBMPruningCallback(trial, \"auc\", valid_name=\"valid\")\n",
        "        \n",
        "    model = lgb.train(\n",
        "        params,\n",
        "        dtrain,\n",
        "        valid_sets=[dtrain, dvalid],\n",
        "        valid_names=[\"train\",\"valid\"],\n",
        "        num_boost_round=num_boost_round,\n",
        "        callbacks=[pruning_callback, lambda env: history_callback(env, train_history_list, valid_history_list)]\n",
        "    )\n",
        "\n",
        "    end_time = time.time()\n",
        "\n",
        "    val_preds = model.predict(X_valid, num_iteration=model.best_iteration)\n",
        "    val_auc = roc_auc_score(y_valid, val_preds)\n",
        "\n",
        "    trial.set_user_attr(\"lgb_train_auc_history\", train_history_list)\n",
        "    trial.set_user_attr(\"lgb_valid_auc_history\", valid_history_list)\n",
        "    trial.set_user_attr(\"lgb_fit_time\", end_time - start_time)\n",
        "\n",
        "    return val_auc\n",
        "\n",
        "\n",
        "study_lgb = optuna.create_study(\n",
        "    study_name=\"lgb_boosting_opt\",\n",
        "    storage=\"sqlite:///my_lightgbm.db\",\n",
        "    load_if_exists=True,\n",
        "    direction=\"maximize\",\n",
        "    pruner=MedianPruner(n_warmup_steps=5)\n",
        ")\n",
        "\n",
        "train_history_list = []\n",
        "valid_history_list = []\n",
        "\n",
        "study_lgb.optimize(lambda trial: lgb_objective(trial, X_train, y_train, X_valid, y_valid, train_history_list, valid_history_list), n_trials=40)"
      ]
    },
    {
      "cell_type": "code",
      "execution_count": 219,
      "metadata": {},
      "outputs": [
        {
          "name": "stdout",
          "output_type": "stream",
          "text": [
            "Best trial LightGBM:\n",
            "Value: 0.9470508040576837\n",
            "Params:\n",
            "    max_depth: 9\n",
            "    num_leaves: 16\n",
            "    learning_rate: 0.04215351676359419\n",
            "    subsample: 0.6805915962059464\n",
            "    colsample_bytree: 0.8622821620008154\n",
            "    min_child_samples: 23\n",
            "    n_estimators: 369\n"
          ]
        }
      ],
      "source": [
        "print(\"Best trial LightGBM:\")\n",
        "best_trial_lgb = study_lgb.best_trial\n",
        "print(f\"Value: {best_trial_lgb.value}\")\n",
        "print(\"Params:\")\n",
        "for key, value in best_trial_lgb.params.items():\n",
        "    print(f\"    {key}: {value}\")"
      ]
    },
    {
      "cell_type": "code",
      "execution_count": 220,
      "metadata": {},
      "outputs": [
        {
          "name": "stdout",
          "output_type": "stream",
          "text": [
            "Time Comparison\n",
            "\n",
            "Boosting: 1.5704739093780518\n",
            "LightGBM: 2.120002031326294\n"
          ]
        }
      ],
      "source": [
        "print(f\"Time Comparison\\n\")\n",
        "print(f\"Boosting: {best_trial.user_attrs[\"training_time\"]}\")\n",
        "print(f\"LightGBM: {best_trial_lgb.user_attrs[\"lgb_fit_time\"]}\")"
      ]
    },
    {
      "cell_type": "code",
      "execution_count": 224,
      "metadata": {},
      "outputs": [
        {
          "data": {
            "image/png": "[encoded data removed]",
            "text/plain": [
              "<Figure size 1000x600 with 1 Axes>"
            ]
          },
          "metadata": {},
          "output_type": "display_data"
        }
      ],
      "source": [
        "plt.figure(figsize=(10, 6))\n",
        "plt.plot(best_trial.user_attrs['train_loss_history'], label=\"Boosting (on train)\", color=\"blue\")\n",
        "#plt.plot(best_trial_lgb.user_attrs['val_roc_auc_history'], label=\"Boosting (on valid)\", color=\"orange\")\n",
        "plt.title(\"Validation Loss Over Iterations\")\n",
        "plt.xlabel(\"Iteration\")\n",
        "plt.ylabel(\"Validation Loss\")\n",
        "plt.legend()\n",
        "plt.show()"
      ]
    },
    {
      "cell_type": "markdown",
      "metadata": {
        "id": "0PVp7CgjoUyX"
      },
      "source": [
        "<font color='plum'>**Вопрос:** Какая архитектура вам нравится больше всего и почему?</font>\n",
        "\n",
        "<font color='plum'>**Ответ**: Очевидно та, с которой проще))\n",
        "катбуст например меньше требует ручной настройки параметров, чем LightGBM, и при этом даёт приличные результаты, но мне интереснее показалось оставить вариант с LightGBM. Грустро правда, что нельзя встроенным образом историю вытащить, как в катбусте. А вообще с прунером все приятнее оказалось </font>"
      ]
    },
    {
      "cell_type": "markdown",
      "metadata": {
        "id": "VSOceQUzoUyX"
      },
      "source": [
        "### Бонус. Random Forest (0.5 балла)\n",
        "\n",
        "Если очень захотеть, оптуна может оптимизировать все, что угодно, даже нейросети. Давайте противопоставим бустингу его злейшего врага — алгоритм Random Forest.\n",
        "\n",
        "Возьмите реализацию случайного леса из <font color='lightgreen'>`lightgbm`</font>. Посмотрите, какие там есть гиперпараметры, переберите что-либо из них вместе с `max_depth` и `n_estimators`.\n",
        "\n",
        "Сравните его качество и динамику функции потерь (на обучающей и на валидационной выборке) с таковыми у бустинга и сделайте вывод, а нужен ли Random Forest?"
      ]
    },
    {
      "cell_type": "code",
      "execution_count": 192,
      "metadata": {
        "id": "dgVsaIZXoUya"
      },
      "outputs": [
        {
          "name": "stderr",
          "output_type": "stream",
          "text": [
            "[I 2024-12-22 21:59:13,704] Using an existing study with name 'lgb_random_forest_opt' instead of creating a new one.\n",
            "[I 2024-12-22 21:59:14,144] Trial 2 finished with value: 0.9358170642056842 and parameters: {'num_leaves': 57, 'max_depth': 6, 'bagging_fraction': 0.6247044433856651, 'feature_fraction': 0.7147491722834275, 'n_estimators': 57}. Best is trial 2 with value: 0.9358170642056842.\n",
            "[I 2024-12-22 21:59:16,837] Trial 3 finished with value: 0.9401723932878524 and parameters: {'num_leaves': 69, 'max_depth': 13, 'bagging_fraction': 0.7028343926249307, 'feature_fraction': 0.5552964104487599, 'n_estimators': 309}. Best is trial 3 with value: 0.9401723932878524.\n",
            "[I 2024-12-22 21:59:20,432] Trial 4 finished with value: 0.9307242066580304 and parameters: {'num_leaves': 38, 'max_depth': 5, 'bagging_fraction': 0.6053758010262125, 'feature_fraction': 0.8909663877572721, 'n_estimators': 495}. Best is trial 3 with value: 0.9401723932878524.\n",
            "[I 2024-12-22 21:59:21,103] Trial 5 finished with value: 0.93418196998323 and parameters: {'num_leaves': 53, 'max_depth': 9, 'bagging_fraction': 0.6017285792313344, 'feature_fraction': 0.9761998285838431, 'n_estimators': 121}. Best is trial 3 with value: 0.9401723932878524.\n",
            "[I 2024-12-22 21:59:23,194] Trial 6 finished with value: 0.9382986399623893 and parameters: {'num_leaves': 89, 'max_depth': 8, 'bagging_fraction': 0.9528844387430422, 'feature_fraction': 0.7848426204248102, 'n_estimators': 283}. Best is trial 3 with value: 0.9401723932878524.\n",
            "[I 2024-12-22 21:59:24,069] Trial 7 finished with value: 0.9380611781458502 and parameters: {'num_leaves': 55, 'max_depth': 8, 'bagging_fraction': 0.5369125818201467, 'feature_fraction': 0.6273136157727051, 'n_estimators': 148}. Best is trial 3 with value: 0.9401723932878524.\n",
            "[I 2024-12-22 21:59:24,115] Trial 8 pruned. Trial was pruned at iteration 5.\n",
            "[I 2024-12-22 21:59:24,160] Trial 9 pruned. Trial was pruned at iteration 5.\n",
            "[I 2024-12-22 21:59:24,218] Trial 10 pruned. Trial was pruned at iteration 5.\n",
            "[I 2024-12-22 21:59:24,291] Trial 11 pruned. Trial was pruned at iteration 5.\n",
            "[I 2024-12-22 21:59:24,355] Trial 12 pruned. Trial was pruned at iteration 5.\n",
            "[I 2024-12-22 21:59:26,167] Trial 13 finished with value: 0.9390980282288222 and parameters: {'num_leaves': 89, 'max_depth': 12, 'bagging_fraction': 0.8056301807645456, 'feature_fraction': 0.8186202827699506, 'n_estimators': 246}. Best is trial 3 with value: 0.9401723932878524.\n",
            "[I 2024-12-22 21:59:26,639] Trial 14 pruned. Trial was pruned at iteration 69.\n",
            "[I 2024-12-22 21:59:28,436] Trial 15 finished with value: 0.9407331224512764 and parameters: {'num_leaves': 93, 'max_depth': 15, 'bagging_fraction': 0.8735708126487088, 'feature_fraction': 0.6496259437096565, 'n_estimators': 234}. Best is trial 15 with value: 0.9407331224512764.\n",
            "[I 2024-12-22 21:59:28,496] Trial 16 pruned. Trial was pruned at iteration 5.\n",
            "[I 2024-12-22 21:59:28,570] Trial 17 pruned. Trial was pruned at iteration 5.\n",
            "[I 2024-12-22 21:59:28,636] Trial 18 pruned. Trial was pruned at iteration 5.\n",
            "[I 2024-12-22 21:59:30,056] Trial 19 finished with value: 0.9398814526756558 and parameters: {'num_leaves': 70, 'max_depth': 11, 'bagging_fraction': 0.7042700458189193, 'feature_fraction': 0.6863043532656556, 'n_estimators': 213}. Best is trial 15 with value: 0.9407331224512764.\n",
            "[I 2024-12-22 21:59:30,129] Trial 20 pruned. Trial was pruned at iteration 5.\n",
            "[I 2024-12-22 21:59:30,211] Trial 21 pruned. Trial was pruned at iteration 10.\n",
            "[I 2024-12-22 21:59:32,606] Trial 22 finished with value: 0.9402721671603477 and parameters: {'num_leaves': 97, 'max_depth': 13, 'bagging_fraction': 0.9240434677578099, 'feature_fraction': 0.7492958578644334, 'n_estimators': 251}. Best is trial 15 with value: 0.9407331224512764.\n",
            "[I 2024-12-22 21:59:34,769] Trial 23 finished with value: 0.9399644645375721 and parameters: {'num_leaves': 98, 'max_depth': 13, 'bagging_fraction': 0.9173014965044707, 'feature_fraction': 0.7705827904433316, 'n_estimators': 260}. Best is trial 15 with value: 0.9407331224512764.\n",
            "[I 2024-12-22 21:59:35,983] Trial 24 finished with value: 0.9412315927182632 and parameters: {'num_leaves': 116, 'max_depth': 14, 'bagging_fraction': 0.849755163445438, 'feature_fraction': 0.696457669097174, 'n_estimators': 166}. Best is trial 24 with value: 0.9412315927182632.\n",
            "[I 2024-12-22 21:59:37,159] Trial 25 finished with value: 0.9408608330080704 and parameters: {'num_leaves': 117, 'max_depth': 14, 'bagging_fraction': 0.8298357431349752, 'feature_fraction': 0.7397522038922328, 'n_estimators': 160}. Best is trial 24 with value: 0.9412315927182632.\n",
            "[I 2024-12-22 21:59:38,594] Trial 26 finished with value: 0.9412918561372506 and parameters: {'num_leaves': 120, 'max_depth': 15, 'bagging_fraction': 0.8196432589680734, 'feature_fraction': 0.6986465312391127, 'n_estimators': 167}. Best is trial 26 with value: 0.9412918561372506.\n",
            "[I 2024-12-22 21:59:39,819] Trial 27 finished with value: 0.9412579330206022 and parameters: {'num_leaves': 116, 'max_depth': 14, 'bagging_fraction': 0.825512810085829, 'feature_fraction': 0.7002392800702832, 'n_estimators': 156}. Best is trial 26 with value: 0.9412918561372506.\n",
            "[I 2024-12-22 21:59:39,894] Trial 28 pruned. Trial was pruned at iteration 5.\n",
            "[I 2024-12-22 21:59:40,536] Trial 29 finished with value: 0.9404713158098486 and parameters: {'num_leaves': 116, 'max_depth': 14, 'bagging_fraction': 0.8322959383490705, 'feature_fraction': 0.8112439783544739, 'n_estimators': 84}. Best is trial 26 with value: 0.9412918561372506.\n",
            "[I 2024-12-22 21:59:40,601] Trial 30 pruned. Trial was pruned at iteration 5.\n",
            "[I 2024-12-22 21:59:41,040] Trial 31 finished with value: 0.9414451088054036 and parameters: {'num_leaves': 109, 'max_depth': 12, 'bagging_fraction': 0.828406557172647, 'feature_fraction': 0.7057374386198279, 'n_estimators': 52}. Best is trial 31 with value: 0.9414451088054036.\n"
          ]
        }
      ],
      "source": [
        "def lgb_rf_objective(trial):\n",
        "    params = {\n",
        "        \"objective\": \"binary\",\n",
        "        \"metric\": \"auc\",\n",
        "        \"boosting_type\": \"rf\", \n",
        "        \"n_jobs\": -1,\n",
        "        \"num_leaves\": trial.suggest_int(\"num_leaves\", 7, 128),\n",
        "        \"max_depth\": trial.suggest_int(\"max_depth\", 2, 15),\n",
        "        \"bagging_fraction\": trial.suggest_float(\"bagging_fraction\", 0.5, 1.0),\n",
        "        \"bagging_freq\": 1,  \n",
        "        \"feature_fraction\": trial.suggest_float(\"feature_fraction\", 0.5, 1.0),\n",
        "    }\n",
        "    num_boost_round = trial.suggest_int(\"n_estimators\", 50, 500)\n",
        "\n",
        "    dtrain = lgb.Dataset(X_train, label=y_train)\n",
        "    dvalid = lgb.Dataset(X_valid, label=y_valid)\n",
        "\n",
        "    train_history_list = []\n",
        "    valid_history_list = []\n",
        "    \n",
        "    def history_callback(env):\n",
        "        train_history_list.append(env.evaluation_result_list[0][2])\n",
        "        valid_history_list.append(env.evaluation_result_list[1][2])\n",
        "        \n",
        "    pruning_callback = optuna.integration.LightGBMPruningCallback(trial, \"auc\", valid_name=\"valid\")\n",
        "\n",
        "    model = lgb.train(\n",
        "        params,\n",
        "        dtrain,\n",
        "        valid_sets=[dtrain, dvalid],\n",
        "        valid_names=[\"train\",\"valid\"],\n",
        "        num_boost_round=num_boost_round,\n",
        "        callbacks=[pruning_callback]\n",
        "    )\n",
        "\n",
        "    val_preds = model.predict(X_valid)\n",
        "    val_auc = roc_auc_score(y_valid, val_preds)\n",
        "\n",
        "    trial.set_user_attr(\"rf_train_auc_history\", train_history_list)\n",
        "    trial.set_user_attr(\"rf_valid_auc_history\", valid_history_list)\n",
        "\n",
        "    return val_auc\n",
        "\n",
        "\n",
        "study_rf = optuna.create_study(\n",
        "    study_name=\"lgb_random_forest_opt\",\n",
        "    storage=\"sqlite:///my_lgb_rf.db\",\n",
        "    load_if_exists=True,\n",
        "    direction=\"maximize\",\n",
        "    pruner=MedianPruner(n_warmup_steps=5)\n",
        ")\n",
        "\n",
        "study_rf.optimize(lgb_rf_objective, n_trials=30)"
      ]
    },
    {
      "cell_type": "code",
      "execution_count": 193,
      "metadata": {},
      "outputs": [
        {
          "name": "stdout",
          "output_type": "stream",
          "text": [
            "Best trial RandomForest (LightGBM):\n",
            "Value: 0.9414451088054036\n",
            "Params:\n",
            "    num_leaves: 109\n",
            "    max_depth: 12\n",
            "    bagging_fraction: 0.828406557172647\n",
            "    feature_fraction: 0.7057374386198279\n",
            "    n_estimators: 52\n"
          ]
        }
      ],
      "source": [
        "print(\"Best trial RandomForest (LightGBM):\")\n",
        "best_trial_rf = study_rf.best_trial\n",
        "print(f\"Value: {best_trial_rf.value}\")\n",
        "print(\"Params:\")\n",
        "for key, value in best_trial_rf.params.items():\n",
        "    print(f\"    {key}: {value}\") "
      ]
    },
    {
      "cell_type": "markdown",
      "metadata": {},
      "source": [
        "Справедливости ради результат получился лучше не на случайном лесе, что в целом ожидаемо. В контексте нашей задачи лучше без него (но вообще много где полезным бывает)"
      ]
    },
    {
      "cell_type": "markdown",
      "metadata": {
        "id": "4_dPeCFvoUya",
        "pycharm": {
          "name": "#%% md\n"
        }
      },
      "source": [
        "### 3.4. Бустинг и вероятности (0.5 балла)\n",
        "\n",
        "С качеством мы более-менее разобрались, но что насчет вероятностей? Постройте калибровочную кривую для вашей лучшей модели бустинга. Насколько хорошо бустинг оценивает вероятности?"
      ]
    },
    {
      "cell_type": "code",
      "execution_count": 179,
      "metadata": {},
      "outputs": [],
      "source": [
        "#взяла реализацию из дз 4\n",
        "def plot_calibration_curve(y_test, preds, label):\n",
        "    bin_middle_points = []\n",
        "    bin_real_ratios = []\n",
        "    n_bins = 10\n",
        "    for i in range(n_bins):\n",
        "        l = 1.0 / n_bins * i\n",
        "        r = 1.0 / n_bins * (i + 1)\n",
        "        bin_middle_points.append((l + r) / 2)  \n",
        "        bin_data = np.mean(y_test[(preds >= l) & (preds < r)] == 1)\n",
        "        bin_real_ratios.append(bin_data)\n",
        "\n",
        "    diag = np.linspace(0, 1, 100)\n",
        "    plt.plot(diag, diag, linestyle=\"dashed\")\n",
        "    plt.plot(bin_middle_points, bin_real_ratios, label=label, linestyle=\"solid\")\n",
        "    plt.ylim([-0.05, 1.05])\n",
        "    plt.grid()"
      ]
    },
    {
      "cell_type": "code",
      "execution_count": 171,
      "metadata": {},
      "outputs": [
        {
          "name": "stdout",
          "output_type": "stream",
          "text": [
            "Early stopping after 8 iterations.\n"
          ]
        }
      ],
      "source": [
        "best = Boosting(n_estimators=study.best_trial.params[\"n_estimators\"],\n",
        "                learning_rate=study.best_trial.params[\"learning_rate\"],\n",
        "                subsample=study.best_trial.params[\"subsample\"],\n",
        "                early_stopping_rounds=study.best_trial.params[\"early_stopping_rounds\"],\n",
        "                eval_set = (X_valid, y_valid),\n",
        "                base_model_params= {\n",
        "                    'max_depth': study.best_trial.params['max_depth'],\n",
        "                    'min_samples_split': study.best_trial.params['tree_min_samples_split']\n",
        "                })\n",
        "\n",
        "best_boosting.fit(X_train, y_train)"
      ]
    },
    {
      "cell_type": "code",
      "execution_count": 226,
      "metadata": {
        "id": "L7G-nV7ioUya",
        "pycharm": {
          "name": "#%%\n"
        }
      },
      "outputs": [],
      "source": [
        "from sklearn.linear_model import LogisticRegression\n",
        "\n",
        "boosting_pred = best_boosting.predict_proba(X_test)[:, 1]\n",
        "\n",
        "lr = LogisticRegression(max_iter=100000).fit(X_train, y_train)\n",
        "lr_pred = lr.predict_proba(X_test)[:, 1]"
      ]
    },
    {
      "cell_type": "code",
      "execution_count": 227,
      "metadata": {},
      "outputs": [
        {
          "data": {
            "image/png": "[encoded data removed]",
            "text/plain": [
              "<Figure size 640x480 with 1 Axes>"
            ]
          },
          "metadata": {},
          "output_type": "display_data"
        }
      ],
      "source": [
        "plot_calibration_curve(y_test, boosting_pred, label=\"Boosting\")\n",
        "plt.title(\"Boosting\")\n",
        "plt.grid()\n",
        "plt.show()"
      ]
    },
    {
      "cell_type": "markdown",
      "metadata": {
        "id": "-_bQbOIdw9Ia"
      },
      "source": [
        "\n",
        "Постройте также калибровочную кривую для логистической регрессии, сравните их между собой. Проанализируйте полученные результаты."
      ]
    },
    {
      "cell_type": "code",
      "execution_count": 228,
      "metadata": {
        "id": "gZq3sd3Lw-R6"
      },
      "outputs": [
        {
          "data": {
            "image/png": "[encoded data removed]",
            "text/plain": [
              "<Figure size 640x480 with 1 Axes>"
            ]
          },
          "metadata": {},
          "output_type": "display_data"
        }
      ],
      "source": [
        "plot_calibration_curve(y_test, lr_pred, label=\"Logreg\")\n",
        "plt.title(\"Logreg\")\n",
        "plt.grid()\n",
        "plt.show()"
      ]
    },
    {
      "cell_type": "markdown",
      "metadata": {},
      "source": [
        "Кажется, что бустинг лучше SVM, но все еще значительно хуже логистической регресии - отклонения от идеальной калибровки получаются сильные. Получается, бустинг (по крайней мере, мой) не очень хорошо справляется с оценкой вероятностей"
      ]
    },
    {
      "cell_type": "markdown",
      "metadata": {
        "collapsed": false,
        "id": "uFVT_nokoUyb",
        "jupyter": {
          "outputs_hidden": false
        },
        "pycharm": {
          "name": "#%% md\n"
        }
      },
      "source": [
        "## Социализационный бонус. Новогоднее 🎆 (0.5 балла)\n",
        "\n",
        "Сфотографируйтесь с наряженной новогодней или рождественской ёлкой! Приложите фотографию, опишите свои впечатления, чего вы ждете от нового 2025 года?"
      ]
    },
    {
      "cell_type": "markdown",
      "metadata": {
        "id": "W2Ur9BXYoUyb"
      },
      "source": [
        "# *𖣂♱𖠰𖣂↟*𖠰ᨒ↟*𖥧˚*𖣂♱𖠰𖣂↟*𖠰ᨒ↟*𖥧˚*𖣂♱𖠰𖣂↟*𖠰ᨒ↟*𖥧˚*𖣂♱𖠰𖣂↟*𖠰ᨒ↟*𖥧˚*𖣂♱𖠰𖣂↟*𖠰ᨒ↟*𖥧˚"
      ]
    },
    {
      "cell_type": "markdown",
      "metadata": {},
      "source": [
        "![picture](/Users/polinaryltseva/Downloads/IMG_0909.jpeg)"
      ]
    },
    {
      "cell_type": "markdown",
      "metadata": {},
      "source": [
        "От нового года я жду сна, желательно даже с 25 числа (спасибо)\n",
        "\n",
        "Желаю всего доброго и уютного проверяющим это в сессию! Сил"
      ]
    }
  ],
  "metadata": {
    "colab": {
      "provenance": []
    },
    "kernelspec": {
      "display_name": "Python 3 (ipykernel)",
      "language": "python",
      "name": "python3"
    },
    "language_info": {
      "codemirror_mode": {
        "name": "ipython",
        "version": 3
      },
      "file_extension": ".py",
      "mimetype": "text/x-python",
      "name": "python",
      "nbconvert_exporter": "python",
      "pygments_lexer": "ipython3",
      "version": "3.12.2"
    },
    "nbTranslate": {
      "displayLangs": [
        "*"
      ],
      "hotkey": "alt-t",
      "langInMainMenu": true,
      "sourceLang": "en",
      "targetLang": "fr",
      "useGoogleTranslate": true
    },
    "toc": {
      "base_numbering": 1,
      "nav_menu": {
        "height": "210px",
        "width": "492px"
      },
      "number_sections": false,
      "sideBar": true,
      "skip_h1_title": false,
      "title_cell": "Table of Contents",
      "title_sidebar": "Contents",
      "toc_cell": false,
      "toc_position": {},
      "toc_section_display": true,
      "toc_window_display": true
    },
    "varInspector": {
      "cols": {
        "lenName": 16,
        "lenType": 16,
        "lenVar": 40
      },
      "kernels_config": {
        "python": {
          "delete_cmd_postfix": "",
          "delete_cmd_prefix": "del ",
          "library": "var_list.py",
          "varRefreshCmd": "print(var_dic_list())"
        },
        "r": {
          "delete_cmd_postfix": ") ",
          "delete_cmd_prefix": "rm(",
          "library": "var_list.r",
          "varRefreshCmd": "cat(var_dic_list()) "
        }
      },
      "types_to_exclude": [
        "module",
        "function",
        "builtin_function_or_method",
        "instance",
        "_Feature"
      ],
      "window_display": false
    }
  },
  "nbformat": 4,
  "nbformat_minor": 0
}
